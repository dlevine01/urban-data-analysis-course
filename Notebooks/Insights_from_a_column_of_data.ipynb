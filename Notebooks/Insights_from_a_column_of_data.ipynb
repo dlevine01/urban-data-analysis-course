{
 "cells": [
  {
   "cell_type": "markdown",
   "metadata": {},
   "source": [
    "# Week 2: Data types and insights from a column of data\n",
    "\n",
    "We can learn a lot from exploring a single column of data.\n",
    "\n",
    "This notebook walks through identifying and fixing data types, selecting columns, computing summary statistics, and interpreting the results."
   ]
  },
  {
   "cell_type": "code",
   "execution_count": 2,
   "metadata": {},
   "outputs": [],
   "source": [
    "import pandas as pd"
   ]
  },
  {
   "cell_type": "markdown",
   "metadata": {},
   "source": [
    "### 1. NYC street trees"
   ]
  },
  {
   "cell_type": "markdown",
   "metadata": {},
   "source": [
    "These are records of street trees maintained by NYC Parks, from [NYC OpenData](https://data.cityofnewyork.us/Environment/Forestry-Tree-Points/hn5i-inap/about_data)"
   ]
  },
  {
   "cell_type": "code",
   "execution_count": 4,
   "metadata": {},
   "outputs": [],
   "source": [
    "trees = pd.read_csv(\n",
    "    'https://data.cityofnewyork.us/api/views/hn5i-inap/rows.csv?accessType=DOWNLOAD',\n",
    "    usecols=[\n",
    "        'OBJECTID',\n",
    "        'GenusSpecies',\n",
    "        'DBH',\n",
    "        'StumpDiameter',\n",
    "        'TPStructure',\n",
    "        'TPCondition',\n",
    "        'Location',\n",
    "        'PlantedDate'\n",
    "    ]\n",
    ")"
   ]
  },
  {
   "cell_type": "code",
   "execution_count": 10,
   "metadata": {},
   "outputs": [
    {
     "data": {
      "text/html": [
       "<div>\n",
       "<style scoped>\n",
       "    .dataframe tbody tr th:only-of-type {\n",
       "        vertical-align: middle;\n",
       "    }\n",
       "\n",
       "    .dataframe tbody tr th {\n",
       "        vertical-align: top;\n",
       "    }\n",
       "\n",
       "    .dataframe thead th {\n",
       "        text-align: right;\n",
       "    }\n",
       "</style>\n",
       "<table border=\"1\" class=\"dataframe\">\n",
       "  <thead>\n",
       "    <tr style=\"text-align: right;\">\n",
       "      <th></th>\n",
       "      <th>OBJECTID</th>\n",
       "      <th>DBH</th>\n",
       "      <th>TPStructure</th>\n",
       "      <th>TPCondition</th>\n",
       "      <th>StumpDiameter</th>\n",
       "      <th>GenusSpecies</th>\n",
       "      <th>PlantedDate</th>\n",
       "      <th>Location</th>\n",
       "    </tr>\n",
       "  </thead>\n",
       "  <tbody>\n",
       "    <tr>\n",
       "      <th>655241</th>\n",
       "      <td>4646880</td>\n",
       "      <td>6.0</td>\n",
       "      <td>Full</td>\n",
       "      <td>Good</td>\n",
       "      <td>0.0</td>\n",
       "      <td>Prunus serrulata 'Green leaf' - 'Green leaf' J...</td>\n",
       "      <td>NaN</td>\n",
       "      <td>POINT (-73.79401925236839 40.78529595669278)</td>\n",
       "    </tr>\n",
       "    <tr>\n",
       "      <th>981470</th>\n",
       "      <td>12730118</td>\n",
       "      <td>5.0</td>\n",
       "      <td>Full</td>\n",
       "      <td>Good</td>\n",
       "      <td>NaN</td>\n",
       "      <td>Quercus bicolor - swamp white oak</td>\n",
       "      <td>NaN</td>\n",
       "      <td>POINT (-74.12460855847837 40.57737064520913)</td>\n",
       "    </tr>\n",
       "    <tr>\n",
       "      <th>955691</th>\n",
       "      <td>10579306</td>\n",
       "      <td>24.0</td>\n",
       "      <td>Full</td>\n",
       "      <td>Good</td>\n",
       "      <td>NaN</td>\n",
       "      <td>Liquidambar styraciflua - sweetgum</td>\n",
       "      <td>NaN</td>\n",
       "      <td>POINT (-73.88365764364066 40.884794805717235)</td>\n",
       "    </tr>\n",
       "    <tr>\n",
       "      <th>1061450</th>\n",
       "      <td>15888991</td>\n",
       "      <td>3.0</td>\n",
       "      <td>Full</td>\n",
       "      <td>Excellent</td>\n",
       "      <td>NaN</td>\n",
       "      <td>Acer tataricum 'Hot Wings' - 'Hot Wings' Tatar...</td>\n",
       "      <td>2024-12-06 05:00:00.0000000</td>\n",
       "      <td>POINT (-73.91958305981771 40.712999298385974)</td>\n",
       "    </tr>\n",
       "    <tr>\n",
       "      <th>717632</th>\n",
       "      <td>4755294</td>\n",
       "      <td>2.0</td>\n",
       "      <td>Full</td>\n",
       "      <td>Good</td>\n",
       "      <td>NaN</td>\n",
       "      <td>Cornus mas - Cornelian cherry</td>\n",
       "      <td>NaN</td>\n",
       "      <td>POINT (-73.86110068416039 40.85727192092965)</td>\n",
       "    </tr>\n",
       "    <tr>\n",
       "      <th>107061</th>\n",
       "      <td>1414849</td>\n",
       "      <td>26.0</td>\n",
       "      <td>Full</td>\n",
       "      <td>Good</td>\n",
       "      <td>NaN</td>\n",
       "      <td>Tilia americana - American basswood</td>\n",
       "      <td>NaN</td>\n",
       "      <td>POINT (-73.76316050418015 40.76515320014331)</td>\n",
       "    </tr>\n",
       "    <tr>\n",
       "      <th>969666</th>\n",
       "      <td>11591661</td>\n",
       "      <td>3.0</td>\n",
       "      <td>Full</td>\n",
       "      <td>Excellent</td>\n",
       "      <td>NaN</td>\n",
       "      <td>Koelreuteria paniculata - goldenrain tree</td>\n",
       "      <td>2021-05-06 04:00:00.0000000</td>\n",
       "      <td>POINT (-74.0167136858958 40.6779190299109)</td>\n",
       "    </tr>\n",
       "    <tr>\n",
       "      <th>356239</th>\n",
       "      <td>2617256</td>\n",
       "      <td>14.0</td>\n",
       "      <td>Full</td>\n",
       "      <td>Fair</td>\n",
       "      <td>0.0</td>\n",
       "      <td>Pyrus calleryana - Callery pear</td>\n",
       "      <td>NaN</td>\n",
       "      <td>POINT (-74.1331973707107 40.55501589395529)</td>\n",
       "    </tr>\n",
       "    <tr>\n",
       "      <th>235669</th>\n",
       "      <td>2403028</td>\n",
       "      <td>15.0</td>\n",
       "      <td>Full</td>\n",
       "      <td>Good</td>\n",
       "      <td>NaN</td>\n",
       "      <td>Quercus rubra - northern red oak</td>\n",
       "      <td>NaN</td>\n",
       "      <td>POINT (-73.9892178015829 40.59489180617588)</td>\n",
       "    </tr>\n",
       "    <tr>\n",
       "      <th>993850</th>\n",
       "      <td>13449665</td>\n",
       "      <td>3.0</td>\n",
       "      <td>Full</td>\n",
       "      <td>Excellent</td>\n",
       "      <td>NaN</td>\n",
       "      <td>Nyssa sylvatica 'Wildfire' - 'Wildfire' Black gum</td>\n",
       "      <td>2022-12-14 05:00:00.0000000</td>\n",
       "      <td>POINT (-74.03469100785696 40.63939692775647)</td>\n",
       "    </tr>\n",
       "  </tbody>\n",
       "</table>\n",
       "</div>"
      ],
      "text/plain": [
       "         OBJECTID   DBH TPStructure TPCondition  StumpDiameter  \\\n",
       "655241    4646880   6.0        Full        Good            0.0   \n",
       "981470   12730118   5.0        Full        Good            NaN   \n",
       "955691   10579306  24.0        Full        Good            NaN   \n",
       "1061450  15888991   3.0        Full   Excellent            NaN   \n",
       "717632    4755294   2.0        Full        Good            NaN   \n",
       "107061    1414849  26.0        Full        Good            NaN   \n",
       "969666   11591661   3.0        Full   Excellent            NaN   \n",
       "356239    2617256  14.0        Full        Fair            0.0   \n",
       "235669    2403028  15.0        Full        Good            NaN   \n",
       "993850   13449665   3.0        Full   Excellent            NaN   \n",
       "\n",
       "                                              GenusSpecies  \\\n",
       "655241   Prunus serrulata 'Green leaf' - 'Green leaf' J...   \n",
       "981470                   Quercus bicolor - swamp white oak   \n",
       "955691                  Liquidambar styraciflua - sweetgum   \n",
       "1061450  Acer tataricum 'Hot Wings' - 'Hot Wings' Tatar...   \n",
       "717632                       Cornus mas - Cornelian cherry   \n",
       "107061                 Tilia americana - American basswood   \n",
       "969666           Koelreuteria paniculata - goldenrain tree   \n",
       "356239                     Pyrus calleryana - Callery pear   \n",
       "235669                    Quercus rubra - northern red oak   \n",
       "993850   Nyssa sylvatica 'Wildfire' - 'Wildfire' Black gum   \n",
       "\n",
       "                         PlantedDate  \\\n",
       "655241                           NaN   \n",
       "981470                           NaN   \n",
       "955691                           NaN   \n",
       "1061450  2024-12-06 05:00:00.0000000   \n",
       "717632                           NaN   \n",
       "107061                           NaN   \n",
       "969666   2021-05-06 04:00:00.0000000   \n",
       "356239                           NaN   \n",
       "235669                           NaN   \n",
       "993850   2022-12-14 05:00:00.0000000   \n",
       "\n",
       "                                              Location  \n",
       "655241    POINT (-73.79401925236839 40.78529595669278)  \n",
       "981470    POINT (-74.12460855847837 40.57737064520913)  \n",
       "955691   POINT (-73.88365764364066 40.884794805717235)  \n",
       "1061450  POINT (-73.91958305981771 40.712999298385974)  \n",
       "717632    POINT (-73.86110068416039 40.85727192092965)  \n",
       "107061    POINT (-73.76316050418015 40.76515320014331)  \n",
       "969666      POINT (-74.0167136858958 40.6779190299109)  \n",
       "356239     POINT (-74.1331973707107 40.55501589395529)  \n",
       "235669     POINT (-73.9892178015829 40.59489180617588)  \n",
       "993850    POINT (-74.03469100785696 40.63939692775647)  "
      ]
     },
     "execution_count": 10,
     "metadata": {},
     "output_type": "execute_result"
    }
   ],
   "source": [
    "trees.sample(10)"
   ]
  },
  {
   "cell_type": "markdown",
   "metadata": {},
   "source": [
    "What can you infer about these data from this sample?\n",
    "\n",
    "- What is each row?\n",
    "- What type is each column?\n",
    "\n",
    "What limitations or biases might there be in these data?"
   ]
  },
  {
   "cell_type": "markdown",
   "metadata": {},
   "source": [
    "Check the data types:"
   ]
  },
  {
   "cell_type": "code",
   "execution_count": null,
   "metadata": {},
   "outputs": [],
   "source": [
    "trees.dtypes"
   ]
  },
  {
   "cell_type": "markdown",
   "metadata": {},
   "source": [
    "`OBJECTID` looks like and id, not a measure. Is it unique?"
   ]
  },
  {
   "cell_type": "code",
   "execution_count": null,
   "metadata": {},
   "outputs": [],
   "source": [
    "trees['OBJECTID'].is_unique"
   ]
  },
  {
   "cell_type": "markdown",
   "metadata": {},
   "source": [
    "How many trees are in these data?"
   ]
  },
  {
   "cell_type": "code",
   "execution_count": null,
   "metadata": {},
   "outputs": [],
   "source": [
    "trees['OBJECTID'].nunique()"
   ]
  },
  {
   "cell_type": "markdown",
   "metadata": {},
   "source": [
    "`TPCondition` is the health and condition of the tree. How are trees doing?"
   ]
  },
  {
   "cell_type": "markdown",
   "metadata": {},
   "source": [
    "What's the most frequent (modal) condition?"
   ]
  },
  {
   "cell_type": "code",
   "execution_count": null,
   "metadata": {},
   "outputs": [],
   "source": [
    "(\n",
    "    trees['TPCondition']\n",
    "    .value_counts()\n",
    "    .head(1)\n",
    ")"
   ]
  },
  {
   "cell_type": "code",
   "execution_count": null,
   "metadata": {},
   "outputs": [],
   "source": [
    "(\n",
    "    trees['TPCondition']\n",
    "    .value_counts(normalize=True) # this returns proportions, instead of counts\n",
    "    .head(1)\n",
    ")"
   ]
  },
  {
   "cell_type": "markdown",
   "metadata": {},
   "source": [
    "Almost half the trees are 'Good'"
   ]
  },
  {
   "cell_type": "markdown",
   "metadata": {},
   "source": [
    "And the rest?"
   ]
  },
  {
   "cell_type": "code",
   "execution_count": 17,
   "metadata": {},
   "outputs": [
    {
     "data": {
      "text/plain": [
       "TPCondition\n",
       "Good         493725\n",
       "Fair         293429\n",
       "Dead         112475\n",
       "Excellent     94465\n",
       "Poor          45461\n",
       "Unknown       30117\n",
       "Critical       5820\n",
       "Name: count, dtype: int64"
      ]
     },
     "execution_count": 17,
     "metadata": {},
     "output_type": "execute_result"
    }
   ],
   "source": [
    "trees['TPCondition'].value_counts()"
   ]
  },
  {
   "cell_type": "markdown",
   "metadata": {},
   "source": [
    "This is an ordinal variable; we can assign an order to these values:"
   ]
  },
  {
   "cell_type": "code",
   "execution_count": null,
   "metadata": {},
   "outputs": [],
   "source": [
    "trees['TPCondition'] = (\n",
    "    pd.Categorical(\n",
    "        values=trees['TPCondition'],\n",
    "        categories=[\n",
    "            'Unknown',\n",
    "            'Dead',\n",
    "            'Critical',\n",
    "            'Poor',\n",
    "            'Fair',\n",
    "            'Good',\n",
    "            'Excellent'\n",
    "        ],\n",
    "        ordered=True\n",
    "    )\n",
    ")\n",
    "\n",
    "trees['TPCondition'].head()"
   ]
  },
  {
   "cell_type": "markdown",
   "metadata": {},
   "source": [
    "... then sort them:"
   ]
  },
  {
   "cell_type": "code",
   "execution_count": null,
   "metadata": {},
   "outputs": [],
   "source": [
    "(\n",
    "    trees['TPCondition']\n",
    "    .value_counts()\n",
    "    .sort_index(ascending=False)\n",
    ")"
   ]
  },
  {
   "cell_type": "markdown",
   "metadata": {},
   "source": [
    "What is the most common tree species?"
   ]
  },
  {
   "cell_type": "code",
   "execution_count": null,
   "metadata": {},
   "outputs": [],
   "source": [
    "(\n",
    "    trees['GenusSpecies']\n",
    "    .value_counts()\n",
    "    .head(10)\n",
    ")"
   ]
  },
  {
   "cell_type": "code",
   "execution_count": null,
   "metadata": {},
   "outputs": [],
   "source": [
    "(\n",
    "    trees['GenusSpecies']\n",
    "    .value_counts(normalize=True) \n",
    "    .head(10)\n",
    ")"
   ]
  },
  {
   "cell_type": "markdown",
   "metadata": {},
   "source": [
    "'DBH' is \"diameter at breast height\", a standard measure for the size of the tree.\n",
    "\n",
    "Let's take a look at the range of sizes:"
   ]
  },
  {
   "cell_type": "code",
   "execution_count": null,
   "metadata": {},
   "outputs": [],
   "source": [
    "trees['DBH'].mean()"
   ]
  },
  {
   "cell_type": "code",
   "execution_count": null,
   "metadata": {},
   "outputs": [],
   "source": [
    "trees['DBH'].median()"
   ]
  },
  {
   "cell_type": "code",
   "execution_count": null,
   "metadata": {},
   "outputs": [],
   "source": [
    "trees['DBH'].describe()"
   ]
  },
  {
   "cell_type": "markdown",
   "metadata": {},
   "source": [
    "What do these central values tell you about the typical size of trees?"
   ]
  },
  {
   "cell_type": "markdown",
   "metadata": {},
   "source": [
    "(You might notice that these data include a datetime-type column and a geometry-type column. Those types are a bit more complex, we'll tackle those later in the course.)"
   ]
  },
  {
   "cell_type": "markdown",
   "metadata": {},
   "source": [
    "### 2. NYC weather\n",
    "\n",
    "These data show daily weather conditions measured in New York City."
   ]
  },
  {
   "cell_type": "code",
   "execution_count": 2,
   "metadata": {},
   "outputs": [],
   "source": [
    "weather = pd.read_csv('https://raw.githubusercontent.com/dlevine01/urban-data-analysis-course/refs/heads/main/Data/Source%20Data/weather_data_nyc_centralpark_2016.csv')"
   ]
  },
  {
   "cell_type": "markdown",
   "metadata": {},
   "source": [
    "First, inspect this data a bit:\n",
    "- what does each row represent?\n",
    "- what does each column represent?"
   ]
  },
  {
   "cell_type": "code",
   "execution_count": null,
   "metadata": {},
   "outputs": [],
   "source": [
    "weather.head()"
   ]
  },
  {
   "cell_type": "markdown",
   "metadata": {},
   "source": [
    "What data types does it seem like each column should be?"
   ]
  },
  {
   "cell_type": "markdown",
   "metadata": {},
   "source": [
    "Check that pandas read the correct data types:"
   ]
  },
  {
   "cell_type": "code",
   "execution_count": null,
   "metadata": {},
   "outputs": [],
   "source": [
    "weather.dtypes"
   ]
  },
  {
   "cell_type": "markdown",
   "metadata": {},
   "source": [
    "Uh oh! it looks like not.\n",
    "\n",
    "Pandas will infer data types, and if it can't tell or if a column has mixed types, it will fall back on the catch-all 'object', which is strings or a mix of strings and numbers."
   ]
  },
  {
   "cell_type": "markdown",
   "metadata": {},
   "source": [
    "We can check why that column did not get parsed as numeric:"
   ]
  },
  {
   "cell_type": "code",
   "execution_count": null,
   "metadata": {},
   "outputs": [],
   "source": [
    "(\n",
    "    weather\n",
    "    .sort_values('precipitation')\n",
    ")"
   ]
  },
  {
   "cell_type": "markdown",
   "metadata": {},
   "source": [
    "See something that is not a number?"
   ]
  },
  {
   "cell_type": "markdown",
   "metadata": {},
   "source": [
    "Let's filter to see all the rows with letters where we expect numbers"
   ]
  },
  {
   "cell_type": "code",
   "execution_count": null,
   "metadata": {},
   "outputs": [],
   "source": [
    "(\n",
    "    weather\n",
    "    [\n",
    "        weather['precipitation'].str.isalpha()\n",
    "    ]\n",
    ")"
   ]
  },
  {
   "cell_type": "markdown",
   "metadata": {},
   "source": [
    "If you found this dataset in the wild, this is where you would go check the data documentation to know what the \"T\" code means. I'll save you some work and tell you it means \"none recorded\"\n",
    "\n",
    "So now we have a choice, do we want that to be None, or zero?\n",
    "\n",
    "When computing a mean or a median, a None won't count, but a zero will.\n",
    "\n",
    "This is not a trivial decision!\n",
    "\n",
    "For now, we will treat the not-recoded values as None."
   ]
  },
  {
   "cell_type": "markdown",
   "metadata": {},
   "source": [
    "First, set the columns as numeric. If we don't tell pandas what to do with values it can't turn into numbers, it will raise an error: "
   ]
  },
  {
   "cell_type": "code",
   "execution_count": null,
   "metadata": {},
   "outputs": [],
   "source": [
    "pd.to_numeric(weather['precipitation'])"
   ]
  },
  {
   "cell_type": "markdown",
   "metadata": {},
   "source": [
    "(If we had skipped the exploration above, this would be a good warning that something in this column is not what we expect)"
   ]
  },
  {
   "cell_type": "markdown",
   "metadata": {},
   "source": [
    "If we tell pandas to 'coerce' the errors, it will replace values it can't turn to numbers to None values."
   ]
  },
  {
   "cell_type": "code",
   "execution_count": null,
   "metadata": {},
   "outputs": [],
   "source": [
    "pd.to_numeric(weather['precipitation'], errors='coerce')"
   ]
  },
  {
   "cell_type": "markdown",
   "metadata": {},
   "source": [
    "(An extra caution about coercing text to numbers: check for commas between thousands of large numbers. by default, `to_numeric` won't understand those, so you need to first strip the commas.)"
   ]
  },
  {
   "cell_type": "markdown",
   "metadata": {},
   "source": [
    "Assign this re-cast column to a new column."
   ]
  },
  {
   "cell_type": "code",
   "execution_count": 9,
   "metadata": {},
   "outputs": [],
   "source": [
    "weather['precipitation_n'] = pd.to_numeric(weather['precipitation'],errors='coerce')"
   ]
  },
  {
   "cell_type": "markdown",
   "metadata": {},
   "source": [
    "(We could also overwrite the existing column by assigning the transformation to the same name. You will often see this approach. But the downside is that it destroys your original data. If later on we find that we should have parsed this a different way, it's better if we still have the original data to refer to. Don't make invisible mistakes.)"
   ]
  },
  {
   "cell_type": "markdown",
   "metadata": {},
   "source": [
    "Phew! Now our data is in the format we expect and we can start analyzing it."
   ]
  },
  {
   "cell_type": "markdown",
   "metadata": {},
   "source": [
    "How hot is the hottest day?"
   ]
  },
  {
   "cell_type": "code",
   "execution_count": null,
   "metadata": {},
   "outputs": [],
   "source": [
    "weather['maximum temperature'].max()"
   ]
  },
  {
   "cell_type": "markdown",
   "metadata": {},
   "source": [
    "What's the average temperature?"
   ]
  },
  {
   "cell_type": "code",
   "execution_count": null,
   "metadata": {},
   "outputs": [],
   "source": [
    "weather['average temperature'].mean()"
   ]
  },
  {
   "cell_type": "markdown",
   "metadata": {},
   "source": [
    "Is this about the same as the representative middle temperature?"
   ]
  },
  {
   "cell_type": "code",
   "execution_count": null,
   "metadata": {},
   "outputs": [],
   "source": [
    "weather['average temperature'].median()"
   ]
  },
  {
   "cell_type": "markdown",
   "metadata": {},
   "source": [
    "What does the difference tell you about the skew of the data?"
   ]
  },
  {
   "cell_type": "markdown",
   "metadata": {},
   "source": [
    "What's the average rainfall?"
   ]
  },
  {
   "cell_type": "code",
   "execution_count": null,
   "metadata": {},
   "outputs": [],
   "source": [
    "weather['precipitation_n'].mean()"
   ]
  },
  {
   "cell_type": "markdown",
   "metadata": {},
   "source": [
    "how about the typical day rainfall?"
   ]
  },
  {
   "cell_type": "code",
   "execution_count": null,
   "metadata": {},
   "outputs": [],
   "source": [
    "weather['precipitation_n'].median()"
   ]
  },
  {
   "cell_type": "markdown",
   "metadata": {},
   "source": [
    "What does this difference tell you?"
   ]
  },
  {
   "cell_type": "markdown",
   "metadata": {},
   "source": [
    "How many days is there any rainfall?\n",
    "\n",
    "There's not a single built-in method for that like there is for `.mean()` or `.median()`, but you can string together a few methods:\n",
    "\n",
    "` > 0` returns `True` if the value is greater than zero:"
   ]
  },
  {
   "cell_type": "code",
   "execution_count": null,
   "metadata": {},
   "outputs": [],
   "source": [
    "weather['precipitation_n'] > 0"
   ]
  },
  {
   "cell_type": "markdown",
   "metadata": {},
   "source": [
    "You can also use the syntax `.gt(0)`:"
   ]
  },
  {
   "cell_type": "code",
   "execution_count": null,
   "metadata": {},
   "outputs": [],
   "source": [
    "weather['precipitation_n'].gt(0)"
   ]
  },
  {
   "cell_type": "markdown",
   "metadata": {},
   "source": [
    "But you still want to condense this new column to a summary statistic. pandas counts `True` as 1 and `False` as 0, so the total of this column is the number of instances of `True`"
   ]
  },
  {
   "cell_type": "code",
   "execution_count": null,
   "metadata": {},
   "outputs": [],
   "source": [
    "weather['precipitation_n'].gt(0).sum()"
   ]
  },
  {
   "cell_type": "markdown",
   "metadata": {},
   "source": [
    "Because the mean is computed as the sum divided by the count, the mean of a boolean column like this is the portion of values that are `True` (or multiply this by 100 to get the percent that meet the condition)"
   ]
  },
  {
   "cell_type": "code",
   "execution_count": null,
   "metadata": {},
   "outputs": [],
   "source": [
    "weather['precipitation_n'].gt(0).mean()"
   ]
  },
  {
   "cell_type": "code",
   "execution_count": null,
   "metadata": {},
   "outputs": [],
   "source": [
    "weather['maximum temperature'].mean()"
   ]
  },
  {
   "cell_type": "code",
   "execution_count": null,
   "metadata": {},
   "outputs": [],
   "source": [
    "(\n",
    "    weather['average temperature']\n",
    "    .gt(weather['maximum temperature'].min())\n",
    "    .mean().sum()\n",
    ")"
   ]
  },
  {
   "cell_type": "markdown",
   "metadata": {},
   "source": [
    "# Tasks:\n",
    "\n",
    "- What portion of trees are rated as having a \"Full\" structure (labeled `TPStructure`)?\n",
    "- How many days have a high temperature over 90 degrees?\n",
    "- What is the lowest temperature recorded?\n",
    "- What is the mean and median maximum temperature?\n",
    "- Which are closer together, the mean and median of the maximum temperature or the minimum temperature?\n",
    "- How many days did it snow?"
   ]
  },
  {
   "cell_type": "code",
   "execution_count": null,
   "metadata": {},
   "outputs": [],
   "source": [
    "### Your code here"
   ]
  },
  {
   "cell_type": "markdown",
   "metadata": {},
   "source": [
    "Extra credit:\n",
    "\n",
    "You saw above how you can assign a transformed value to a new column. You can also create a column from operations on multiple columns.\n",
    "\n",
    "Add a new column 'temperature range' as the maximum column minus the minimum temperature.\n",
    "\n",
    "What is the average of this daily temperature fluctuation?"
   ]
  },
  {
   "cell_type": "code",
   "execution_count": null,
   "metadata": {},
   "outputs": [],
   "source": [
    "### Your code here"
   ]
  }
 ],
 "metadata": {
  "kernelspec": {
   "display_name": "urban-data-analysis",
   "language": "python",
   "name": "python3"
  },
  "language_info": {
   "codemirror_mode": {
    "name": "ipython",
    "version": 3
   },
   "file_extension": ".py",
   "mimetype": "text/x-python",
   "name": "python",
   "nbconvert_exporter": "python",
   "pygments_lexer": "ipython3",
   "version": "3.12.8"
  }
 },
 "nbformat": 4,
 "nbformat_minor": 2
}
