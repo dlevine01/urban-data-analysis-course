{
 "cells": [
  {
   "cell_type": "markdown",
   "id": "8289b84e",
   "metadata": {},
   "source": [
    "# Query from NYC OpenData"
   ]
  },
  {
   "cell_type": "code",
   "execution_count": 3,
   "id": "8e7f49f0",
   "metadata": {},
   "outputs": [],
   "source": [
    "import pandas as pd\n",
    "import requests\n",
    "import urllib.parse"
   ]
  },
  {
   "cell_type": "markdown",
   "id": "b83c84c7",
   "metadata": {},
   "source": [
    "1. Go to https://data.cityofnewyork.us/login, create an account, and sign in\n",
    "2. Browse to 'Your Profile' --> Edit (pencil icon) --> Developer Settings\n",
    "3. Click 'Create New App Token'\n",
    "4. Copy the App Token (not Secret Token) and paste it below:"
   ]
  },
  {
   "cell_type": "code",
   "execution_count": null,
   "id": "9065a70a",
   "metadata": {},
   "outputs": [],
   "source": [
    "OPEN_DATA_APP_TOKEN = "
   ]
  },
  {
   "cell_type": "code",
   "execution_count": 5,
   "id": "3f953f09",
   "metadata": {},
   "outputs": [],
   "source": [
    "BASE_URL = 'https://data.cityofnewyork.us/'"
   ]
  },
  {
   "cell_type": "markdown",
   "id": "8598451a",
   "metadata": {},
   "source": [
    "The table id is the 4-4 digit code in the table url after the category and name\n",
    "\n",
    "e.g.:\n",
    "\n",
    "[https://data.cityofnewyork.us/Social-Services/311-Service-Requests-from-2010-to-Present/**erm2-nwe9**/about_data](https://data.cityofnewyork.us/Social-Services/311-Service-Requests-from-2010-to-Present/erm2-nwe9/about_data)"
   ]
  },
  {
   "cell_type": "code",
   "execution_count": 6,
   "id": "229353c8",
   "metadata": {},
   "outputs": [],
   "source": [
    "table_id = 'erm2-nwe9'"
   ]
  },
  {
   "cell_type": "markdown",
   "id": "e121abe3",
   "metadata": {},
   "source": [
    "The query can be any be any Socrata-flavor SQL, including any of [these functions](https://dev.socrata.com/docs/functions/#,).\n",
    "\n",
    "If you do not include a `LIMIT`, by default the query will be truncated at 1000 rows"
   ]
  },
  {
   "cell_type": "code",
   "execution_count": 7,
   "id": "be43fa30",
   "metadata": {},
   "outputs": [],
   "source": [
    "query = \"\"\"\n",
    "    SELECT\n",
    "        DATE_TRUNC_YMD(`created_date`) as date,\n",
    "        COUNT(`unique_key`) as count\n",
    "    WHERE\n",
    "        (`complaint_type` LIKE \"Homeless Person Assistance\")\n",
    "        AND (`created_date` >= \"2019-01-01\")\n",
    "    GROUP BY \n",
    "        DATE_TRUNC_YMD(`created_date`)\n",
    "    LIMIT 100000\n",
    "    \"\"\""
   ]
  },
  {
   "cell_type": "code",
   "execution_count": 8,
   "id": "8a0bf7fc",
   "metadata": {},
   "outputs": [],
   "source": [
    "data_request_url = (\n",
    "    BASE_URL\n",
    "    + 'resource/'\n",
    "    + table_id\n",
    "    +'.json?'\n",
    "    + '$query='\n",
    "    + urllib.parse.quote(query)\n",
    "    + '&$$app_token='\n",
    "    + OPEN_DATA_APP_TOKEN\n",
    ")"
   ]
  },
  {
   "cell_type": "code",
   "execution_count": 9,
   "id": "990caa80",
   "metadata": {},
   "outputs": [
    {
     "data": {
      "text/plain": [
       "'https://data.cityofnewyork.us/resource/erm2-nwe9.json?$query=%0A%20%20%20%20SELECT%0A%20%20%20%20%20%20%20%20DATE_TRUNC_YMD%28%60created_date%60%29%20as%20date%2C%0A%20%20%20%20%20%20%20%20COUNT%28%60unique_key%60%29%20as%20count%0A%20%20%20%20WHERE%0A%20%20%20%20%20%20%20%20%28%60complaint_type%60%20LIKE%20%22Homeless%20Person%20Assistance%22%29%0A%20%20%20%20%20%20%20%20AND%20%28%60created_date%60%20%3E%3D%20%222019-01-01%22%29%0A%20%20%20%20GROUP%20BY%20%0A%20%20%20%20%20%20%20%20DATE_TRUNC_YMD%28%60created_date%60%29%0A%20%20%20%20LIMIT%20100000%0A%20%20%20%20&$$app_token=xxxx'"
      ]
     },
     "execution_count": 9,
     "metadata": {},
     "output_type": "execute_result"
    }
   ],
   "source": [
    "data_request_url"
   ]
  },
  {
   "cell_type": "code",
   "execution_count": null,
   "id": "962912a2",
   "metadata": {},
   "outputs": [],
   "source": [
    "r = requests.get(data_request_url)\n",
    "\n",
    "data = pd.DataFrame(r.json())"
   ]
  }
 ],
 "metadata": {
  "kernelspec": {
   "display_name": "urban-data-analysis",
   "language": "python",
   "name": "python3"
  },
  "language_info": {
   "codemirror_mode": {
    "name": "ipython",
    "version": 3
   },
   "file_extension": ".py",
   "mimetype": "text/x-python",
   "name": "python",
   "nbconvert_exporter": "python",
   "pygments_lexer": "ipython3",
   "version": "3.12.3"
  }
 },
 "nbformat": 4,
 "nbformat_minor": 5
}
