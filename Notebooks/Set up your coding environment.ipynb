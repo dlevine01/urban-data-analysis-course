{
 "cells": [
  {
   "cell_type": "markdown",
   "metadata": {},
   "source": [
    "# Set up your coding environment"
   ]
  },
  {
   "cell_type": "markdown",
   "metadata": {},
   "source": [
    "1. Download and install [Anaconda](https://www.anaconda.com/download/success) (or Miniconda)\n",
    "   1. You don't need to register an account\n",
    "2. Download and install [VS Code](https://code.visualstudio.com/download) \n",
    "3. Download the `environment.yml` from [source](https://github.com/dlevine01/urban-data-analysis-course/blob/main/environment.yml)\n",
    "   1. Look for the \"Download raw file\" button in the header just above the file content.\n",
    "4. Create a new folder. Call it something like \"Urban Data Analysis\". \n",
    "   1. This can be where you store work and code for this class\n",
    "5. Open VS Code\n",
    "   1. The steps below will be in VS Code\n",
    "6. Install Python and Jupyter extensions for VS Code\n",
    "   1. With VS Code open, you can browse extensions by clicking the 4-rectangle logo on the left panel\n",
    "   2. Search for `jupyter` and install the Microsoft blue-checked \"Jupyter\" extension. \n",
    "   3. This should also install the Python and Pylance extensions.\n",
    "      1. (if it does not, search for and install those as well) \n",
    "7. Open your \"Urban Data Analysis\" folder with the \"File\" > \"Open Folder...\" menu option in VS Code\n",
    "8. Move the `environment.yml` file into that folder.\n",
    "   1. You can open the file browser tab on the left panel of VS Code and then click and drag the `environment.yml` file from your downloads folder into that file browser pane.\n",
    "   2. Or you can use your regular Finder/File Explorer windows to move the file.\n",
    "9.  Open a new terminal pane with the \"Terminal\" > \"New Terminal\" menu command\n",
    "    1.  A terminal pane will open below.\n",
    "10. Copy and paste into the terminal pane: `conda env create --file environment.yml`. Hit enter.\n",
    "    1.  This will create a new conda environment with Python packages you will need for this course.\n",
    "11. Open this notebook file in VS Code. You can click this file in the file explorer pane on the left to open it.\n",
    "12. Click \"Select Kernel\" at the top-right corner of this notebook pane. A new menu will open at the top center.\n",
    "13. Click \"Select Another Kernel...\" > \"Python Environments\" then look for your environment, `urban-data-analysis` in the list and click it.\n",
    "    1.  _If you don't see this environment in the list,_ try closing VS Code and reopening it, then repeating steps 12 and 13. Sometimes VS Code is slow to register the new environment\n",
    "    2.  _If it still does not show up_ after restarting VS Code:\n",
    "        1.  Open a new Terminal (with the \"Terminal\" > \"New Terminal\" menu command)\n",
    "        2.  Paste into the terminal below: `conda activate urban-data-analysis` and press enter.\n",
    "        3.  Then paste into the terminal below: `code .`\n",
    "        4.  This may open a new VS Code window. Look for the kernel in that window\n",
    "    3.  These extra steps should only be required the _first_ time you use this kernel. Next time you open VS Code, the kernel should already be available in the \"Select Kernel\" list.\n",
    "14. You should now see `urban-data-analysis` listed as the kernel for this notebook in the top-right corner.\n",
    "15. Run the code cells below to confirm everything is working!"
   ]
  },
  {
   "cell_type": "code",
   "execution_count": null,
   "metadata": {},
   "outputs": [],
   "source": [
    "import sys\n",
    "sys.version"
   ]
  },
  {
   "cell_type": "markdown",
   "metadata": {},
   "source": [
    "^ your Python version"
   ]
  },
  {
   "cell_type": "code",
   "execution_count": null,
   "metadata": {},
   "outputs": [],
   "source": [
    "sys.executable"
   ]
  },
  {
   "cell_type": "markdown",
   "metadata": {},
   "source": [
    "^ where you are running Python from. This should look like ` ...  /envs/urban-data-analysis/ ... /python`"
   ]
  },
  {
   "cell_type": "code",
   "execution_count": null,
   "metadata": {},
   "outputs": [],
   "source": [
    "try:\n",
    "    import pandas as pd\n",
    "    import datetime\n",
    "\n",
    "    print('Imports ok!')\n",
    "\n",
    "except ModuleNotFoundError:\n",
    "    raise"
   ]
  },
  {
   "cell_type": "markdown",
   "metadata": {},
   "source": [
    "^ Should let you know the imports are `ok!`. A `ModuleNotFoundError` means the packages are not installed in the environment."
   ]
  },
  {
   "cell_type": "markdown",
   "metadata": {},
   "source": [
    "\n",
    "Enter your name below and run this cell to certify that you are set up and ready to go:"
   ]
  },
  {
   "cell_type": "code",
   "execution_count": null,
   "metadata": {},
   "outputs": [],
   "source": [
    "# enter your name here:\n",
    "\n",
    "NAME = 'YOUR NAME' \n",
    "\n",
    "\n",
    "print(f'''\n",
    "    💫 {NAME} has a working environment!\n",
    "\n",
    "    {datetime.datetime.now().strftime('%Y-%m-%d')}\n",
    "''')"
   ]
  }
 ],
 "metadata": {
  "kernelspec": {
   "display_name": "urban-data-analysis",
   "language": "python",
   "name": "python3"
  },
  "language_info": {
   "codemirror_mode": {
    "name": "ipython",
    "version": 3
   },
   "file_extension": ".py",
   "mimetype": "text/x-python",
   "name": "python",
   "nbconvert_exporter": "python",
   "pygments_lexer": "ipython3",
   "version": "3.12.8"
  }
 },
 "nbformat": 4,
 "nbformat_minor": 2
}
