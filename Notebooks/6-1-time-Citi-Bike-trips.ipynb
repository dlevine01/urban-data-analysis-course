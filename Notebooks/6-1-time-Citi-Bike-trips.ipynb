{
 "cells": [
  {
   "cell_type": "markdown",
   "metadata": {},
   "source": [
    "# Date and time data types\n",
    "\n",
    "This notebook will show many ways that pandas handles date and time data types and will use these to explore Citi Bike trips"
   ]
  },
  {
   "cell_type": "code",
   "execution_count": 2,
   "metadata": {},
   "outputs": [],
   "source": [
    "import pandas as pd\n",
    "import seaborn as sns"
   ]
  },
  {
   "cell_type": "markdown",
   "metadata": {},
   "source": [
    "1. Download Citi Bike data from https://s3.amazonaws.com/tripdata/202409-citibike-tripdata.zip and unzip\n",
    "2. Move `202409-citibike-tripdata_1.csv` to `../Data/Source Data`"
   ]
  },
  {
   "cell_type": "code",
   "execution_count": null,
   "metadata": {},
   "outputs": [],
   "source": [
    "trips = pd.read_csv('../Data/Source Data/202409-citibike-tripdata_1.csv')"
   ]
  },
  {
   "cell_type": "markdown",
   "metadata": {},
   "source": [
    "By default, pandas will not interpret datetime values; they are loaded as `str` values in a `object`-type column"
   ]
  },
  {
   "cell_type": "code",
   "execution_count": 4,
   "metadata": {},
   "outputs": [
    {
     "data": {
      "text/html": [
       "<div>\n",
       "<style scoped>\n",
       "    .dataframe tbody tr th:only-of-type {\n",
       "        vertical-align: middle;\n",
       "    }\n",
       "\n",
       "    .dataframe tbody tr th {\n",
       "        vertical-align: top;\n",
       "    }\n",
       "\n",
       "    .dataframe thead th {\n",
       "        text-align: right;\n",
       "    }\n",
       "</style>\n",
       "<table border=\"1\" class=\"dataframe\">\n",
       "  <thead>\n",
       "    <tr style=\"text-align: right;\">\n",
       "      <th></th>\n",
       "      <th>ride_id</th>\n",
       "      <th>rideable_type</th>\n",
       "      <th>started_at</th>\n",
       "      <th>ended_at</th>\n",
       "      <th>start_station_name</th>\n",
       "      <th>start_station_id</th>\n",
       "      <th>end_station_name</th>\n",
       "      <th>end_station_id</th>\n",
       "      <th>start_lat</th>\n",
       "      <th>start_lng</th>\n",
       "      <th>end_lat</th>\n",
       "      <th>end_lng</th>\n",
       "      <th>member_casual</th>\n",
       "    </tr>\n",
       "  </thead>\n",
       "  <tbody>\n",
       "    <tr>\n",
       "      <th>0</th>\n",
       "      <td>D86F678648E7A867</td>\n",
       "      <td>electric_bike</td>\n",
       "      <td>2024-09-10 22:50:16.212</td>\n",
       "      <td>2024-09-10 23:30:44.697</td>\n",
       "      <td>Hudson St &amp; W 13 St</td>\n",
       "      <td>6115.06</td>\n",
       "      <td>Broadway &amp; W 58 St</td>\n",
       "      <td>6948.10</td>\n",
       "      <td>40.740057</td>\n",
       "      <td>-74.005274</td>\n",
       "      <td>40.766953</td>\n",
       "      <td>-73.981693</td>\n",
       "      <td>casual</td>\n",
       "    </tr>\n",
       "    <tr>\n",
       "      <th>1</th>\n",
       "      <td>032D1788CD512084</td>\n",
       "      <td>electric_bike</td>\n",
       "      <td>2024-09-22 05:51:00.609</td>\n",
       "      <td>2024-09-22 05:56:50.446</td>\n",
       "      <td>W 37 St &amp; 5 Ave</td>\n",
       "      <td>6398.06</td>\n",
       "      <td>9 Ave &amp; W 45 St</td>\n",
       "      <td>6717.06</td>\n",
       "      <td>40.750380</td>\n",
       "      <td>-73.983390</td>\n",
       "      <td>40.760193</td>\n",
       "      <td>-73.991255</td>\n",
       "      <td>member</td>\n",
       "    </tr>\n",
       "    <tr>\n",
       "      <th>2</th>\n",
       "      <td>DA55381E5121F0F9</td>\n",
       "      <td>electric_bike</td>\n",
       "      <td>2024-09-24 11:07:40.618</td>\n",
       "      <td>2024-09-24 11:29:23.460</td>\n",
       "      <td>Greenpoint Ave &amp; West St</td>\n",
       "      <td>5752.09</td>\n",
       "      <td>2 Ave &amp; E 72 St</td>\n",
       "      <td>6925.09</td>\n",
       "      <td>40.729803</td>\n",
       "      <td>-73.959099</td>\n",
       "      <td>40.768762</td>\n",
       "      <td>-73.958408</td>\n",
       "      <td>member</td>\n",
       "    </tr>\n",
       "    <tr>\n",
       "      <th>3</th>\n",
       "      <td>F67A042C028C6367</td>\n",
       "      <td>classic_bike</td>\n",
       "      <td>2024-09-03 14:25:28.732</td>\n",
       "      <td>2024-09-03 14:33:51.075</td>\n",
       "      <td>E 85 St &amp; 3 Ave</td>\n",
       "      <td>7212.05</td>\n",
       "      <td>2 Ave &amp; E 72 St</td>\n",
       "      <td>6925.09</td>\n",
       "      <td>40.778012</td>\n",
       "      <td>-73.954071</td>\n",
       "      <td>40.768762</td>\n",
       "      <td>-73.958408</td>\n",
       "      <td>member</td>\n",
       "    </tr>\n",
       "    <tr>\n",
       "      <th>4</th>\n",
       "      <td>31F722D5EAB9C780</td>\n",
       "      <td>electric_bike</td>\n",
       "      <td>2024-09-09 15:46:50.376</td>\n",
       "      <td>2024-09-09 15:50:16.411</td>\n",
       "      <td>7 Ave &amp; Park Pl</td>\n",
       "      <td>4125.07</td>\n",
       "      <td>Carroll St &amp; 6 Ave</td>\n",
       "      <td>4019.06</td>\n",
       "      <td>40.677615</td>\n",
       "      <td>-73.973243</td>\n",
       "      <td>40.674089</td>\n",
       "      <td>-73.978728</td>\n",
       "      <td>member</td>\n",
       "    </tr>\n",
       "  </tbody>\n",
       "</table>\n",
       "</div>"
      ],
      "text/plain": [
       "            ride_id  rideable_type               started_at  \\\n",
       "0  D86F678648E7A867  electric_bike  2024-09-10 22:50:16.212   \n",
       "1  032D1788CD512084  electric_bike  2024-09-22 05:51:00.609   \n",
       "2  DA55381E5121F0F9  electric_bike  2024-09-24 11:07:40.618   \n",
       "3  F67A042C028C6367   classic_bike  2024-09-03 14:25:28.732   \n",
       "4  31F722D5EAB9C780  electric_bike  2024-09-09 15:46:50.376   \n",
       "\n",
       "                  ended_at        start_station_name start_station_id  \\\n",
       "0  2024-09-10 23:30:44.697       Hudson St & W 13 St          6115.06   \n",
       "1  2024-09-22 05:56:50.446           W 37 St & 5 Ave          6398.06   \n",
       "2  2024-09-24 11:29:23.460  Greenpoint Ave & West St          5752.09   \n",
       "3  2024-09-03 14:33:51.075           E 85 St & 3 Ave          7212.05   \n",
       "4  2024-09-09 15:50:16.411           7 Ave & Park Pl          4125.07   \n",
       "\n",
       "     end_station_name end_station_id  start_lat  start_lng    end_lat  \\\n",
       "0  Broadway & W 58 St        6948.10  40.740057 -74.005274  40.766953   \n",
       "1     9 Ave & W 45 St        6717.06  40.750380 -73.983390  40.760193   \n",
       "2     2 Ave & E 72 St        6925.09  40.729803 -73.959099  40.768762   \n",
       "3     2 Ave & E 72 St        6925.09  40.778012 -73.954071  40.768762   \n",
       "4  Carroll St & 6 Ave        4019.06  40.677615 -73.973243  40.674089   \n",
       "\n",
       "     end_lng member_casual  \n",
       "0 -73.981693        casual  \n",
       "1 -73.991255        member  \n",
       "2 -73.958408        member  \n",
       "3 -73.958408        member  \n",
       "4 -73.978728        member  "
      ]
     },
     "execution_count": 4,
     "metadata": {},
     "output_type": "execute_result"
    }
   ],
   "source": [
    "trips.head()"
   ]
  },
  {
   "cell_type": "code",
   "execution_count": 5,
   "metadata": {},
   "outputs": [
    {
     "data": {
      "text/plain": [
       "ride_id                object\n",
       "rideable_type          object\n",
       "started_at             object\n",
       "ended_at               object\n",
       "start_station_name     object\n",
       "start_station_id       object\n",
       "end_station_name       object\n",
       "end_station_id         object\n",
       "start_lat             float64\n",
       "start_lng             float64\n",
       "end_lat               float64\n",
       "end_lng               float64\n",
       "member_casual          object\n",
       "dtype: object"
      ]
     },
     "execution_count": 5,
     "metadata": {},
     "output_type": "execute_result"
    }
   ],
   "source": [
    "trips.dtypes"
   ]
  },
  {
   "cell_type": "markdown",
   "metadata": {},
   "source": [
    "## Timestamps"
   ]
  },
  {
   "cell_type": "markdown",
   "metadata": {},
   "source": [
    "Cast text representation of dates to timestamps (datetime objects) with `pd.to_datetime()`. (It works on a single Series, not the entire DataFrame.)\n",
    "\n",
    "For faster (and more accurate) parsing, specify the format (with the `strftime` [language](https://strftime.org))\n",
    "\n",
    "As with `pd.to_numeric()`, the default behavior is to raise an error on hitting a text that can't be converted into a date. Also like `to_numeric`, the option `errors='coerce'` will instead replace these unknowns with `NaT` (not a time, equivalent to `NaN`). But you probably want to check what's wrong before clobbering the data. "
   ]
  },
  {
   "cell_type": "code",
   "execution_count": 6,
   "metadata": {},
   "outputs": [],
   "source": [
    "trips['started_at'] = pd.to_datetime(trips['started_at'], format='%Y-%m-%d %H:%M:%S.%f', errors='raise')"
   ]
  },
  {
   "cell_type": "code",
   "execution_count": 7,
   "metadata": {},
   "outputs": [],
   "source": [
    "trips['ended_at'] = pd.to_datetime(trips['ended_at'], format='%Y-%m-%d %H:%M:%S.%f', errors='raise')"
   ]
  },
  {
   "cell_type": "code",
   "execution_count": 8,
   "metadata": {},
   "outputs": [
    {
     "data": {
      "text/plain": [
       "ride_id                       object\n",
       "rideable_type                 object\n",
       "started_at            datetime64[ns]\n",
       "ended_at              datetime64[ns]\n",
       "start_station_name            object\n",
       "start_station_id              object\n",
       "end_station_name              object\n",
       "end_station_id                object\n",
       "start_lat                    float64\n",
       "start_lng                    float64\n",
       "end_lat                      float64\n",
       "end_lng                      float64\n",
       "member_casual                 object\n",
       "dtype: object"
      ]
     },
     "execution_count": 8,
     "metadata": {},
     "output_type": "execute_result"
    }
   ],
   "source": [
    "trips.dtypes"
   ]
  },
  {
   "cell_type": "markdown",
   "metadata": {},
   "source": [
    "### Extracting parts of datetime"
   ]
  },
  {
   "cell_type": "markdown",
   "metadata": {},
   "source": [
    "(like text data has extra string methods accessed through the `.str.` accessor, datetime objects have extended methods through the `.dt.` accessor. e.g.:)"
   ]
  },
  {
   "cell_type": "markdown",
   "metadata": {},
   "source": [
    "Extract the hour of the day:"
   ]
  },
  {
   "cell_type": "code",
   "execution_count": 9,
   "metadata": {},
   "outputs": [],
   "source": [
    "trips['start_hour'] = trips['started_at'].dt.hour"
   ]
  },
  {
   "cell_type": "code",
   "execution_count": 10,
   "metadata": {},
   "outputs": [
    {
     "data": {
      "text/plain": [
       "0    22\n",
       "1     5\n",
       "2    11\n",
       "3    14\n",
       "4    15\n",
       "Name: start_hour, dtype: int32"
      ]
     },
     "execution_count": 10,
     "metadata": {},
     "output_type": "execute_result"
    }
   ],
   "source": [
    "trips['start_hour'].head()"
   ]
  },
  {
   "cell_type": "code",
   "execution_count": 11,
   "metadata": {},
   "outputs": [
    {
     "data": {
      "text/plain": [
       "start_hour\n",
       "0     14787\n",
       "1      8679\n",
       "2      5861\n",
       "3      3841\n",
       "4      3170\n",
       "5      6433\n",
       "6     18323\n",
       "7     40505\n",
       "8     60206\n",
       "9     49050\n",
       "10    42272\n",
       "11    45897\n",
       "12    52448\n",
       "13    55239\n",
       "14    59576\n",
       "15    66099\n",
       "16    75220\n",
       "17    97048\n",
       "18    91557\n",
       "19    68614\n",
       "20    47086\n",
       "21    36005\n",
       "22    29568\n",
       "23    22516\n",
       "Name: count, dtype: int64"
      ]
     },
     "execution_count": 11,
     "metadata": {},
     "output_type": "execute_result"
    }
   ],
   "source": [
    "(\n",
    "    trips['start_hour']\n",
    "    .value_counts()\n",
    "    .sort_index()\n",
    ")"
   ]
  },
  {
   "cell_type": "code",
   "execution_count": 12,
   "metadata": {},
   "outputs": [
    {
     "data": {
      "text/plain": [
       "<Axes: xlabel='start_hour', ylabel='count'>"
      ]
     },
     "execution_count": 12,
     "metadata": {},
     "output_type": "execute_result"
    },
    {
     "data": {
      "image/png": "[encoded data removed]",
      "text/plain": [
       "<Figure size 640x480 with 1 Axes>"
      ]
     },
     "metadata": {},
     "output_type": "display_data"
    }
   ],
   "source": [
    "sns.countplot(\n",
    "    data=trips,\n",
    "    x='start_hour'\n",
    ")"
   ]
  },
  {
   "cell_type": "code",
   "execution_count": 13,
   "metadata": {},
   "outputs": [],
   "source": [
    "trips['start_day_of_week'] = trips['started_at'].dt.day_of_week"
   ]
  },
  {
   "cell_type": "code",
   "execution_count": 14,
   "metadata": {},
   "outputs": [
    {
     "data": {
      "text/plain": [
       "0    1\n",
       "1    6\n",
       "2    1\n",
       "3    1\n",
       "4    0\n",
       "Name: start_day_of_week, dtype: int32"
      ]
     },
     "execution_count": 14,
     "metadata": {},
     "output_type": "execute_result"
    }
   ],
   "source": [
    "trips['start_day_of_week'].head()"
   ]
  },
  {
   "cell_type": "code",
   "execution_count": 15,
   "metadata": {},
   "outputs": [
    {
     "data": {
      "text/plain": [
       "<Axes: xlabel='start_day_of_week', ylabel='count'>"
      ]
     },
     "execution_count": 15,
     "metadata": {},
     "output_type": "execute_result"
    },
    {
     "data": {
      "image/png": "[encoded data removed]",
      "text/plain": [
       "<Figure size 640x480 with 1 Axes>"
      ]
     },
     "metadata": {},
     "output_type": "display_data"
    }
   ],
   "source": [
    "sns.countplot(\n",
    "    data=trips,\n",
    "    x='start_day_of_week',\n",
    ")"
   ]
  },
  {
   "cell_type": "markdown",
   "metadata": {},
   "source": [
    "You might need to check the [docs](https://pandas.pydata.org/docs/reference/api/pandas.Series.dt.dayofweek.html#pandas.Series.dt.dayofweek) to know what these numbers mean: 0 = Monday, 6 = Sunday"
   ]
  },
  {
   "cell_type": "markdown",
   "metadata": {},
   "source": [
    "Use a dictionary to add day labels:"
   ]
  },
  {
   "cell_type": "code",
   "execution_count": 112,
   "metadata": {},
   "outputs": [],
   "source": [
    "day_numbers_day_names = {\n",
    "    0:'Mon',\n",
    "    1:'Tue',\n",
    "    2:'Wed',\n",
    "    3:'Thu',\n",
    "    4:'Fri',\n",
    "    5:'Sat',\n",
    "    6:'Sun'\n",
    "}"
   ]
  },
  {
   "cell_type": "markdown",
   "metadata": {},
   "source": [
    "use `.map()` with a dictionary to get the associated value for each matching key "
   ]
  },
  {
   "cell_type": "code",
   "execution_count": 114,
   "metadata": {},
   "outputs": [],
   "source": [
    "trips['start_day_of_week_name'] = trips['start_day_of_week'].map(day_numbers_day_names)"
   ]
  },
  {
   "cell_type": "markdown",
   "metadata": {},
   "source": [
    "(bonus: or use built-in `dt.day_name()` to get name)"
   ]
  },
  {
   "cell_type": "code",
   "execution_count": null,
   "metadata": {},
   "outputs": [],
   "source": [
    "# trips['start_day_of_week_name'] = trips['started_at'].dt.day_name()"
   ]
  },
  {
   "cell_type": "markdown",
   "metadata": {},
   "source": [
    "(bonus: or, use use `strftime` formatting to get the day of the week)"
   ]
  },
  {
   "cell_type": "code",
   "execution_count": null,
   "metadata": {},
   "outputs": [],
   "source": [
    "# trips['start_day_of_week_name'] = trips['started_at'].dt.strftime('%a')"
   ]
  },
  {
   "cell_type": "markdown",
   "metadata": {},
   "source": [
    "(use the list of values to set the order (otherwise they will sort alphabetically))"
   ]
  },
  {
   "cell_type": "code",
   "execution_count": 115,
   "metadata": {},
   "outputs": [
    {
     "data": {
      "text/plain": [
       "<Axes: xlabel='start_day_of_week_name', ylabel='count'>"
      ]
     },
     "execution_count": 115,
     "metadata": {},
     "output_type": "execute_result"
    },
    {
     "data": {
      "image/png": "[encoded data removed]",
      "text/plain": [
       "<Figure size 640x480 with 1 Axes>"
      ]
     },
     "metadata": {},
     "output_type": "display_data"
    }
   ],
   "source": [
    "sns.countplot(\n",
    "    data=trips,\n",
    "    x='start_day_of_week_name',\n",
    "    order=day_numbers_day_names.values()\n",
    ")"
   ]
  },
  {
   "cell_type": "code",
   "execution_count": null,
   "metadata": {},
   "outputs": [],
   "source": [
    "trips['weekend'] = trips['started_at'].dt.day_of_week.ge(5)"
   ]
  },
  {
   "cell_type": "code",
   "execution_count": 93,
   "metadata": {},
   "outputs": [
    {
     "data": {
      "text/plain": [
       "<Axes: xlabel='start_day_of_week_name', ylabel='count'>"
      ]
     },
     "execution_count": 93,
     "metadata": {},
     "output_type": "execute_result"
    },
    {
     "data": {
      "image/png": "[encoded data removed]",
      "text/plain": [
       "<Figure size 640x480 with 1 Axes>"
      ]
     },
     "metadata": {},
     "output_type": "display_data"
    }
   ],
   "source": [
    "sns.countplot(\n",
    "    data=trips,\n",
    "    x='start_day_of_week_name',\n",
    "    hue='weekend',\n",
    "    order=day_numbers_day_names.values()\n",
    ")"
   ]
  },
  {
   "cell_type": "code",
   "execution_count": 151,
   "metadata": {},
   "outputs": [
    {
     "data": {
      "text/plain": [
       "<Axes: xlabel='start_hour', ylabel='count'>"
      ]
     },
     "execution_count": 151,
     "metadata": {},
     "output_type": "execute_result"
    },
    {
     "data": {
      "image/png": "[encoded data removed]",
      "text/plain": [
       "<Figure size 640x480 with 1 Axes>"
      ]
     },
     "metadata": {},
     "output_type": "display_data"
    }
   ],
   "source": [
    "sns.countplot(\n",
    "    data=trips,\n",
    "    x='start_hour',\n",
    "    hue='member_casual'\n",
    ")"
   ]
  },
  {
   "cell_type": "markdown",
   "metadata": {},
   "source": [
    "Cast timestamps as text with a specified format using `.strftime()` (using the `strftime` [codes](https://strftime.org/))"
   ]
  },
  {
   "cell_type": "code",
   "execution_count": 119,
   "metadata": {},
   "outputs": [
    {
     "data": {
      "text/plain": [
       "0         09/10/24\n",
       "1         09/22/24\n",
       "2         09/24/24\n",
       "3         09/03/24\n",
       "4         09/09/24\n",
       "            ...   \n",
       "999995    09/17/24\n",
       "999996    09/14/24\n",
       "999997    09/16/24\n",
       "999998    09/01/24\n",
       "999999    09/01/24\n",
       "Name: started_at, Length: 1000000, dtype: object"
      ]
     },
     "execution_count": 119,
     "metadata": {},
     "output_type": "execute_result"
    }
   ],
   "source": [
    "trips['started_at'].dt.strftime('%m/%d/%y')"
   ]
  },
  {
   "cell_type": "code",
   "execution_count": 123,
   "metadata": {},
   "outputs": [
    {
     "data": {
      "text/plain": [
       "0         September 10, 2024 10:50PM\n",
       "1         September 22, 2024 05:51AM\n",
       "2         September 24, 2024 11:07AM\n",
       "3         September 03, 2024 02:25PM\n",
       "4         September 09, 2024 03:46PM\n",
       "                     ...            \n",
       "999995    September 17, 2024 04:35PM\n",
       "999996    September 14, 2024 11:18AM\n",
       "999997    September 16, 2024 05:32PM\n",
       "999998    September 01, 2024 04:35PM\n",
       "999999    September 01, 2024 12:02AM\n",
       "Name: started_at, Length: 1000000, dtype: object"
      ]
     },
     "execution_count": 123,
     "metadata": {},
     "output_type": "execute_result"
    }
   ],
   "source": [
    "trips['started_at'].dt.strftime('%B %d, %Y %I:%M%p')"
   ]
  },
  {
   "cell_type": "markdown",
   "metadata": {},
   "source": [
    "## Durations\n",
    "\n",
    "Data representing lengths/amounts of time"
   ]
  },
  {
   "cell_type": "code",
   "execution_count": 21,
   "metadata": {},
   "outputs": [],
   "source": [
    "trips['duration'] = trips['ended_at'] - trips['started_at']"
   ]
  },
  {
   "cell_type": "markdown",
   "metadata": {},
   "source": [
    "This is a different sort of time type: a `timedelta`. It represents a duration of time, but unmoored from any particular date and time."
   ]
  },
  {
   "cell_type": "code",
   "execution_count": 22,
   "metadata": {},
   "outputs": [
    {
     "data": {
      "text/plain": [
       "0   0 days 00:40:28.485000\n",
       "1   0 days 00:05:49.837000\n",
       "2   0 days 00:21:42.842000\n",
       "3   0 days 00:08:22.343000\n",
       "4   0 days 00:03:26.035000\n",
       "Name: duration, dtype: timedelta64[ns]"
      ]
     },
     "execution_count": 22,
     "metadata": {},
     "output_type": "execute_result"
    }
   ],
   "source": [
    "trips['duration'].head()"
   ]
  },
  {
   "cell_type": "markdown",
   "metadata": {},
   "source": [
    "`timedelta`s can be summarized"
   ]
  },
  {
   "cell_type": "code",
   "execution_count": 23,
   "metadata": {},
   "outputs": [
    {
     "data": {
      "text/plain": [
       "Timedelta('1 days 00:59:56.080000')"
      ]
     },
     "execution_count": 23,
     "metadata": {},
     "output_type": "execute_result"
    }
   ],
   "source": [
    "trips['duration'].max()"
   ]
  },
  {
   "cell_type": "code",
   "execution_count": 24,
   "metadata": {},
   "outputs": [
    {
     "data": {
      "text/plain": [
       "Timedelta('0 days 00:13:15.889412034')"
      ]
     },
     "execution_count": 24,
     "metadata": {},
     "output_type": "execute_result"
    }
   ],
   "source": [
    "trips['duration'].mean()"
   ]
  },
  {
   "cell_type": "markdown",
   "metadata": {},
   "source": [
    "`timedelta`s can only be compared to other `timedeltas`. this will raise an error:"
   ]
  },
  {
   "cell_type": "code",
   "execution_count": 28,
   "metadata": {},
   "outputs": [],
   "source": [
    "# trips['duration'].gt(5)"
   ]
  },
  {
   "cell_type": "markdown",
   "metadata": {},
   "source": [
    "But we can create a fixed `timedelta` for a comparison:"
   ]
  },
  {
   "cell_type": "code",
   "execution_count": 25,
   "metadata": {},
   "outputs": [
    {
     "data": {
      "text/plain": [
       "0     True\n",
       "1     True\n",
       "2     True\n",
       "3     True\n",
       "4    False\n",
       "Name: duration, dtype: bool"
      ]
     },
     "execution_count": 25,
     "metadata": {},
     "output_type": "execute_result"
    }
   ],
   "source": [
    "FIVE_MINUTE_DURATION = pd.Timedelta(minutes=5)\n",
    "\n",
    "# FIVE_MINUTE_DURATION = pd.Timedelta('5 min')  # <-- this works too\n",
    "\n",
    "trips['duration'].gt(FIVE_MINUTE_DURATION).head()"
   ]
  },
  {
   "cell_type": "markdown",
   "metadata": {},
   "source": [
    "as a data check, make sure all the durations are positive"
   ]
  },
  {
   "cell_type": "code",
   "execution_count": 26,
   "metadata": {},
   "outputs": [
    {
     "data": {
      "text/plain": [
       "True"
      ]
     },
     "execution_count": 26,
     "metadata": {},
     "output_type": "execute_result"
    }
   ],
   "source": [
    "(\n",
    "    trips['duration']\n",
    "    .ge(pd.Timedelta(0))\n",
    "    .all()\n",
    ")"
   ]
  },
  {
   "cell_type": "markdown",
   "metadata": {},
   "source": [
    "To visualize or work with `timedelta` outside of pandas, we'll need to convert these to numeric units."
   ]
  },
  {
   "cell_type": "markdown",
   "metadata": {},
   "source": [
    "We can convert the `timedelta` to any other unit just by dividing each duration duration of a single target unit:"
   ]
  },
  {
   "cell_type": "code",
   "execution_count": 28,
   "metadata": {},
   "outputs": [
    {
     "data": {
      "text/plain": [
       "0    40.474750\n",
       "1     5.830617\n",
       "2    21.714033\n",
       "3     8.372383\n",
       "4     3.433917\n",
       "Name: duration_minutes, dtype: float64"
      ]
     },
     "execution_count": 28,
     "metadata": {},
     "output_type": "execute_result"
    }
   ],
   "source": [
    "trips['duration_minutes'] = trips['duration'] / pd.Timedelta(minutes=1)\n",
    "\n",
    "trips['duration_minutes'].head()"
   ]
  },
  {
   "cell_type": "markdown",
   "metadata": {},
   "source": [
    "Or extract the total seconds: "
   ]
  },
  {
   "cell_type": "code",
   "execution_count": 34,
   "metadata": {},
   "outputs": [
    {
     "data": {
      "text/plain": [
       "0    561.0\n",
       "1    532.0\n",
       "2    402.0\n",
       "3    306.0\n",
       "4    350.0\n",
       "Name: duration_seconds, dtype: float64"
      ]
     },
     "execution_count": 34,
     "metadata": {},
     "output_type": "execute_result"
    }
   ],
   "source": [
    "trips['duration_seconds'] = trips['duration'].dt.total_seconds()\n",
    "\n",
    "trips['duration_seconds'].head()"
   ]
  },
  {
   "cell_type": "code",
   "execution_count": 29,
   "metadata": {},
   "outputs": [
    {
     "data": {
      "text/plain": [
       "<seaborn.axisgrid.FacetGrid at 0x262b2030bf0>"
      ]
     },
     "execution_count": 29,
     "metadata": {},
     "output_type": "execute_result"
    },
    {
     "data": {
      "image/png": "[encoded data removed]",
      "text/plain": [
       "<Figure size 500x500 with 1 Axes>"
      ]
     },
     "metadata": {},
     "output_type": "display_data"
    }
   ],
   "source": [
    "sns.displot(\n",
    "    data=trips,\n",
    "    x='duration_minutes'\n",
    ")"
   ]
  },
  {
   "cell_type": "code",
   "execution_count": 31,
   "metadata": {},
   "outputs": [],
   "source": [
    "trips_under_two_hours = (\n",
    "    trips\n",
    "    [\n",
    "        trips['duration_minutes'].lt(120)\n",
    "    ]\n",
    ")"
   ]
  },
  {
   "cell_type": "code",
   "execution_count": 33,
   "metadata": {},
   "outputs": [
    {
     "data": {
      "text/plain": [
       "<seaborn.axisgrid.FacetGrid at 0x262a8a47710>"
      ]
     },
     "execution_count": 33,
     "metadata": {},
     "output_type": "execute_result"
    },
    {
     "data": {
      "image/png": "[encoded data removed]",
      "text/plain": [
       "<Figure size 500x500 with 1 Axes>"
      ]
     },
     "metadata": {},
     "output_type": "display_data"
    }
   ],
   "source": [
    "sns.displot(\n",
    "    data=trips_under_two_hours,\n",
    "    x='duration_minutes',\n",
    "    binwidth=2\n",
    ")"
   ]
  },
  {
   "cell_type": "code",
   "execution_count": 144,
   "metadata": {},
   "outputs": [
    {
     "data": {
      "text/plain": [
       "<seaborn.axisgrid.FacetGrid at 0x262e158b8f0>"
      ]
     },
     "execution_count": 144,
     "metadata": {},
     "output_type": "execute_result"
    },
    {
     "data": {
      "image/png": "[encoded data removed]",
      "text/plain": [
       "<Figure size 584.875x500 with 1 Axes>"
      ]
     },
     "metadata": {},
     "output_type": "display_data"
    }
   ],
   "source": [
    "sns.catplot(\n",
    "    data=trips_under_two_hours,\n",
    "    y='duration_minutes',\n",
    "    hue='weekend',\n",
    "    kind='bar',\n",
    "    errorbar=None\n",
    ")"
   ]
  },
  {
   "cell_type": "code",
   "execution_count": 145,
   "metadata": {},
   "outputs": [
    {
     "data": {
      "text/plain": [
       "member_casual\n",
       "member    788421\n",
       "casual    211579\n",
       "Name: count, dtype: int64"
      ]
     },
     "execution_count": 145,
     "metadata": {},
     "output_type": "execute_result"
    }
   ],
   "source": [
    "trips['member_casual'].value_counts()"
   ]
  },
  {
   "cell_type": "code",
   "execution_count": 146,
   "metadata": {},
   "outputs": [
    {
     "data": {
      "text/html": [
       "<div>\n",
       "<style scoped>\n",
       "    .dataframe tbody tr th:only-of-type {\n",
       "        vertical-align: middle;\n",
       "    }\n",
       "\n",
       "    .dataframe tbody tr th {\n",
       "        vertical-align: top;\n",
       "    }\n",
       "\n",
       "    .dataframe thead th {\n",
       "        text-align: right;\n",
       "    }\n",
       "</style>\n",
       "<table border=\"1\" class=\"dataframe\">\n",
       "  <thead>\n",
       "    <tr style=\"text-align: right;\">\n",
       "      <th></th>\n",
       "      <th>mean</th>\n",
       "      <th>median</th>\n",
       "    </tr>\n",
       "    <tr>\n",
       "      <th>member_casual</th>\n",
       "      <th></th>\n",
       "      <th></th>\n",
       "    </tr>\n",
       "  </thead>\n",
       "  <tbody>\n",
       "    <tr>\n",
       "      <th>casual</th>\n",
       "      <td>17.265254</td>\n",
       "      <td>13.045867</td>\n",
       "    </tr>\n",
       "    <tr>\n",
       "      <th>member</th>\n",
       "      <td>11.586907</td>\n",
       "      <td>8.781067</td>\n",
       "    </tr>\n",
       "  </tbody>\n",
       "</table>\n",
       "</div>"
      ],
      "text/plain": [
       "                    mean     median\n",
       "member_casual                      \n",
       "casual         17.265254  13.045867\n",
       "member         11.586907   8.781067"
      ]
     },
     "execution_count": 146,
     "metadata": {},
     "output_type": "execute_result"
    }
   ],
   "source": [
    "(\n",
    "    trips_under_two_hours\n",
    "    .groupby('member_casual')\n",
    "    ['duration_minutes']\n",
    "    .agg(['mean','median'])\n",
    ")"
   ]
  },
  {
   "cell_type": "markdown",
   "metadata": {},
   "source": [
    "## Frequency\n",
    "\n",
    "Data recorded at regular intervals (daily, weekly, monthly, yearly etc.)\n"
   ]
  },
  {
   "cell_type": "markdown",
   "metadata": {},
   "source": [
    "### Weather revisited\n",
    "\n",
    "What are the typical temperatures each month?"
   ]
  },
  {
   "cell_type": "markdown",
   "metadata": {},
   "source": [
    "With the `parse_dates` argument we can direct pandas to convert date text to `datetime` type when reading in a csv file. \n",
    "\n",
    "You'll need to know the structure of the file in advance, or you can read in a few rows and inspect:\n",
    "\n"
   ]
  },
  {
   "cell_type": "code",
   "execution_count": 158,
   "metadata": {},
   "outputs": [],
   "source": [
    "weather_data_source_url = 'https://raw.githubusercontent.com/dlevine01/urban-data-analysis-course/refs/heads/main/Data/Source%20Data/weather_data_nyc_centralpark_2016.csv'"
   ]
  },
  {
   "cell_type": "code",
   "execution_count": null,
   "metadata": {},
   "outputs": [],
   "source": [
    "# inspect first few rows:"
   ]
  },
  {
   "cell_type": "code",
   "execution_count": 159,
   "metadata": {},
   "outputs": [
    {
     "data": {
      "text/html": [
       "<div>\n",
       "<style scoped>\n",
       "    .dataframe tbody tr th:only-of-type {\n",
       "        vertical-align: middle;\n",
       "    }\n",
       "\n",
       "    .dataframe tbody tr th {\n",
       "        vertical-align: top;\n",
       "    }\n",
       "\n",
       "    .dataframe thead th {\n",
       "        text-align: right;\n",
       "    }\n",
       "</style>\n",
       "<table border=\"1\" class=\"dataframe\">\n",
       "  <thead>\n",
       "    <tr style=\"text-align: right;\">\n",
       "      <th></th>\n",
       "      <th>date</th>\n",
       "      <th>maximum temperature</th>\n",
       "      <th>minimum temperature</th>\n",
       "      <th>average temperature</th>\n",
       "      <th>precipitation</th>\n",
       "      <th>snow fall</th>\n",
       "      <th>snow depth</th>\n",
       "    </tr>\n",
       "  </thead>\n",
       "  <tbody>\n",
       "    <tr>\n",
       "      <th>0</th>\n",
       "      <td>1-1-2016</td>\n",
       "      <td>42</td>\n",
       "      <td>34</td>\n",
       "      <td>38.0</td>\n",
       "      <td>0.0</td>\n",
       "      <td>0.0</td>\n",
       "      <td>0</td>\n",
       "    </tr>\n",
       "    <tr>\n",
       "      <th>1</th>\n",
       "      <td>2-1-2016</td>\n",
       "      <td>40</td>\n",
       "      <td>32</td>\n",
       "      <td>36.0</td>\n",
       "      <td>0.0</td>\n",
       "      <td>0.0</td>\n",
       "      <td>0</td>\n",
       "    </tr>\n",
       "    <tr>\n",
       "      <th>2</th>\n",
       "      <td>3-1-2016</td>\n",
       "      <td>45</td>\n",
       "      <td>35</td>\n",
       "      <td>40.0</td>\n",
       "      <td>0.0</td>\n",
       "      <td>0.0</td>\n",
       "      <td>0</td>\n",
       "    </tr>\n",
       "  </tbody>\n",
       "</table>\n",
       "</div>"
      ],
      "text/plain": [
       "       date  maximum temperature  minimum temperature  average temperature  \\\n",
       "0  1-1-2016                   42                   34                 38.0   \n",
       "1  2-1-2016                   40                   32                 36.0   \n",
       "2  3-1-2016                   45                   35                 40.0   \n",
       "\n",
       "   precipitation  snow fall  snow depth  \n",
       "0            0.0        0.0           0  \n",
       "1            0.0        0.0           0  \n",
       "2            0.0        0.0           0  "
      ]
     },
     "execution_count": 159,
     "metadata": {},
     "output_type": "execute_result"
    }
   ],
   "source": [
    "pd.read_csv(\n",
    "    weather_data_source_url,\n",
    "    nrows=3\n",
    ")"
   ]
  },
  {
   "cell_type": "markdown",
   "metadata": {},
   "source": [
    "Check for the name of the column(s) to parse and the format. Then add those as arguments to `read_csv`:"
   ]
  },
  {
   "cell_type": "code",
   "execution_count": 160,
   "metadata": {},
   "outputs": [],
   "source": [
    "weather = pd.read_csv(\n",
    "    weather_data_source_url,\n",
    "    parse_dates=['date'],\n",
    "    date_format='%d-%m-%Y'\n",
    ")"
   ]
  },
  {
   "cell_type": "code",
   "execution_count": 161,
   "metadata": {},
   "outputs": [
    {
     "data": {
      "text/html": [
       "<div>\n",
       "<style scoped>\n",
       "    .dataframe tbody tr th:only-of-type {\n",
       "        vertical-align: middle;\n",
       "    }\n",
       "\n",
       "    .dataframe tbody tr th {\n",
       "        vertical-align: top;\n",
       "    }\n",
       "\n",
       "    .dataframe thead th {\n",
       "        text-align: right;\n",
       "    }\n",
       "</style>\n",
       "<table border=\"1\" class=\"dataframe\">\n",
       "  <thead>\n",
       "    <tr style=\"text-align: right;\">\n",
       "      <th></th>\n",
       "      <th>date</th>\n",
       "      <th>maximum temperature</th>\n",
       "      <th>minimum temperature</th>\n",
       "      <th>average temperature</th>\n",
       "      <th>precipitation</th>\n",
       "      <th>snow fall</th>\n",
       "      <th>snow depth</th>\n",
       "    </tr>\n",
       "  </thead>\n",
       "  <tbody>\n",
       "    <tr>\n",
       "      <th>0</th>\n",
       "      <td>2016-01-01</td>\n",
       "      <td>42</td>\n",
       "      <td>34</td>\n",
       "      <td>38.0</td>\n",
       "      <td>0.00</td>\n",
       "      <td>0.0</td>\n",
       "      <td>0</td>\n",
       "    </tr>\n",
       "    <tr>\n",
       "      <th>1</th>\n",
       "      <td>2016-01-02</td>\n",
       "      <td>40</td>\n",
       "      <td>32</td>\n",
       "      <td>36.0</td>\n",
       "      <td>0.00</td>\n",
       "      <td>0.0</td>\n",
       "      <td>0</td>\n",
       "    </tr>\n",
       "    <tr>\n",
       "      <th>2</th>\n",
       "      <td>2016-01-03</td>\n",
       "      <td>45</td>\n",
       "      <td>35</td>\n",
       "      <td>40.0</td>\n",
       "      <td>0.00</td>\n",
       "      <td>0.0</td>\n",
       "      <td>0</td>\n",
       "    </tr>\n",
       "    <tr>\n",
       "      <th>3</th>\n",
       "      <td>2016-01-04</td>\n",
       "      <td>36</td>\n",
       "      <td>14</td>\n",
       "      <td>25.0</td>\n",
       "      <td>0.00</td>\n",
       "      <td>0.0</td>\n",
       "      <td>0</td>\n",
       "    </tr>\n",
       "    <tr>\n",
       "      <th>4</th>\n",
       "      <td>2016-01-05</td>\n",
       "      <td>29</td>\n",
       "      <td>11</td>\n",
       "      <td>20.0</td>\n",
       "      <td>0.00</td>\n",
       "      <td>0.0</td>\n",
       "      <td>0</td>\n",
       "    </tr>\n",
       "  </tbody>\n",
       "</table>\n",
       "</div>"
      ],
      "text/plain": [
       "        date  maximum temperature  minimum temperature  average temperature  \\\n",
       "0 2016-01-01                   42                   34                 38.0   \n",
       "1 2016-01-02                   40                   32                 36.0   \n",
       "2 2016-01-03                   45                   35                 40.0   \n",
       "3 2016-01-04                   36                   14                 25.0   \n",
       "4 2016-01-05                   29                   11                 20.0   \n",
       "\n",
       "  precipitation snow fall snow depth  \n",
       "0          0.00       0.0          0  \n",
       "1          0.00       0.0          0  \n",
       "2          0.00       0.0          0  \n",
       "3          0.00       0.0          0  \n",
       "4          0.00       0.0          0  "
      ]
     },
     "execution_count": 161,
     "metadata": {},
     "output_type": "execute_result"
    }
   ],
   "source": [
    "weather.head()"
   ]
  },
  {
   "cell_type": "code",
   "execution_count": null,
   "metadata": {},
   "outputs": [
    {
     "data": {
      "text/plain": [
       "date                   datetime64[ns]\n",
       "maximum temperature             int64\n",
       "minimum temperature             int64\n",
       "average temperature           float64\n",
       "precipitation                  object\n",
       "snow fall                      object\n",
       "snow depth                     object\n",
       "dtype: object"
      ]
     },
     "metadata": {},
     "output_type": "display_data"
    }
   ],
   "source": [
    "weather.dtypes"
   ]
  },
  {
   "cell_type": "markdown",
   "metadata": {},
   "source": [
    "For frequency data, it is often convenient to set the date/time column as the index:"
   ]
  },
  {
   "cell_type": "code",
   "execution_count": 169,
   "metadata": {},
   "outputs": [
    {
     "data": {
      "text/html": [
       "<div>\n",
       "<style scoped>\n",
       "    .dataframe tbody tr th:only-of-type {\n",
       "        vertical-align: middle;\n",
       "    }\n",
       "\n",
       "    .dataframe tbody tr th {\n",
       "        vertical-align: top;\n",
       "    }\n",
       "\n",
       "    .dataframe thead th {\n",
       "        text-align: right;\n",
       "    }\n",
       "</style>\n",
       "<table border=\"1\" class=\"dataframe\">\n",
       "  <thead>\n",
       "    <tr style=\"text-align: right;\">\n",
       "      <th></th>\n",
       "      <th>maximum temperature</th>\n",
       "      <th>minimum temperature</th>\n",
       "      <th>average temperature</th>\n",
       "      <th>precipitation</th>\n",
       "      <th>snow fall</th>\n",
       "      <th>snow depth</th>\n",
       "    </tr>\n",
       "    <tr>\n",
       "      <th>date</th>\n",
       "      <th></th>\n",
       "      <th></th>\n",
       "      <th></th>\n",
       "      <th></th>\n",
       "      <th></th>\n",
       "      <th></th>\n",
       "    </tr>\n",
       "  </thead>\n",
       "  <tbody>\n",
       "    <tr>\n",
       "      <th>2016-01-01</th>\n",
       "      <td>42</td>\n",
       "      <td>34</td>\n",
       "      <td>38.0</td>\n",
       "      <td>0.00</td>\n",
       "      <td>0.0</td>\n",
       "      <td>0</td>\n",
       "    </tr>\n",
       "    <tr>\n",
       "      <th>2016-01-02</th>\n",
       "      <td>40</td>\n",
       "      <td>32</td>\n",
       "      <td>36.0</td>\n",
       "      <td>0.00</td>\n",
       "      <td>0.0</td>\n",
       "      <td>0</td>\n",
       "    </tr>\n",
       "    <tr>\n",
       "      <th>2016-01-03</th>\n",
       "      <td>45</td>\n",
       "      <td>35</td>\n",
       "      <td>40.0</td>\n",
       "      <td>0.00</td>\n",
       "      <td>0.0</td>\n",
       "      <td>0</td>\n",
       "    </tr>\n",
       "    <tr>\n",
       "      <th>2016-01-04</th>\n",
       "      <td>36</td>\n",
       "      <td>14</td>\n",
       "      <td>25.0</td>\n",
       "      <td>0.00</td>\n",
       "      <td>0.0</td>\n",
       "      <td>0</td>\n",
       "    </tr>\n",
       "    <tr>\n",
       "      <th>2016-01-05</th>\n",
       "      <td>29</td>\n",
       "      <td>11</td>\n",
       "      <td>20.0</td>\n",
       "      <td>0.00</td>\n",
       "      <td>0.0</td>\n",
       "      <td>0</td>\n",
       "    </tr>\n",
       "    <tr>\n",
       "      <th>...</th>\n",
       "      <td>...</td>\n",
       "      <td>...</td>\n",
       "      <td>...</td>\n",
       "      <td>...</td>\n",
       "      <td>...</td>\n",
       "      <td>...</td>\n",
       "    </tr>\n",
       "    <tr>\n",
       "      <th>2016-12-27</th>\n",
       "      <td>60</td>\n",
       "      <td>40</td>\n",
       "      <td>50.0</td>\n",
       "      <td>0</td>\n",
       "      <td>0</td>\n",
       "      <td>0</td>\n",
       "    </tr>\n",
       "    <tr>\n",
       "      <th>2016-12-28</th>\n",
       "      <td>40</td>\n",
       "      <td>34</td>\n",
       "      <td>37.0</td>\n",
       "      <td>0</td>\n",
       "      <td>0</td>\n",
       "      <td>0</td>\n",
       "    </tr>\n",
       "    <tr>\n",
       "      <th>2016-12-29</th>\n",
       "      <td>46</td>\n",
       "      <td>33</td>\n",
       "      <td>39.5</td>\n",
       "      <td>0.39</td>\n",
       "      <td>0</td>\n",
       "      <td>0</td>\n",
       "    </tr>\n",
       "    <tr>\n",
       "      <th>2016-12-30</th>\n",
       "      <td>40</td>\n",
       "      <td>33</td>\n",
       "      <td>36.5</td>\n",
       "      <td>0.01</td>\n",
       "      <td>T</td>\n",
       "      <td>0</td>\n",
       "    </tr>\n",
       "    <tr>\n",
       "      <th>2016-12-31</th>\n",
       "      <td>44</td>\n",
       "      <td>31</td>\n",
       "      <td>37.5</td>\n",
       "      <td>0</td>\n",
       "      <td>0</td>\n",
       "      <td>0</td>\n",
       "    </tr>\n",
       "  </tbody>\n",
       "</table>\n",
       "<p>366 rows × 6 columns</p>\n",
       "</div>"
      ],
      "text/plain": [
       "            maximum temperature  minimum temperature  average temperature  \\\n",
       "date                                                                        \n",
       "2016-01-01                   42                   34                 38.0   \n",
       "2016-01-02                   40                   32                 36.0   \n",
       "2016-01-03                   45                   35                 40.0   \n",
       "2016-01-04                   36                   14                 25.0   \n",
       "2016-01-05                   29                   11                 20.0   \n",
       "...                         ...                  ...                  ...   \n",
       "2016-12-27                   60                   40                 50.0   \n",
       "2016-12-28                   40                   34                 37.0   \n",
       "2016-12-29                   46                   33                 39.5   \n",
       "2016-12-30                   40                   33                 36.5   \n",
       "2016-12-31                   44                   31                 37.5   \n",
       "\n",
       "           precipitation snow fall snow depth  \n",
       "date                                           \n",
       "2016-01-01          0.00       0.0          0  \n",
       "2016-01-02          0.00       0.0          0  \n",
       "2016-01-03          0.00       0.0          0  \n",
       "2016-01-04          0.00       0.0          0  \n",
       "2016-01-05          0.00       0.0          0  \n",
       "...                  ...       ...        ...  \n",
       "2016-12-27             0         0          0  \n",
       "2016-12-28             0         0          0  \n",
       "2016-12-29          0.39         0          0  \n",
       "2016-12-30          0.01         T          0  \n",
       "2016-12-31             0         0          0  \n",
       "\n",
       "[366 rows x 6 columns]"
      ]
     },
     "execution_count": 169,
     "metadata": {},
     "output_type": "execute_result"
    }
   ],
   "source": [
    "weather = weather.set_index('date')\n",
    "\n",
    "weather"
   ]
  },
  {
   "cell_type": "code",
   "execution_count": 170,
   "metadata": {},
   "outputs": [
    {
     "data": {
      "text/plain": [
       "date\n",
       "2016-01-01    42\n",
       "2016-01-02    40\n",
       "2016-01-03    45\n",
       "2016-01-04    36\n",
       "2016-01-05    29\n",
       "              ..\n",
       "2016-12-27    60\n",
       "2016-12-28    40\n",
       "2016-12-29    46\n",
       "2016-12-30    40\n",
       "2016-12-31    44\n",
       "Name: maximum temperature, Length: 366, dtype: int64"
      ]
     },
     "execution_count": 170,
     "metadata": {},
     "output_type": "execute_result"
    }
   ],
   "source": [
    "weather['maximum temperature']"
   ]
  },
  {
   "cell_type": "markdown",
   "metadata": {},
   "source": [
    "Line plots are a good way to view frequency data."
   ]
  },
  {
   "cell_type": "code",
   "execution_count": 171,
   "metadata": {},
   "outputs": [
    {
     "data": {
      "text/plain": [
       "<Axes: xlabel='date'>"
      ]
     },
     "execution_count": 171,
     "metadata": {},
     "output_type": "execute_result"
    },
    {
     "data": {
      "image/png": "[encoded data removed]",
      "text/plain": [
       "<Figure size 640x480 with 1 Axes>"
      ]
     },
     "metadata": {},
     "output_type": "display_data"
    }
   ],
   "source": [
    "(\n",
    "    weather\n",
    "    [[\n",
    "        'maximum temperature',\n",
    "        'minimum temperature',\n",
    "    ]]\n",
    "    .plot.line()\n",
    ")"
   ]
  },
  {
   "cell_type": "markdown",
   "metadata": {},
   "source": [
    "### Resampling\n",
    "\n",
    "A common task is to resample datatime data, i.e. to summarize records by hour, day, month, etc.\n"
   ]
  },
  {
   "cell_type": "markdown",
   "metadata": {},
   "source": [
    "With data that already have a datetime index, use `resample()`"
   ]
  },
  {
   "cell_type": "code",
   "execution_count": null,
   "metadata": {},
   "outputs": [
    {
     "data": {
      "text/html": [
       "<div>\n",
       "<style scoped>\n",
       "    .dataframe tbody tr th:only-of-type {\n",
       "        vertical-align: middle;\n",
       "    }\n",
       "\n",
       "    .dataframe tbody tr th {\n",
       "        vertical-align: top;\n",
       "    }\n",
       "\n",
       "    .dataframe thead th {\n",
       "        text-align: right;\n",
       "    }\n",
       "</style>\n",
       "<table border=\"1\" class=\"dataframe\">\n",
       "  <thead>\n",
       "    <tr style=\"text-align: right;\">\n",
       "      <th></th>\n",
       "      <th>minimum temperature</th>\n",
       "      <th>maximum temperature</th>\n",
       "    </tr>\n",
       "    <tr>\n",
       "      <th>date</th>\n",
       "      <th></th>\n",
       "      <th></th>\n",
       "    </tr>\n",
       "  </thead>\n",
       "  <tbody>\n",
       "    <tr>\n",
       "      <th>2016-01-31</th>\n",
       "      <td>28.129032</td>\n",
       "      <td>40.774194</td>\n",
       "    </tr>\n",
       "    <tr>\n",
       "      <th>2016-02-29</th>\n",
       "      <td>30.586207</td>\n",
       "      <td>44.827586</td>\n",
       "    </tr>\n",
       "    <tr>\n",
       "      <th>2016-03-31</th>\n",
       "      <td>40.354839</td>\n",
       "      <td>57.387097</td>\n",
       "    </tr>\n",
       "    <tr>\n",
       "      <th>2016-04-30</th>\n",
       "      <td>44.433333</td>\n",
       "      <td>62.233333</td>\n",
       "    </tr>\n",
       "    <tr>\n",
       "      <th>2016-05-31</th>\n",
       "      <td>54.967742</td>\n",
       "      <td>70.612903</td>\n",
       "    </tr>\n",
       "    <tr>\n",
       "      <th>2016-06-30</th>\n",
       "      <td>63.566667</td>\n",
       "      <td>80.933333</td>\n",
       "    </tr>\n",
       "    <tr>\n",
       "      <th>2016-07-31</th>\n",
       "      <td>71.096774</td>\n",
       "      <td>86.258065</td>\n",
       "    </tr>\n",
       "    <tr>\n",
       "      <th>2016-08-31</th>\n",
       "      <td>71.774194</td>\n",
       "      <td>86.580645</td>\n",
       "    </tr>\n",
       "    <tr>\n",
       "      <th>2016-09-30</th>\n",
       "      <td>64.566667</td>\n",
       "      <td>79.033333</td>\n",
       "    </tr>\n",
       "    <tr>\n",
       "      <th>2016-10-31</th>\n",
       "      <td>51.741935</td>\n",
       "      <td>65.774194</td>\n",
       "    </tr>\n",
       "    <tr>\n",
       "      <th>2016-11-30</th>\n",
       "      <td>42.933333</td>\n",
       "      <td>56.600000</td>\n",
       "    </tr>\n",
       "    <tr>\n",
       "      <th>2016-12-31</th>\n",
       "      <td>32.806452</td>\n",
       "      <td>43.870968</td>\n",
       "    </tr>\n",
       "  </tbody>\n",
       "</table>\n",
       "</div>"
      ],
      "text/plain": [
       "            minimum temperature  maximum temperature\n",
       "date                                                \n",
       "2016-01-31            28.129032            40.774194\n",
       "2016-02-29            30.586207            44.827586\n",
       "2016-03-31            40.354839            57.387097\n",
       "2016-04-30            44.433333            62.233333\n",
       "2016-05-31            54.967742            70.612903\n",
       "2016-06-30            63.566667            80.933333\n",
       "2016-07-31            71.096774            86.258065\n",
       "2016-08-31            71.774194            86.580645\n",
       "2016-09-30            64.566667            79.033333\n",
       "2016-10-31            51.741935            65.774194\n",
       "2016-11-30            42.933333            56.600000\n",
       "2016-12-31            32.806452            43.870968"
      ]
     },
     "execution_count": 178,
     "metadata": {},
     "output_type": "execute_result"
    }
   ],
   "source": [
    "# mean monthly high and low temperature\n",
    "\n",
    "(\n",
    "    weather\n",
    "    [['minimum temperature','maximum temperature']]\n",
    "    .resample('ME') # ME for 'month end'\n",
    "    .mean()\n",
    "\n",
    ")"
   ]
  },
  {
   "cell_type": "markdown",
   "metadata": {},
   "source": [
    "For data that have datetime values but do not have a frequency index (e.g. the Citi Bike trips), the auxiliary `pd.Grouper()` function can be used in a `groupby` to resample."
   ]
  },
  {
   "cell_type": "code",
   "execution_count": 149,
   "metadata": {},
   "outputs": [
    {
     "data": {
      "text/plain": [
       "started_at\n",
       "2024-08-31   0 days 00:25:24.477500\n",
       "2024-09-01   0 days 00:10:42.093000\n",
       "2024-09-02   0 days 00:10:45.286500\n",
       "2024-09-03   0 days 00:09:22.999000\n",
       "2024-09-04   0 days 00:09:22.085000\n",
       "2024-09-05   0 days 00:09:33.644000\n",
       "2024-09-06   0 days 00:09:35.241500\n",
       "2024-09-07   0 days 00:09:55.939000\n",
       "2024-09-08   0 days 00:10:39.426000\n",
       "2024-09-09   0 days 00:09:15.732500\n",
       "2024-09-10   0 days 00:09:35.085500\n",
       "2024-09-11   0 days 00:09:33.428000\n",
       "2024-09-12   0 days 00:09:29.205500\n",
       "2024-09-13   0 days 00:09:34.197000\n",
       "2024-09-14   0 days 00:11:10.733500\n",
       "2024-09-15   0 days 00:10:31.662500\n",
       "2024-09-16   0 days 00:09:04.774000\n",
       "2024-09-17   0 days 00:09:15.544000\n",
       "2024-09-18   0 days 00:09:04.096000\n",
       "2024-09-19   0 days 00:09:22.323000\n",
       "2024-09-20   0 days 00:09:29.322000\n",
       "2024-09-21   0 days 00:10:50.898000\n",
       "2024-09-22   0 days 00:10:21.042500\n",
       "2024-09-23   0 days 00:08:40.295500\n",
       "2024-09-24   0 days 00:09:12.272000\n",
       "2024-09-25   0 days 00:08:55.652000\n",
       "2024-09-26   0 days 00:08:55.719000\n",
       "2024-09-27   0 days 00:09:10.340000\n",
       "2024-09-28   0 days 00:08:57.428500\n",
       "2024-09-29   0 days 00:08:27.405000\n",
       "2024-09-30   0 days 00:08:44.607000\n",
       "Freq: D, Name: duration, dtype: timedelta64[ns]"
      ]
     },
     "execution_count": 149,
     "metadata": {},
     "output_type": "execute_result"
    }
   ],
   "source": [
    "# median trip duration by day\n",
    "\n",
    "(\n",
    "    trips\n",
    "    .groupby(\n",
    "        pd.Grouper(key='started_at',freq='D')\n",
    "    )\n",
    "    ['duration']\n",
    "    .median()\n",
    ")"
   ]
  },
  {
   "cell_type": "code",
   "execution_count": 150,
   "metadata": {},
   "outputs": [
    {
     "data": {
      "text/plain": [
       "started_at\n",
       "2024-09-02   0 days 00:10:46.174000\n",
       "2024-09-09   0 days 00:09:38.843000\n",
       "2024-09-16   0 days 00:09:49.194500\n",
       "2024-09-23   0 days 00:09:33.268000\n",
       "2024-09-30   0 days 00:08:57.399000\n",
       "Freq: W-MON, Name: duration, dtype: timedelta64[ns]"
      ]
     },
     "execution_count": 150,
     "metadata": {},
     "output_type": "execute_result"
    }
   ],
   "source": [
    "# median trip duration by week (starting Monday)\n",
    "\n",
    "(\n",
    "    trips\n",
    "    .groupby(\n",
    "        pd.Grouper(key='started_at',freq='W-MON')\n",
    "    )\n",
    "    ['duration']\n",
    "    .median()\n",
    ")"
   ]
  },
  {
   "cell_type": "markdown",
   "metadata": {},
   "source": [
    "`pd.Grouper` can be combined with other factors for multi-level grouping"
   ]
  },
  {
   "cell_type": "code",
   "execution_count": 46,
   "metadata": {},
   "outputs": [
    {
     "data": {
      "text/html": [
       "<div>\n",
       "<style scoped>\n",
       "    .dataframe tbody tr th:only-of-type {\n",
       "        vertical-align: middle;\n",
       "    }\n",
       "\n",
       "    .dataframe tbody tr th {\n",
       "        vertical-align: top;\n",
       "    }\n",
       "\n",
       "    .dataframe thead th {\n",
       "        text-align: right;\n",
       "    }\n",
       "</style>\n",
       "<table border=\"1\" class=\"dataframe\">\n",
       "  <thead>\n",
       "    <tr style=\"text-align: right;\">\n",
       "      <th>member_casual</th>\n",
       "      <th>casual</th>\n",
       "      <th>member</th>\n",
       "    </tr>\n",
       "    <tr>\n",
       "      <th>started_at</th>\n",
       "      <th></th>\n",
       "      <th></th>\n",
       "    </tr>\n",
       "  </thead>\n",
       "  <tbody>\n",
       "    <tr>\n",
       "      <th>2024-09-02</th>\n",
       "      <td>0 days 00:15:43.837000</td>\n",
       "      <td>0 days 00:09:00.593000</td>\n",
       "    </tr>\n",
       "    <tr>\n",
       "      <th>2024-09-09</th>\n",
       "      <td>0 days 00:13:05.150000</td>\n",
       "      <td>0 days 00:08:53.613000</td>\n",
       "    </tr>\n",
       "    <tr>\n",
       "      <th>2024-09-16</th>\n",
       "      <td>0 days 00:13:24.610000</td>\n",
       "      <td>0 days 00:08:58.970000</td>\n",
       "    </tr>\n",
       "    <tr>\n",
       "      <th>2024-09-23</th>\n",
       "      <td>0 days 00:13:04.859000</td>\n",
       "      <td>0 days 00:08:47.372500</td>\n",
       "    </tr>\n",
       "    <tr>\n",
       "      <th>2024-09-30</th>\n",
       "      <td>0 days 00:11:52.729000</td>\n",
       "      <td>0 days 00:08:22.519000</td>\n",
       "    </tr>\n",
       "  </tbody>\n",
       "</table>\n",
       "</div>"
      ],
      "text/plain": [
       "member_casual                 casual                 member\n",
       "started_at                                                 \n",
       "2024-09-02    0 days 00:15:43.837000 0 days 00:09:00.593000\n",
       "2024-09-09    0 days 00:13:05.150000 0 days 00:08:53.613000\n",
       "2024-09-16    0 days 00:13:24.610000 0 days 00:08:58.970000\n",
       "2024-09-23    0 days 00:13:04.859000 0 days 00:08:47.372500\n",
       "2024-09-30    0 days 00:11:52.729000 0 days 00:08:22.519000"
      ]
     },
     "execution_count": 46,
     "metadata": {},
     "output_type": "execute_result"
    }
   ],
   "source": [
    "# mean trip duration by week (starting Monday)\n",
    "\n",
    "(\n",
    "    trips\n",
    "    .groupby([\n",
    "        pd.Grouper(key='started_at',freq='W-MON'),\n",
    "        'member_casual'\n",
    "    ])\n",
    "    ['duration']\n",
    "    .median()\n",
    "    .unstack()\n",
    ")"
   ]
  },
  {
   "cell_type": "markdown",
   "metadata": {},
   "source": [
    "### datetime index\n",
    "\n",
    "For data summarized by a date or time unit (e.g. hourly, weekly, monthly), is it often useful to use this datetime value as the index of the dataframe.\n",
    "\n"
   ]
  },
  {
   "cell_type": "code",
   "execution_count": 179,
   "metadata": {},
   "outputs": [
    {
     "data": {
      "text/html": [
       "<div>\n",
       "<style scoped>\n",
       "    .dataframe tbody tr th:only-of-type {\n",
       "        vertical-align: middle;\n",
       "    }\n",
       "\n",
       "    .dataframe tbody tr th {\n",
       "        vertical-align: top;\n",
       "    }\n",
       "\n",
       "    .dataframe thead th {\n",
       "        text-align: right;\n",
       "    }\n",
       "</style>\n",
       "<table border=\"1\" class=\"dataframe\">\n",
       "  <thead>\n",
       "    <tr style=\"text-align: right;\">\n",
       "      <th>member_casual</th>\n",
       "      <th>casual</th>\n",
       "      <th>member</th>\n",
       "    </tr>\n",
       "    <tr>\n",
       "      <th>started_at</th>\n",
       "      <th></th>\n",
       "      <th></th>\n",
       "    </tr>\n",
       "  </thead>\n",
       "  <tbody>\n",
       "    <tr>\n",
       "      <th>2024-08-31 15:00:00</th>\n",
       "      <td>0 days 10:20:44.032000</td>\n",
       "      <td>NaT</td>\n",
       "    </tr>\n",
       "    <tr>\n",
       "      <th>2024-08-31 16:00:00</th>\n",
       "      <td>0 days 09:20:26.694500</td>\n",
       "      <td>NaT</td>\n",
       "    </tr>\n",
       "    <tr>\n",
       "      <th>2024-08-31 17:00:00</th>\n",
       "      <td>0 days 16:54:21.513500</td>\n",
       "      <td>NaT</td>\n",
       "    </tr>\n",
       "    <tr>\n",
       "      <th>2024-08-31 18:00:00</th>\n",
       "      <td>0 days 10:17:00.573000</td>\n",
       "      <td>NaT</td>\n",
       "    </tr>\n",
       "    <tr>\n",
       "      <th>2024-08-31 19:00:00</th>\n",
       "      <td>0 days 06:52:36.645000</td>\n",
       "      <td>NaT</td>\n",
       "    </tr>\n",
       "    <tr>\n",
       "      <th>...</th>\n",
       "      <td>...</td>\n",
       "      <td>...</td>\n",
       "    </tr>\n",
       "    <tr>\n",
       "      <th>2024-09-30 19:00:00</th>\n",
       "      <td>0 days 00:11:11.049500</td>\n",
       "      <td>0 days 00:08:20.435500</td>\n",
       "    </tr>\n",
       "    <tr>\n",
       "      <th>2024-09-30 20:00:00</th>\n",
       "      <td>0 days 00:11:35.861000</td>\n",
       "      <td>0 days 00:08:05.232000</td>\n",
       "    </tr>\n",
       "    <tr>\n",
       "      <th>2024-09-30 21:00:00</th>\n",
       "      <td>0 days 00:11:41.614500</td>\n",
       "      <td>0 days 00:07:52.677000</td>\n",
       "    </tr>\n",
       "    <tr>\n",
       "      <th>2024-09-30 22:00:00</th>\n",
       "      <td>0 days 00:12:18.829000</td>\n",
       "      <td>0 days 00:08:44.374500</td>\n",
       "    </tr>\n",
       "    <tr>\n",
       "      <th>2024-09-30 23:00:00</th>\n",
       "      <td>0 days 00:08:19.920500</td>\n",
       "      <td>0 days 00:07:20.653000</td>\n",
       "    </tr>\n",
       "  </tbody>\n",
       "</table>\n",
       "<p>728 rows × 2 columns</p>\n",
       "</div>"
      ],
      "text/plain": [
       "member_casual                       casual                 member\n",
       "started_at                                                       \n",
       "2024-08-31 15:00:00 0 days 10:20:44.032000                    NaT\n",
       "2024-08-31 16:00:00 0 days 09:20:26.694500                    NaT\n",
       "2024-08-31 17:00:00 0 days 16:54:21.513500                    NaT\n",
       "2024-08-31 18:00:00 0 days 10:17:00.573000                    NaT\n",
       "2024-08-31 19:00:00 0 days 06:52:36.645000                    NaT\n",
       "...                                    ...                    ...\n",
       "2024-09-30 19:00:00 0 days 00:11:11.049500 0 days 00:08:20.435500\n",
       "2024-09-30 20:00:00 0 days 00:11:35.861000 0 days 00:08:05.232000\n",
       "2024-09-30 21:00:00 0 days 00:11:41.614500 0 days 00:07:52.677000\n",
       "2024-09-30 22:00:00 0 days 00:12:18.829000 0 days 00:08:44.374500\n",
       "2024-09-30 23:00:00 0 days 00:08:19.920500 0 days 00:07:20.653000\n",
       "\n",
       "[728 rows x 2 columns]"
      ]
     },
     "execution_count": 179,
     "metadata": {},
     "output_type": "execute_result"
    }
   ],
   "source": [
    "median_trip_duration_by_hour_by_member_casual = (\n",
    "    trips\n",
    "    .groupby([\n",
    "        pd.Grouper(key='started_at',freq='h'),\n",
    "        'member_casual'\n",
    "    ])\n",
    "    ['duration']\n",
    "    .median()\n",
    "    .unstack()\n",
    ")\n",
    "\n",
    "median_trip_duration_by_hour_by_member_casual"
   ]
  },
  {
   "cell_type": "markdown",
   "metadata": {},
   "source": [
    "this shows that we have some trips that started in the previous month. Let's filter this to just started_at hours in September.\n",
    "\n",
    "With a datetime index, we can use `.loc` indexing using strings to represent dates (internally, they are converted to datetimes and used as range indexers)"
   ]
  },
  {
   "cell_type": "code",
   "execution_count": 48,
   "metadata": {},
   "outputs": [
    {
     "data": {
      "text/html": [
       "<div>\n",
       "<style scoped>\n",
       "    .dataframe tbody tr th:only-of-type {\n",
       "        vertical-align: middle;\n",
       "    }\n",
       "\n",
       "    .dataframe tbody tr th {\n",
       "        vertical-align: top;\n",
       "    }\n",
       "\n",
       "    .dataframe thead th {\n",
       "        text-align: right;\n",
       "    }\n",
       "</style>\n",
       "<table border=\"1\" class=\"dataframe\">\n",
       "  <thead>\n",
       "    <tr style=\"text-align: right;\">\n",
       "      <th>member_casual</th>\n",
       "      <th>casual</th>\n",
       "      <th>member</th>\n",
       "    </tr>\n",
       "    <tr>\n",
       "      <th>started_at</th>\n",
       "      <th></th>\n",
       "      <th></th>\n",
       "    </tr>\n",
       "  </thead>\n",
       "  <tbody>\n",
       "    <tr>\n",
       "      <th>2024-09-01 00:00:00</th>\n",
       "      <td>0 days 00:12:21.406000</td>\n",
       "      <td>0 days 00:09:47.781000</td>\n",
       "    </tr>\n",
       "    <tr>\n",
       "      <th>2024-09-01 01:00:00</th>\n",
       "      <td>0 days 00:11:42.706000</td>\n",
       "      <td>0 days 00:09:39.713000</td>\n",
       "    </tr>\n",
       "    <tr>\n",
       "      <th>2024-09-01 02:00:00</th>\n",
       "      <td>0 days 00:12:21.852000</td>\n",
       "      <td>0 days 00:10:20.020000</td>\n",
       "    </tr>\n",
       "    <tr>\n",
       "      <th>2024-09-01 03:00:00</th>\n",
       "      <td>0 days 00:12:34.838000</td>\n",
       "      <td>0 days 00:08:45.628000</td>\n",
       "    </tr>\n",
       "    <tr>\n",
       "      <th>2024-09-01 04:00:00</th>\n",
       "      <td>0 days 00:14:13.019000</td>\n",
       "      <td>0 days 00:07:43.574000</td>\n",
       "    </tr>\n",
       "    <tr>\n",
       "      <th>...</th>\n",
       "      <td>...</td>\n",
       "      <td>...</td>\n",
       "    </tr>\n",
       "    <tr>\n",
       "      <th>2024-09-30 19:00:00</th>\n",
       "      <td>0 days 00:11:11.049500</td>\n",
       "      <td>0 days 00:08:20.435500</td>\n",
       "    </tr>\n",
       "    <tr>\n",
       "      <th>2024-09-30 20:00:00</th>\n",
       "      <td>0 days 00:11:35.861000</td>\n",
       "      <td>0 days 00:08:05.232000</td>\n",
       "    </tr>\n",
       "    <tr>\n",
       "      <th>2024-09-30 21:00:00</th>\n",
       "      <td>0 days 00:11:41.614500</td>\n",
       "      <td>0 days 00:07:52.677000</td>\n",
       "    </tr>\n",
       "    <tr>\n",
       "      <th>2024-09-30 22:00:00</th>\n",
       "      <td>0 days 00:12:18.829000</td>\n",
       "      <td>0 days 00:08:44.374500</td>\n",
       "    </tr>\n",
       "    <tr>\n",
       "      <th>2024-09-30 23:00:00</th>\n",
       "      <td>0 days 00:08:19.920500</td>\n",
       "      <td>0 days 00:07:20.653000</td>\n",
       "    </tr>\n",
       "  </tbody>\n",
       "</table>\n",
       "<p>720 rows × 2 columns</p>\n",
       "</div>"
      ],
      "text/plain": [
       "member_casual                       casual                 member\n",
       "started_at                                                       \n",
       "2024-09-01 00:00:00 0 days 00:12:21.406000 0 days 00:09:47.781000\n",
       "2024-09-01 01:00:00 0 days 00:11:42.706000 0 days 00:09:39.713000\n",
       "2024-09-01 02:00:00 0 days 00:12:21.852000 0 days 00:10:20.020000\n",
       "2024-09-01 03:00:00 0 days 00:12:34.838000 0 days 00:08:45.628000\n",
       "2024-09-01 04:00:00 0 days 00:14:13.019000 0 days 00:07:43.574000\n",
       "...                                    ...                    ...\n",
       "2024-09-30 19:00:00 0 days 00:11:11.049500 0 days 00:08:20.435500\n",
       "2024-09-30 20:00:00 0 days 00:11:35.861000 0 days 00:08:05.232000\n",
       "2024-09-30 21:00:00 0 days 00:11:41.614500 0 days 00:07:52.677000\n",
       "2024-09-30 22:00:00 0 days 00:12:18.829000 0 days 00:08:44.374500\n",
       "2024-09-30 23:00:00 0 days 00:08:19.920500 0 days 00:07:20.653000\n",
       "\n",
       "[720 rows x 2 columns]"
      ]
     },
     "execution_count": 48,
     "metadata": {},
     "output_type": "execute_result"
    }
   ],
   "source": [
    "median_trip_duration_by_hour_by_member_casual = (\n",
    "    median_trip_duration_by_hour_by_member_casual\n",
    "    .loc['2024-09']\n",
    ")\n",
    "\n",
    "median_trip_duration_by_hour_by_member_casual"
   ]
  },
  {
   "cell_type": "markdown",
   "metadata": {},
   "source": [
    "we can use that method to select a range of dates, too:"
   ]
  },
  {
   "cell_type": "code",
   "execution_count": 180,
   "metadata": {},
   "outputs": [
    {
     "data": {
      "text/html": [
       "<div>\n",
       "<style scoped>\n",
       "    .dataframe tbody tr th:only-of-type {\n",
       "        vertical-align: middle;\n",
       "    }\n",
       "\n",
       "    .dataframe tbody tr th {\n",
       "        vertical-align: top;\n",
       "    }\n",
       "\n",
       "    .dataframe thead th {\n",
       "        text-align: right;\n",
       "    }\n",
       "</style>\n",
       "<table border=\"1\" class=\"dataframe\">\n",
       "  <thead>\n",
       "    <tr style=\"text-align: right;\">\n",
       "      <th>member_casual</th>\n",
       "      <th>casual</th>\n",
       "      <th>member</th>\n",
       "    </tr>\n",
       "    <tr>\n",
       "      <th>started_at</th>\n",
       "      <th></th>\n",
       "      <th></th>\n",
       "    </tr>\n",
       "  </thead>\n",
       "  <tbody>\n",
       "    <tr>\n",
       "      <th>2024-09-06 00:00:00</th>\n",
       "      <td>0 days 00:11:09.800000</td>\n",
       "      <td>0 days 00:08:47.177000</td>\n",
       "    </tr>\n",
       "    <tr>\n",
       "      <th>2024-09-06 01:00:00</th>\n",
       "      <td>0 days 00:09:56.197000</td>\n",
       "      <td>0 days 00:08:45.488500</td>\n",
       "    </tr>\n",
       "    <tr>\n",
       "      <th>2024-09-06 02:00:00</th>\n",
       "      <td>0 days 00:11:09.134000</td>\n",
       "      <td>0 days 00:07:18.188000</td>\n",
       "    </tr>\n",
       "    <tr>\n",
       "      <th>2024-09-06 03:00:00</th>\n",
       "      <td>0 days 00:11:12.343000</td>\n",
       "      <td>0 days 00:08:44.277000</td>\n",
       "    </tr>\n",
       "    <tr>\n",
       "      <th>2024-09-06 04:00:00</th>\n",
       "      <td>0 days 00:12:24.996000</td>\n",
       "      <td>0 days 00:09:52.614000</td>\n",
       "    </tr>\n",
       "    <tr>\n",
       "      <th>...</th>\n",
       "      <td>...</td>\n",
       "      <td>...</td>\n",
       "    </tr>\n",
       "    <tr>\n",
       "      <th>2024-09-08 19:00:00</th>\n",
       "      <td>0 days 00:14:01.789000</td>\n",
       "      <td>0 days 00:09:20.202000</td>\n",
       "    </tr>\n",
       "    <tr>\n",
       "      <th>2024-09-08 20:00:00</th>\n",
       "      <td>0 days 00:13:05.208000</td>\n",
       "      <td>0 days 00:09:02.506000</td>\n",
       "    </tr>\n",
       "    <tr>\n",
       "      <th>2024-09-08 21:00:00</th>\n",
       "      <td>0 days 00:10:45.271000</td>\n",
       "      <td>0 days 00:08:33.383000</td>\n",
       "    </tr>\n",
       "    <tr>\n",
       "      <th>2024-09-08 22:00:00</th>\n",
       "      <td>0 days 00:11:36.467000</td>\n",
       "      <td>0 days 00:08:43.664000</td>\n",
       "    </tr>\n",
       "    <tr>\n",
       "      <th>2024-09-08 23:00:00</th>\n",
       "      <td>0 days 00:10:09.244000</td>\n",
       "      <td>0 days 00:08:11.145500</td>\n",
       "    </tr>\n",
       "  </tbody>\n",
       "</table>\n",
       "<p>72 rows × 2 columns</p>\n",
       "</div>"
      ],
      "text/plain": [
       "member_casual                       casual                 member\n",
       "started_at                                                       \n",
       "2024-09-06 00:00:00 0 days 00:11:09.800000 0 days 00:08:47.177000\n",
       "2024-09-06 01:00:00 0 days 00:09:56.197000 0 days 00:08:45.488500\n",
       "2024-09-06 02:00:00 0 days 00:11:09.134000 0 days 00:07:18.188000\n",
       "2024-09-06 03:00:00 0 days 00:11:12.343000 0 days 00:08:44.277000\n",
       "2024-09-06 04:00:00 0 days 00:12:24.996000 0 days 00:09:52.614000\n",
       "...                                    ...                    ...\n",
       "2024-09-08 19:00:00 0 days 00:14:01.789000 0 days 00:09:20.202000\n",
       "2024-09-08 20:00:00 0 days 00:13:05.208000 0 days 00:09:02.506000\n",
       "2024-09-08 21:00:00 0 days 00:10:45.271000 0 days 00:08:33.383000\n",
       "2024-09-08 22:00:00 0 days 00:11:36.467000 0 days 00:08:43.664000\n",
       "2024-09-08 23:00:00 0 days 00:10:09.244000 0 days 00:08:11.145500\n",
       "\n",
       "[72 rows x 2 columns]"
      ]
     },
     "execution_count": 180,
     "metadata": {},
     "output_type": "execute_result"
    }
   ],
   "source": [
    "(\n",
    "    median_trip_duration_by_hour_by_member_casual\n",
    "    .loc['2024-09-06':'2024-09-08']\n",
    ")"
   ]
  },
  {
   "cell_type": "markdown",
   "metadata": {},
   "source": [
    "...or hours"
   ]
  },
  {
   "cell_type": "code",
   "execution_count": 181,
   "metadata": {},
   "outputs": [
    {
     "data": {
      "text/html": [
       "<div>\n",
       "<style scoped>\n",
       "    .dataframe tbody tr th:only-of-type {\n",
       "        vertical-align: middle;\n",
       "    }\n",
       "\n",
       "    .dataframe tbody tr th {\n",
       "        vertical-align: top;\n",
       "    }\n",
       "\n",
       "    .dataframe thead th {\n",
       "        text-align: right;\n",
       "    }\n",
       "</style>\n",
       "<table border=\"1\" class=\"dataframe\">\n",
       "  <thead>\n",
       "    <tr style=\"text-align: right;\">\n",
       "      <th>member_casual</th>\n",
       "      <th>casual</th>\n",
       "      <th>member</th>\n",
       "    </tr>\n",
       "    <tr>\n",
       "      <th>started_at</th>\n",
       "      <th></th>\n",
       "      <th></th>\n",
       "    </tr>\n",
       "  </thead>\n",
       "  <tbody>\n",
       "    <tr>\n",
       "      <th>2024-09-06 15:00:00</th>\n",
       "      <td>0 days 00:12:26.782000</td>\n",
       "      <td>0 days 00:08:58.794000</td>\n",
       "    </tr>\n",
       "    <tr>\n",
       "      <th>2024-09-06 16:00:00</th>\n",
       "      <td>0 days 00:14:21.390000</td>\n",
       "      <td>0 days 00:08:41.282000</td>\n",
       "    </tr>\n",
       "    <tr>\n",
       "      <th>2024-09-06 17:00:00</th>\n",
       "      <td>0 days 00:13:22.359000</td>\n",
       "      <td>0 days 00:09:31.690500</td>\n",
       "    </tr>\n",
       "  </tbody>\n",
       "</table>\n",
       "</div>"
      ],
      "text/plain": [
       "member_casual                       casual                 member\n",
       "started_at                                                       \n",
       "2024-09-06 15:00:00 0 days 00:12:26.782000 0 days 00:08:58.794000\n",
       "2024-09-06 16:00:00 0 days 00:14:21.390000 0 days 00:08:41.282000\n",
       "2024-09-06 17:00:00 0 days 00:13:22.359000 0 days 00:09:31.690500"
      ]
     },
     "execution_count": 181,
     "metadata": {},
     "output_type": "execute_result"
    }
   ],
   "source": [
    "(\n",
    "    median_trip_duration_by_hour_by_member_casual\n",
    "    .loc['2024-09-06 15:00':'2024-09-06 17:00']\n",
    ")"
   ]
  },
  {
   "cell_type": "markdown",
   "metadata": {},
   "source": [
    "(note that unlike other list slices, datetime ranges like this are _inclusive_ of the last datetime)"
   ]
  },
  {
   "cell_type": "markdown",
   "metadata": {},
   "source": [
    "### Seasonality"
   ]
  },
  {
   "cell_type": "code",
   "execution_count": null,
   "metadata": {},
   "outputs": [
    {
     "data": {
      "text/plain": [
       "started_at\n",
       "2024-08-31 15:00:00       1\n",
       "2024-08-31 16:00:00       2\n",
       "2024-08-31 17:00:00       2\n",
       "2024-08-31 18:00:00       3\n",
       "2024-08-31 19:00:00       2\n",
       "                       ... \n",
       "2024-09-30 19:00:00    2288\n",
       "2024-09-30 20:00:00    1547\n",
       "2024-09-30 21:00:00    1178\n",
       "2024-09-30 22:00:00     908\n",
       "2024-09-30 23:00:00     472\n",
       "Freq: h, Name: ride_id, Length: 729, dtype: int64"
      ]
     },
     "execution_count": 186,
     "metadata": {},
     "output_type": "execute_result"
    }
   ],
   "source": [
    "(\n",
    "    trips\n",
    "    .set_index('started_at')\n",
    "    .resample('h')\n",
    "    ['ride_id']\n",
    "    .count()\n",
    ")\n",
    "\n",
    "total_trips_by_hour"
   ]
  },
  {
   "cell_type": "code",
   "execution_count": 189,
   "metadata": {},
   "outputs": [],
   "source": [
    "total_trips_by_hour = (\n",
    "    trips\n",
    "    .groupby(pd.Grouper(key='started_at',freq='h'))\n",
    "    ['ride_id']\n",
    "    .nunique()\n",
    ")"
   ]
  },
  {
   "cell_type": "code",
   "execution_count": null,
   "metadata": {},
   "outputs": [],
   "source": [
    "# note: this gets the same result:\n",
    "\n",
    "# (\n",
    "#     trips\n",
    "#     .set_index('started_at')\n",
    "#     .resample('h')\n",
    "#     ['ride_id']\n",
    "#     .count()\n",
    "# )"
   ]
  },
  {
   "cell_type": "code",
   "execution_count": 190,
   "metadata": {},
   "outputs": [
    {
     "data": {
      "text/plain": [
       "started_at\n",
       "2024-08-31 15:00:00       1\n",
       "2024-08-31 16:00:00       2\n",
       "2024-08-31 17:00:00       2\n",
       "2024-08-31 18:00:00       3\n",
       "2024-08-31 19:00:00       2\n",
       "                       ... \n",
       "2024-09-30 19:00:00    2288\n",
       "2024-09-30 20:00:00    1547\n",
       "2024-09-30 21:00:00    1178\n",
       "2024-09-30 22:00:00     908\n",
       "2024-09-30 23:00:00     472\n",
       "Freq: h, Name: ride_id, Length: 729, dtype: int64"
      ]
     },
     "execution_count": 190,
     "metadata": {},
     "output_type": "execute_result"
    }
   ],
   "source": [
    "total_trips_by_hour"
   ]
  },
  {
   "cell_type": "code",
   "execution_count": 191,
   "metadata": {},
   "outputs": [
    {
     "data": {
      "text/plain": [
       "<Axes: xlabel='started_at'>"
      ]
     },
     "execution_count": 191,
     "metadata": {},
     "output_type": "execute_result"
    },
    {
     "data": {
      "image/png": "[encoded data removed]",
      "text/plain": [
       "<Figure size 640x480 with 1 Axes>"
      ]
     },
     "metadata": {},
     "output_type": "display_data"
    }
   ],
   "source": [
    "(\n",
    "    total_trips_by_hour\n",
    "    .plot.line()\n",
    ")"
   ]
  },
  {
   "cell_type": "code",
   "execution_count": 193,
   "metadata": {},
   "outputs": [
    {
     "data": {
      "text/plain": [
       "<Axes: xlabel='started_at'>"
      ]
     },
     "execution_count": 193,
     "metadata": {},
     "output_type": "execute_result"
    },
    {
     "data": {
      "image/png": "[encoded data removed]",
      "text/plain": [
       "<Figure size 640x480 with 1 Axes>"
      ]
     },
     "metadata": {},
     "output_type": "display_data"
    }
   ],
   "source": [
    "(\n",
    "    total_trips_by_hour\n",
    "    .loc['2024-09-09':'2024-09-16']\n",
    "    .plot.line()\n",
    ")"
   ]
  },
  {
   "cell_type": "markdown",
   "metadata": {},
   "source": [
    "Note the periodic fluctuation over the course of each day"
   ]
  },
  {
   "cell_type": "markdown",
   "metadata": {},
   "source": [
    "### Bonus: shifting times"
   ]
  },
  {
   "cell_type": "markdown",
   "metadata": {},
   "source": [
    "roll back timestamps to a set frequency with `.dt.floor()`"
   ]
  },
  {
   "cell_type": "code",
   "execution_count": null,
   "metadata": {},
   "outputs": [
    {
     "data": {
      "text/plain": [
       "0        2024-09-10 22:00:00\n",
       "1        2024-09-22 05:00:00\n",
       "2        2024-09-24 11:00:00\n",
       "3        2024-09-03 14:00:00\n",
       "4        2024-09-09 15:00:00\n",
       "                 ...        \n",
       "999995   2024-09-17 16:00:00\n",
       "999996   2024-09-14 11:00:00\n",
       "999997   2024-09-16 17:00:00\n",
       "999998   2024-09-01 16:00:00\n",
       "999999   2024-09-01 00:00:00\n",
       "Name: started_at, Length: 1000000, dtype: datetime64[ns]"
      ]
     },
     "metadata": {},
     "output_type": "display_data"
    }
   ],
   "source": [
    "trips['started_at'].dt.floor('h')"
   ]
  },
  {
   "cell_type": "code",
   "execution_count": null,
   "metadata": {},
   "outputs": [
    {
     "data": {
      "text/plain": [
       "0        2024-09-10\n",
       "1        2024-09-22\n",
       "2        2024-09-24\n",
       "3        2024-09-03\n",
       "4        2024-09-09\n",
       "            ...    \n",
       "999995   2024-09-17\n",
       "999996   2024-09-14\n",
       "999997   2024-09-16\n",
       "999998   2024-09-01\n",
       "999999   2024-09-01\n",
       "Name: started_at, Length: 1000000, dtype: datetime64[ns]"
      ]
     },
     "metadata": {},
     "output_type": "display_data"
    }
   ],
   "source": [
    "trips['started_at'].dt.floor('d')"
   ]
  },
  {
   "cell_type": "markdown",
   "metadata": {},
   "source": [
    "Or we use pandas time offset functionality:"
   ]
  },
  {
   "cell_type": "code",
   "execution_count": 135,
   "metadata": {},
   "outputs": [
    {
     "data": {
      "text/html": [
       "<div>\n",
       "<style scoped>\n",
       "    .dataframe tbody tr th:only-of-type {\n",
       "        vertical-align: middle;\n",
       "    }\n",
       "\n",
       "    .dataframe tbody tr th {\n",
       "        vertical-align: top;\n",
       "    }\n",
       "\n",
       "    .dataframe thead th {\n",
       "        text-align: right;\n",
       "    }\n",
       "</style>\n",
       "<table border=\"1\" class=\"dataframe\">\n",
       "  <thead>\n",
       "    <tr style=\"text-align: right;\">\n",
       "      <th></th>\n",
       "      <th>maximum temperature</th>\n",
       "      <th>minimum temperature</th>\n",
       "      <th>average temperature</th>\n",
       "      <th>precipitation</th>\n",
       "      <th>snow fall</th>\n",
       "      <th>snow depth</th>\n",
       "      <th>month_year</th>\n",
       "      <th>month_end_date</th>\n",
       "    </tr>\n",
       "    <tr>\n",
       "      <th>date</th>\n",
       "      <th></th>\n",
       "      <th></th>\n",
       "      <th></th>\n",
       "      <th></th>\n",
       "      <th></th>\n",
       "      <th></th>\n",
       "      <th></th>\n",
       "      <th></th>\n",
       "    </tr>\n",
       "  </thead>\n",
       "  <tbody>\n",
       "    <tr>\n",
       "      <th>2016-01-01</th>\n",
       "      <td>42</td>\n",
       "      <td>34</td>\n",
       "      <td>38.0</td>\n",
       "      <td>0.00</td>\n",
       "      <td>0.0</td>\n",
       "      <td>0</td>\n",
       "      <td>Jan-2016</td>\n",
       "      <td>2016-01-31</td>\n",
       "    </tr>\n",
       "    <tr>\n",
       "      <th>2016-01-02</th>\n",
       "      <td>40</td>\n",
       "      <td>32</td>\n",
       "      <td>36.0</td>\n",
       "      <td>0.00</td>\n",
       "      <td>0.0</td>\n",
       "      <td>0</td>\n",
       "      <td>Jan-2016</td>\n",
       "      <td>2016-01-31</td>\n",
       "    </tr>\n",
       "    <tr>\n",
       "      <th>2016-01-03</th>\n",
       "      <td>45</td>\n",
       "      <td>35</td>\n",
       "      <td>40.0</td>\n",
       "      <td>0.00</td>\n",
       "      <td>0.0</td>\n",
       "      <td>0</td>\n",
       "      <td>Jan-2016</td>\n",
       "      <td>2016-01-31</td>\n",
       "    </tr>\n",
       "    <tr>\n",
       "      <th>2016-01-04</th>\n",
       "      <td>36</td>\n",
       "      <td>14</td>\n",
       "      <td>25.0</td>\n",
       "      <td>0.00</td>\n",
       "      <td>0.0</td>\n",
       "      <td>0</td>\n",
       "      <td>Jan-2016</td>\n",
       "      <td>2016-01-31</td>\n",
       "    </tr>\n",
       "    <tr>\n",
       "      <th>2016-01-05</th>\n",
       "      <td>29</td>\n",
       "      <td>11</td>\n",
       "      <td>20.0</td>\n",
       "      <td>0.00</td>\n",
       "      <td>0.0</td>\n",
       "      <td>0</td>\n",
       "      <td>Jan-2016</td>\n",
       "      <td>2016-01-31</td>\n",
       "    </tr>\n",
       "  </tbody>\n",
       "</table>\n",
       "</div>"
      ],
      "text/plain": [
       "            maximum temperature  minimum temperature  average temperature  \\\n",
       "date                                                                        \n",
       "2016-01-01                   42                   34                 38.0   \n",
       "2016-01-02                   40                   32                 36.0   \n",
       "2016-01-03                   45                   35                 40.0   \n",
       "2016-01-04                   36                   14                 25.0   \n",
       "2016-01-05                   29                   11                 20.0   \n",
       "\n",
       "           precipitation snow fall snow depth month_year month_end_date  \n",
       "date                                                                     \n",
       "2016-01-01          0.00       0.0          0   Jan-2016     2016-01-31  \n",
       "2016-01-02          0.00       0.0          0   Jan-2016     2016-01-31  \n",
       "2016-01-03          0.00       0.0          0   Jan-2016     2016-01-31  \n",
       "2016-01-04          0.00       0.0          0   Jan-2016     2016-01-31  \n",
       "2016-01-05          0.00       0.0          0   Jan-2016     2016-01-31  "
      ]
     },
     "execution_count": 135,
     "metadata": {},
     "output_type": "execute_result"
    }
   ],
   "source": [
    "weather['month_end_date'] = (\n",
    "    weather.index\n",
    "    .shift(\n",
    "        periods=1, \n",
    "        freq=pd.tseries.offsets.MonthEnd()\n",
    "    )\n",
    ")\n",
    "\n",
    "weather.head()"
   ]
  },
  {
   "cell_type": "markdown",
   "metadata": {},
   "source": [
    "pandas has offsets for many useful frequencies:\n",
    "\n",
    "e.g. the NYC fiscal year starts at the beginning of July. To roll dates back to the first day of the FY:"
   ]
  },
  {
   "cell_type": "code",
   "execution_count": 144,
   "metadata": {},
   "outputs": [
    {
     "data": {
      "text/plain": [
       "DatetimeIndex(['2016-07-01', '2016-07-01', '2016-07-01', '2016-07-01',\n",
       "               '2016-07-01', '2016-07-01', '2016-07-01', '2016-07-01',\n",
       "               '2016-07-01', '2016-07-01',\n",
       "               ...\n",
       "               '2017-07-01', '2017-07-01', '2017-07-01', '2017-07-01',\n",
       "               '2017-07-01', '2017-07-01', '2017-07-01', '2017-07-01',\n",
       "               '2017-07-01', '2017-07-01'],\n",
       "              dtype='datetime64[ns]', name='date', length=366, freq=None)"
      ]
     },
     "execution_count": 144,
     "metadata": {},
     "output_type": "execute_result"
    }
   ],
   "source": [
    "(\n",
    "    weather.index\n",
    "    .shift(\n",
    "        periods=1, \n",
    "        freq=pd.tseries.offsets.YearBegin(month=7)\n",
    "    )\n",
    ")"
   ]
  },
  {
   "cell_type": "markdown",
   "metadata": {},
   "source": [
    "Or, as a random example, to roll dates 5 business days ahead (skipping weekends and holidays):"
   ]
  },
  {
   "cell_type": "code",
   "execution_count": 147,
   "metadata": {},
   "outputs": [
    {
     "data": {
      "text/plain": [
       "DatetimeIndex(['2016-01-08', '2016-01-08', '2016-01-08', '2016-01-11',\n",
       "               '2016-01-12', '2016-01-13', '2016-01-14', '2016-01-15',\n",
       "               '2016-01-15', '2016-01-15',\n",
       "               ...\n",
       "               '2016-12-29', '2016-12-30', '2016-12-30', '2016-12-30',\n",
       "               '2017-01-02', '2017-01-03', '2017-01-04', '2017-01-05',\n",
       "               '2017-01-06', '2017-01-06'],\n",
       "              dtype='datetime64[ns]', name='date', length=366, freq=None)"
      ]
     },
     "execution_count": 147,
     "metadata": {},
     "output_type": "execute_result"
    }
   ],
   "source": [
    "(\n",
    "    weather.index\n",
    "    .shift(\n",
    "        periods=5, \n",
    "        freq=pd.tseries.offsets.BusinessDay()\n",
    "    )\n",
    ")"
   ]
  },
  {
   "cell_type": "markdown",
   "metadata": {},
   "source": [
    "# Tasks\n",
    "\n",
    "1. How much longer in duration is a typical electric bike trip than classic bike trip? (across all trips in the data)\n",
    "2. Compare the average duration of trips in the morning (after 6:00AM and before 11:00AM) and evening (after 4:00PM and before 9:00PM). Which time period has longer typical rides? By how much?\n",
    "3. How many trips were there each week (with weeks starting Sundays), excluding trips over two hours?\n",
    "4. What is the highest high temperature for each week in June and July?\n",
    "5. Which month has the most widely varied average temperature (measured by standard deviation of the average daily temperature)?\n",
    "6. Plot as a line plot the average daily temperature for each day in the month with the most varied temperatures."
   ]
  },
  {
   "cell_type": "code",
   "execution_count": null,
   "metadata": {},
   "outputs": [],
   "source": [
    "## your code here"
   ]
  }
 ],
 "metadata": {
  "kernelspec": {
   "display_name": "urban-data-analysis",
   "language": "python",
   "name": "python3"
  },
  "language_info": {
   "codemirror_mode": {
    "name": "ipython",
    "version": 3
   },
   "file_extension": ".py",
   "mimetype": "text/x-python",
   "name": "python",
   "nbconvert_exporter": "python",
   "pygments_lexer": "ipython3",
   "version": "3.12.9"
  }
 },
 "nbformat": 4,
 "nbformat_minor": 2
}
