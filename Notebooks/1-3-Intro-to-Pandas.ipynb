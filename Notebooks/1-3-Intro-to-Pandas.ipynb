{
 "cells": [
  {
   "cell_type": "code",
   "execution_count": 1,
   "metadata": {},
   "outputs": [],
   "source": [
    "import pandas as pd"
   ]
  },
  {
   "cell_type": "markdown",
   "metadata": {},
   "source": [
    "The first step is importing the `pandas` package. Imports bring in new functionality to extend the base Python language. Pandas gives us tools for working with data.\n",
    "\n",
    "By convention, `pandas` is abbreviated `pd` (with the  `as` syntax). "
   ]
  },
  {
   "cell_type": "markdown",
   "metadata": {},
   "source": [
    "(The entire pandas package is now available in your notebook. You can access `pandas` functions with the `.` accessor, as seen below)"
   ]
  },
  {
   "cell_type": "markdown",
   "metadata": {},
   "source": [
    "## the `DataFrame`\n",
    "\n",
    "The primary object used with the `pandas` package is the `DataFrame`. \n",
    "\n",
    "This is a flexible container for storing rows and columns of data.\n",
    "\n",
    "For starters, you can think of a DataFrame like an Excel spreadsheet (but we'll see how they are more flexible and powerful)"
   ]
  },
  {
   "cell_type": "markdown",
   "metadata": {},
   "source": [
    "First, we'll create a toy DataFrame and assign it to the variable name `toy_dataframe` (with the `=` for assignment)"
   ]
  },
  {
   "cell_type": "code",
   "execution_count": 2,
   "metadata": {},
   "outputs": [],
   "source": [
    "toy_dataframe = pd.DataFrame(\n",
    "    data={\n",
    "        'color':['red','blue','yellow'],\n",
    "        'number':[3,6,5],\n",
    "        'flavor':['vanilla','chocolate','strawberry']\n",
    "    }\n",
    ")"
   ]
  },
  {
   "cell_type": "markdown",
   "metadata": {},
   "source": [
    "(Don't worry too much about the syntax here because you'll hardly ever construct DataFrames this way.)"
   ]
  },
  {
   "cell_type": "markdown",
   "metadata": {},
   "source": [
    "To show a DataFrame in a notebook, enter its name:"
   ]
  },
  {
   "cell_type": "code",
   "execution_count": 3,
   "metadata": {},
   "outputs": [
    {
     "data": {
      "text/html": [
       "<div>\n",
       "<style scoped>\n",
       "    .dataframe tbody tr th:only-of-type {\n",
       "        vertical-align: middle;\n",
       "    }\n",
       "\n",
       "    .dataframe tbody tr th {\n",
       "        vertical-align: top;\n",
       "    }\n",
       "\n",
       "    .dataframe thead th {\n",
       "        text-align: right;\n",
       "    }\n",
       "</style>\n",
       "<table border=\"1\" class=\"dataframe\">\n",
       "  <thead>\n",
       "    <tr style=\"text-align: right;\">\n",
       "      <th></th>\n",
       "      <th>color</th>\n",
       "      <th>number</th>\n",
       "      <th>flavor</th>\n",
       "    </tr>\n",
       "  </thead>\n",
       "  <tbody>\n",
       "    <tr>\n",
       "      <th>0</th>\n",
       "      <td>red</td>\n",
       "      <td>3</td>\n",
       "      <td>vanilla</td>\n",
       "    </tr>\n",
       "    <tr>\n",
       "      <th>1</th>\n",
       "      <td>blue</td>\n",
       "      <td>6</td>\n",
       "      <td>chocolate</td>\n",
       "    </tr>\n",
       "    <tr>\n",
       "      <th>2</th>\n",
       "      <td>yellow</td>\n",
       "      <td>5</td>\n",
       "      <td>strawberry</td>\n",
       "    </tr>\n",
       "  </tbody>\n",
       "</table>\n",
       "</div>"
      ],
      "text/plain": [
       "    color  number      flavor\n",
       "0     red       3     vanilla\n",
       "1    blue       6   chocolate\n",
       "2  yellow       5  strawberry"
      ]
     },
     "execution_count": 3,
     "metadata": {},
     "output_type": "execute_result"
    }
   ],
   "source": [
    "toy_dataframe"
   ]
  },
  {
   "cell_type": "markdown",
   "metadata": {},
   "source": [
    "A simple table, with rows and columns. "
   ]
  },
  {
   "cell_type": "markdown",
   "metadata": {},
   "source": [
    "Now let's get some real data."
   ]
  },
  {
   "cell_type": "code",
   "execution_count": 4,
   "metadata": {},
   "outputs": [],
   "source": [
    "film_permits = pd.read_csv(\n",
    "    'https://data.cityofnewyork.us/api/views/tg4x-b46p/rows.csv?accessType=DOWNLOAD',\n",
    "    parse_dates=['StartDateTime','EndDateTime','EnteredOn'],\n",
    "    date_format='%m/%d/%Y %H:%M:%S %p'\n",
    ")"
   ]
  },
  {
   "cell_type": "markdown",
   "metadata": {},
   "source": [
    "## DataFrame methods"
   ]
  },
  {
   "cell_type": "markdown",
   "metadata": {},
   "source": [
    "Pandas DataFrames make it easy to work with data because DataFrames come with many helpful, built-in methods to view and transform the data."
   ]
  },
  {
   "cell_type": "markdown",
   "metadata": {},
   "source": [
    "(what's a _method_? \n",
    "\n",
    "It's a pre-defined function that acts on an object. \n",
    "\n",
    "_What??_ By constructing the data as a _pd.DataFrame_, that DataFrame automatically inherits all the data-transforming functions that are provided by the pandas package. \n",
    "\n",
    "_What???_ In practice, this means that you don't need to do a lot of programming from scratch, you can use pre-defined methods for almost all common data tasks)"
   ]
  },
  {
   "cell_type": "markdown",
   "metadata": {},
   "source": [
    "For example, DataFrames have a `.head()` method that returns the top 5 rows of a DataFrame."
   ]
  },
  {
   "cell_type": "code",
   "execution_count": 5,
   "metadata": {},
   "outputs": [
    {
     "data": {
      "text/html": [
       "<div>\n",
       "<style scoped>\n",
       "    .dataframe tbody tr th:only-of-type {\n",
       "        vertical-align: middle;\n",
       "    }\n",
       "\n",
       "    .dataframe tbody tr th {\n",
       "        vertical-align: top;\n",
       "    }\n",
       "\n",
       "    .dataframe thead th {\n",
       "        text-align: right;\n",
       "    }\n",
       "</style>\n",
       "<table border=\"1\" class=\"dataframe\">\n",
       "  <thead>\n",
       "    <tr style=\"text-align: right;\">\n",
       "      <th></th>\n",
       "      <th>EventID</th>\n",
       "      <th>EventType</th>\n",
       "      <th>StartDateTime</th>\n",
       "      <th>EndDateTime</th>\n",
       "      <th>EnteredOn</th>\n",
       "      <th>EventAgency</th>\n",
       "      <th>ParkingHeld</th>\n",
       "      <th>Borough</th>\n",
       "      <th>CommunityBoard(s)</th>\n",
       "      <th>PolicePrecinct(s)</th>\n",
       "      <th>Category</th>\n",
       "      <th>SubCategoryName</th>\n",
       "      <th>Country</th>\n",
       "      <th>ZipCode(s)</th>\n",
       "    </tr>\n",
       "  </thead>\n",
       "  <tbody>\n",
       "    <tr>\n",
       "      <th>0</th>\n",
       "      <td>696255</td>\n",
       "      <td>Shooting Permit</td>\n",
       "      <td>2023-02-17 09:00:00</td>\n",
       "      <td>2023-02-18 12:00:00</td>\n",
       "      <td>2023-02-14 10:47:33</td>\n",
       "      <td>Mayor's Office of Media &amp; Entertainment</td>\n",
       "      <td>KINGSLAND AVENUE between DEAD END and GREENPOI...</td>\n",
       "      <td>Brooklyn</td>\n",
       "      <td>1</td>\n",
       "      <td>94</td>\n",
       "      <td>Television</td>\n",
       "      <td>Cable-episodic</td>\n",
       "      <td>United States of America</td>\n",
       "      <td>11222</td>\n",
       "    </tr>\n",
       "    <tr>\n",
       "      <th>1</th>\n",
       "      <td>714139</td>\n",
       "      <td>Shooting Permit</td>\n",
       "      <td>2023-05-12 01:00:00</td>\n",
       "      <td>2023-05-13 05:00:00</td>\n",
       "      <td>2023-05-04 02:27:51</td>\n",
       "      <td>Mayor's Office of Media &amp; Entertainment</td>\n",
       "      <td>WEST   26 STREET between 12 AVENUE and 11 AVEN...</td>\n",
       "      <td>Manhattan</td>\n",
       "      <td>4</td>\n",
       "      <td>10</td>\n",
       "      <td>Television</td>\n",
       "      <td>Episodic series</td>\n",
       "      <td>United States of America</td>\n",
       "      <td>10001</td>\n",
       "    </tr>\n",
       "    <tr>\n",
       "      <th>2</th>\n",
       "      <td>705334</td>\n",
       "      <td>Shooting Permit</td>\n",
       "      <td>2023-04-10 09:00:00</td>\n",
       "      <td>2023-04-10 10:00:00</td>\n",
       "      <td>2023-03-30 05:17:29</td>\n",
       "      <td>Mayor's Office of Media &amp; Entertainment</td>\n",
       "      <td>SOUTH STREET between BROAD STREET and OLD SLIP...</td>\n",
       "      <td>Manhattan</td>\n",
       "      <td>1, 3</td>\n",
       "      <td>1, 5</td>\n",
       "      <td>Film</td>\n",
       "      <td>Feature</td>\n",
       "      <td>United States of America</td>\n",
       "      <td>10002, 10004, 10005</td>\n",
       "    </tr>\n",
       "    <tr>\n",
       "      <th>3</th>\n",
       "      <td>746696</td>\n",
       "      <td>Shooting Permit</td>\n",
       "      <td>2023-11-07 06:00:00</td>\n",
       "      <td>2023-11-07 10:00:00</td>\n",
       "      <td>2023-10-31 12:08:00</td>\n",
       "      <td>Mayor's Office of Media &amp; Entertainment</td>\n",
       "      <td>NORTH HENRY STREET between GREENPOINT AVENUE a...</td>\n",
       "      <td>Brooklyn</td>\n",
       "      <td>1</td>\n",
       "      <td>94</td>\n",
       "      <td>Commercial</td>\n",
       "      <td>Commercial</td>\n",
       "      <td>United States of America</td>\n",
       "      <td>11222</td>\n",
       "    </tr>\n",
       "    <tr>\n",
       "      <th>4</th>\n",
       "      <td>717328</td>\n",
       "      <td>Theater Load in and Load Outs</td>\n",
       "      <td>2023-05-31 12:01:00</td>\n",
       "      <td>2023-06-01 06:00:00</td>\n",
       "      <td>2023-05-17 11:55:51</td>\n",
       "      <td>Mayor's Office of Media &amp; Entertainment</td>\n",
       "      <td>WEST   55 STREET between 11 AVENUE and 12 AVEN...</td>\n",
       "      <td>Manhattan</td>\n",
       "      <td>4</td>\n",
       "      <td>18</td>\n",
       "      <td>Theater</td>\n",
       "      <td>Theater</td>\n",
       "      <td>United States of America</td>\n",
       "      <td>10019</td>\n",
       "    </tr>\n",
       "  </tbody>\n",
       "</table>\n",
       "</div>"
      ],
      "text/plain": [
       "   EventID                      EventType       StartDateTime  \\\n",
       "0   696255                Shooting Permit 2023-02-17 09:00:00   \n",
       "1   714139                Shooting Permit 2023-05-12 01:00:00   \n",
       "2   705334                Shooting Permit 2023-04-10 09:00:00   \n",
       "3   746696                Shooting Permit 2023-11-07 06:00:00   \n",
       "4   717328  Theater Load in and Load Outs 2023-05-31 12:01:00   \n",
       "\n",
       "          EndDateTime           EnteredOn  \\\n",
       "0 2023-02-18 12:00:00 2023-02-14 10:47:33   \n",
       "1 2023-05-13 05:00:00 2023-05-04 02:27:51   \n",
       "2 2023-04-10 10:00:00 2023-03-30 05:17:29   \n",
       "3 2023-11-07 10:00:00 2023-10-31 12:08:00   \n",
       "4 2023-06-01 06:00:00 2023-05-17 11:55:51   \n",
       "\n",
       "                               EventAgency  \\\n",
       "0  Mayor's Office of Media & Entertainment   \n",
       "1  Mayor's Office of Media & Entertainment   \n",
       "2  Mayor's Office of Media & Entertainment   \n",
       "3  Mayor's Office of Media & Entertainment   \n",
       "4  Mayor's Office of Media & Entertainment   \n",
       "\n",
       "                                         ParkingHeld    Borough  \\\n",
       "0  KINGSLAND AVENUE between DEAD END and GREENPOI...   Brooklyn   \n",
       "1  WEST   26 STREET between 12 AVENUE and 11 AVEN...  Manhattan   \n",
       "2  SOUTH STREET between BROAD STREET and OLD SLIP...  Manhattan   \n",
       "3  NORTH HENRY STREET between GREENPOINT AVENUE a...   Brooklyn   \n",
       "4  WEST   55 STREET between 11 AVENUE and 12 AVEN...  Manhattan   \n",
       "\n",
       "  CommunityBoard(s) PolicePrecinct(s)    Category  SubCategoryName  \\\n",
       "0                 1                94  Television   Cable-episodic   \n",
       "1                 4                10  Television  Episodic series   \n",
       "2              1, 3              1, 5        Film          Feature   \n",
       "3                 1                94  Commercial       Commercial   \n",
       "4                 4                18     Theater          Theater   \n",
       "\n",
       "                    Country           ZipCode(s)  \n",
       "0  United States of America                11222  \n",
       "1  United States of America                10001  \n",
       "2  United States of America  10002, 10004, 10005  \n",
       "3  United States of America                11222  \n",
       "4  United States of America                10019  "
      ]
     },
     "execution_count": 5,
     "metadata": {},
     "output_type": "execute_result"
    }
   ],
   "source": [
    "film_permits.head()"
   ]
  },
  {
   "cell_type": "markdown",
   "metadata": {},
   "source": [
    "(methods are invoked by following a DataFrame reference with a dot (`.`), the name of the method, then parenthesis. Like `.head()`)"
   ]
  },
  {
   "cell_type": "markdown",
   "metadata": {},
   "source": [
    "Methods can take _arguments_ to futher specify their behavior. \n",
    "\n",
    "For example, `head()` also accepts a number for the number of rows to return:"
   ]
  },
  {
   "cell_type": "code",
   "execution_count": 6,
   "metadata": {},
   "outputs": [
    {
     "data": {
      "text/html": [
       "<div>\n",
       "<style scoped>\n",
       "    .dataframe tbody tr th:only-of-type {\n",
       "        vertical-align: middle;\n",
       "    }\n",
       "\n",
       "    .dataframe tbody tr th {\n",
       "        vertical-align: top;\n",
       "    }\n",
       "\n",
       "    .dataframe thead th {\n",
       "        text-align: right;\n",
       "    }\n",
       "</style>\n",
       "<table border=\"1\" class=\"dataframe\">\n",
       "  <thead>\n",
       "    <tr style=\"text-align: right;\">\n",
       "      <th></th>\n",
       "      <th>EventID</th>\n",
       "      <th>EventType</th>\n",
       "      <th>StartDateTime</th>\n",
       "      <th>EndDateTime</th>\n",
       "      <th>EnteredOn</th>\n",
       "      <th>EventAgency</th>\n",
       "      <th>ParkingHeld</th>\n",
       "      <th>Borough</th>\n",
       "      <th>CommunityBoard(s)</th>\n",
       "      <th>PolicePrecinct(s)</th>\n",
       "      <th>Category</th>\n",
       "      <th>SubCategoryName</th>\n",
       "      <th>Country</th>\n",
       "      <th>ZipCode(s)</th>\n",
       "    </tr>\n",
       "  </thead>\n",
       "  <tbody>\n",
       "    <tr>\n",
       "      <th>0</th>\n",
       "      <td>696255</td>\n",
       "      <td>Shooting Permit</td>\n",
       "      <td>2023-02-17 09:00:00</td>\n",
       "      <td>2023-02-18 12:00:00</td>\n",
       "      <td>2023-02-14 10:47:33</td>\n",
       "      <td>Mayor's Office of Media &amp; Entertainment</td>\n",
       "      <td>KINGSLAND AVENUE between DEAD END and GREENPOI...</td>\n",
       "      <td>Brooklyn</td>\n",
       "      <td>1</td>\n",
       "      <td>94</td>\n",
       "      <td>Television</td>\n",
       "      <td>Cable-episodic</td>\n",
       "      <td>United States of America</td>\n",
       "      <td>11222</td>\n",
       "    </tr>\n",
       "    <tr>\n",
       "      <th>1</th>\n",
       "      <td>714139</td>\n",
       "      <td>Shooting Permit</td>\n",
       "      <td>2023-05-12 01:00:00</td>\n",
       "      <td>2023-05-13 05:00:00</td>\n",
       "      <td>2023-05-04 02:27:51</td>\n",
       "      <td>Mayor's Office of Media &amp; Entertainment</td>\n",
       "      <td>WEST   26 STREET between 12 AVENUE and 11 AVEN...</td>\n",
       "      <td>Manhattan</td>\n",
       "      <td>4</td>\n",
       "      <td>10</td>\n",
       "      <td>Television</td>\n",
       "      <td>Episodic series</td>\n",
       "      <td>United States of America</td>\n",
       "      <td>10001</td>\n",
       "    </tr>\n",
       "  </tbody>\n",
       "</table>\n",
       "</div>"
      ],
      "text/plain": [
       "   EventID        EventType       StartDateTime         EndDateTime  \\\n",
       "0   696255  Shooting Permit 2023-02-17 09:00:00 2023-02-18 12:00:00   \n",
       "1   714139  Shooting Permit 2023-05-12 01:00:00 2023-05-13 05:00:00   \n",
       "\n",
       "            EnteredOn                              EventAgency  \\\n",
       "0 2023-02-14 10:47:33  Mayor's Office of Media & Entertainment   \n",
       "1 2023-05-04 02:27:51  Mayor's Office of Media & Entertainment   \n",
       "\n",
       "                                         ParkingHeld    Borough  \\\n",
       "0  KINGSLAND AVENUE between DEAD END and GREENPOI...   Brooklyn   \n",
       "1  WEST   26 STREET between 12 AVENUE and 11 AVEN...  Manhattan   \n",
       "\n",
       "  CommunityBoard(s) PolicePrecinct(s)    Category  SubCategoryName  \\\n",
       "0                 1                94  Television   Cable-episodic   \n",
       "1                 4                10  Television  Episodic series   \n",
       "\n",
       "                    Country ZipCode(s)  \n",
       "0  United States of America      11222  \n",
       "1  United States of America      10001  "
      ]
     },
     "execution_count": 6,
     "metadata": {},
     "output_type": "execute_result"
    }
   ],
   "source": [
    "film_permits.head(n=2)"
   ]
  },
  {
   "cell_type": "markdown",
   "metadata": {},
   "source": [
    "The [documentation](https://pandas.pydata.org/docs/reference/api/pandas.DataFrame.head.html) for the `head()` method explains exactly what it does and what arguments it takes. It will be a good habit to check the documentation for methods to understand how they work."
   ]
  },
  {
   "cell_type": "markdown",
   "metadata": {},
   "source": [
    "## Viewing and manipulating data\n",
    "\n",
    "Almost all methods called on DataFrames return _views_ of the data, they do not change the underlying data itself.\n",
    "\n",
    "This is very helpful when you are exploring data and espcially when you are starting out and learning how methods and functions work. You can test out transformations and see the results without making any permanant changes to the underlying data."
   ]
  },
  {
   "cell_type": "code",
   "execution_count": 10,
   "metadata": {},
   "outputs": [
    {
     "data": {
      "text/html": [
       "<div>\n",
       "<style scoped>\n",
       "    .dataframe tbody tr th:only-of-type {\n",
       "        vertical-align: middle;\n",
       "    }\n",
       "\n",
       "    .dataframe tbody tr th {\n",
       "        vertical-align: top;\n",
       "    }\n",
       "\n",
       "    .dataframe thead th {\n",
       "        text-align: right;\n",
       "    }\n",
       "</style>\n",
       "<table border=\"1\" class=\"dataframe\">\n",
       "  <thead>\n",
       "    <tr style=\"text-align: right;\">\n",
       "      <th></th>\n",
       "      <th>StartDateTime</th>\n",
       "      <th>Category</th>\n",
       "      <th>EventType</th>\n",
       "    </tr>\n",
       "  </thead>\n",
       "  <tbody>\n",
       "    <tr>\n",
       "      <th>1883</th>\n",
       "      <td>2024-10-24 02:00:00</td>\n",
       "      <td>WEB</td>\n",
       "      <td>Shooting Permit</td>\n",
       "    </tr>\n",
       "    <tr>\n",
       "      <th>10134</th>\n",
       "      <td>2024-10-28 09:00:00</td>\n",
       "      <td>Film</td>\n",
       "      <td>Rigging Permit</td>\n",
       "    </tr>\n",
       "    <tr>\n",
       "      <th>9601</th>\n",
       "      <td>2024-10-25 07:00:00</td>\n",
       "      <td>Television</td>\n",
       "      <td>Shooting Permit</td>\n",
       "    </tr>\n",
       "    <tr>\n",
       "      <th>1197</th>\n",
       "      <td>2024-10-24 07:00:00</td>\n",
       "      <td>Television</td>\n",
       "      <td>Shooting Permit</td>\n",
       "    </tr>\n",
       "    <tr>\n",
       "      <th>10125</th>\n",
       "      <td>2024-10-28 06:00:00</td>\n",
       "      <td>Commercial</td>\n",
       "      <td>Shooting Permit</td>\n",
       "    </tr>\n",
       "    <tr>\n",
       "      <th>4889</th>\n",
       "      <td>2024-10-26 06:00:00</td>\n",
       "      <td>Commercial</td>\n",
       "      <td>Shooting Permit</td>\n",
       "    </tr>\n",
       "    <tr>\n",
       "      <th>10138</th>\n",
       "      <td>2024-10-28 06:00:00</td>\n",
       "      <td>Commercial</td>\n",
       "      <td>Shooting Permit</td>\n",
       "    </tr>\n",
       "    <tr>\n",
       "      <th>2435</th>\n",
       "      <td>2024-10-24 12:30:00</td>\n",
       "      <td>Theater</td>\n",
       "      <td>Theater Load in and Load Outs</td>\n",
       "    </tr>\n",
       "    <tr>\n",
       "      <th>8344</th>\n",
       "      <td>2024-10-27 06:00:00</td>\n",
       "      <td>Commercial</td>\n",
       "      <td>Shooting Permit</td>\n",
       "    </tr>\n",
       "    <tr>\n",
       "      <th>10135</th>\n",
       "      <td>2024-10-28 06:00:00</td>\n",
       "      <td>Television</td>\n",
       "      <td>Shooting Permit</td>\n",
       "    </tr>\n",
       "  </tbody>\n",
       "</table>\n",
       "</div>"
      ],
      "text/plain": [
       "            StartDateTime    Category                      EventType\n",
       "1883  2024-10-24 02:00:00         WEB                Shooting Permit\n",
       "10134 2024-10-28 09:00:00        Film                 Rigging Permit\n",
       "9601  2024-10-25 07:00:00  Television                Shooting Permit\n",
       "1197  2024-10-24 07:00:00  Television                Shooting Permit\n",
       "10125 2024-10-28 06:00:00  Commercial                Shooting Permit\n",
       "4889  2024-10-26 06:00:00  Commercial                Shooting Permit\n",
       "10138 2024-10-28 06:00:00  Commercial                Shooting Permit\n",
       "2435  2024-10-24 12:30:00     Theater  Theater Load in and Load Outs\n",
       "8344  2024-10-27 06:00:00  Commercial                Shooting Permit\n",
       "10135 2024-10-28 06:00:00  Television                Shooting Permit"
      ]
     },
     "execution_count": 10,
     "metadata": {},
     "output_type": "execute_result"
    }
   ],
   "source": [
    "(\n",
    "    film_permits\n",
    "    .query('Borough == \"Brooklyn\"')\n",
    "    .sort_values('EventID')\n",
    "    [['StartDateTime','Category','EventType']]\n",
    "    .tail(10)\n",
    ")"
   ]
  },
  {
   "cell_type": "markdown",
   "metadata": {},
   "source": [
    "For instance, this set of methods filters the data to show just a few select columns for the last 10 permits issued in Brooklyn. But this is just a view. We still have all the original data:"
   ]
  },
  {
   "cell_type": "code",
   "execution_count": 7,
   "metadata": {},
   "outputs": [
    {
     "data": {
      "text/html": [
       "<div>\n",
       "<style scoped>\n",
       "    .dataframe tbody tr th:only-of-type {\n",
       "        vertical-align: middle;\n",
       "    }\n",
       "\n",
       "    .dataframe tbody tr th {\n",
       "        vertical-align: top;\n",
       "    }\n",
       "\n",
       "    .dataframe thead th {\n",
       "        text-align: right;\n",
       "    }\n",
       "</style>\n",
       "<table border=\"1\" class=\"dataframe\">\n",
       "  <thead>\n",
       "    <tr style=\"text-align: right;\">\n",
       "      <th></th>\n",
       "      <th>EventID</th>\n",
       "      <th>EventType</th>\n",
       "      <th>StartDateTime</th>\n",
       "      <th>EndDateTime</th>\n",
       "      <th>EnteredOn</th>\n",
       "      <th>EventAgency</th>\n",
       "      <th>ParkingHeld</th>\n",
       "      <th>Borough</th>\n",
       "      <th>CommunityBoard(s)</th>\n",
       "      <th>PolicePrecinct(s)</th>\n",
       "      <th>Category</th>\n",
       "      <th>SubCategoryName</th>\n",
       "      <th>Country</th>\n",
       "      <th>ZipCode(s)</th>\n",
       "    </tr>\n",
       "  </thead>\n",
       "  <tbody>\n",
       "    <tr>\n",
       "      <th>0</th>\n",
       "      <td>696255</td>\n",
       "      <td>Shooting Permit</td>\n",
       "      <td>2023-02-17 09:00:00</td>\n",
       "      <td>2023-02-18 12:00:00</td>\n",
       "      <td>2023-02-14 10:47:33</td>\n",
       "      <td>Mayor's Office of Media &amp; Entertainment</td>\n",
       "      <td>KINGSLAND AVENUE between DEAD END and GREENPOI...</td>\n",
       "      <td>Brooklyn</td>\n",
       "      <td>1</td>\n",
       "      <td>94</td>\n",
       "      <td>Television</td>\n",
       "      <td>Cable-episodic</td>\n",
       "      <td>United States of America</td>\n",
       "      <td>11222</td>\n",
       "    </tr>\n",
       "    <tr>\n",
       "      <th>1</th>\n",
       "      <td>714139</td>\n",
       "      <td>Shooting Permit</td>\n",
       "      <td>2023-05-12 01:00:00</td>\n",
       "      <td>2023-05-13 05:00:00</td>\n",
       "      <td>2023-05-04 02:27:51</td>\n",
       "      <td>Mayor's Office of Media &amp; Entertainment</td>\n",
       "      <td>WEST   26 STREET between 12 AVENUE and 11 AVEN...</td>\n",
       "      <td>Manhattan</td>\n",
       "      <td>4</td>\n",
       "      <td>10</td>\n",
       "      <td>Television</td>\n",
       "      <td>Episodic series</td>\n",
       "      <td>United States of America</td>\n",
       "      <td>10001</td>\n",
       "    </tr>\n",
       "    <tr>\n",
       "      <th>2</th>\n",
       "      <td>705334</td>\n",
       "      <td>Shooting Permit</td>\n",
       "      <td>2023-04-10 09:00:00</td>\n",
       "      <td>2023-04-10 10:00:00</td>\n",
       "      <td>2023-03-30 05:17:29</td>\n",
       "      <td>Mayor's Office of Media &amp; Entertainment</td>\n",
       "      <td>SOUTH STREET between BROAD STREET and OLD SLIP...</td>\n",
       "      <td>Manhattan</td>\n",
       "      <td>1, 3</td>\n",
       "      <td>1, 5</td>\n",
       "      <td>Film</td>\n",
       "      <td>Feature</td>\n",
       "      <td>United States of America</td>\n",
       "      <td>10002, 10004, 10005</td>\n",
       "    </tr>\n",
       "    <tr>\n",
       "      <th>3</th>\n",
       "      <td>746696</td>\n",
       "      <td>Shooting Permit</td>\n",
       "      <td>2023-11-07 06:00:00</td>\n",
       "      <td>2023-11-07 10:00:00</td>\n",
       "      <td>2023-10-31 12:08:00</td>\n",
       "      <td>Mayor's Office of Media &amp; Entertainment</td>\n",
       "      <td>NORTH HENRY STREET between GREENPOINT AVENUE a...</td>\n",
       "      <td>Brooklyn</td>\n",
       "      <td>1</td>\n",
       "      <td>94</td>\n",
       "      <td>Commercial</td>\n",
       "      <td>Commercial</td>\n",
       "      <td>United States of America</td>\n",
       "      <td>11222</td>\n",
       "    </tr>\n",
       "    <tr>\n",
       "      <th>4</th>\n",
       "      <td>717328</td>\n",
       "      <td>Theater Load in and Load Outs</td>\n",
       "      <td>2023-05-31 12:01:00</td>\n",
       "      <td>2023-06-01 06:00:00</td>\n",
       "      <td>2023-05-17 11:55:51</td>\n",
       "      <td>Mayor's Office of Media &amp; Entertainment</td>\n",
       "      <td>WEST   55 STREET between 11 AVENUE and 12 AVEN...</td>\n",
       "      <td>Manhattan</td>\n",
       "      <td>4</td>\n",
       "      <td>18</td>\n",
       "      <td>Theater</td>\n",
       "      <td>Theater</td>\n",
       "      <td>United States of America</td>\n",
       "      <td>10019</td>\n",
       "    </tr>\n",
       "    <tr>\n",
       "      <th>...</th>\n",
       "      <td>...</td>\n",
       "      <td>...</td>\n",
       "      <td>...</td>\n",
       "      <td>...</td>\n",
       "      <td>...</td>\n",
       "      <td>...</td>\n",
       "      <td>...</td>\n",
       "      <td>...</td>\n",
       "      <td>...</td>\n",
       "      <td>...</td>\n",
       "      <td>...</td>\n",
       "      <td>...</td>\n",
       "      <td>...</td>\n",
       "      <td>...</td>\n",
       "    </tr>\n",
       "    <tr>\n",
       "      <th>9994</th>\n",
       "      <td>816501</td>\n",
       "      <td>Shooting Permit</td>\n",
       "      <td>2024-10-21 07:00:00</td>\n",
       "      <td>2024-10-21 07:00:00</td>\n",
       "      <td>2024-10-16 05:05:58</td>\n",
       "      <td>Mayor's Office of Media &amp; Entertainment</td>\n",
       "      <td>WASHINGTON STREET between MORRIS STREET and BA...</td>\n",
       "      <td>Manhattan</td>\n",
       "      <td>1</td>\n",
       "      <td>1</td>\n",
       "      <td>Film</td>\n",
       "      <td>Feature</td>\n",
       "      <td>United States of America</td>\n",
       "      <td>10004, 10006</td>\n",
       "    </tr>\n",
       "    <tr>\n",
       "      <th>9995</th>\n",
       "      <td>816574</td>\n",
       "      <td>Shooting Permit</td>\n",
       "      <td>2024-10-21 06:00:00</td>\n",
       "      <td>2024-10-21 11:59:00</td>\n",
       "      <td>2024-10-17 10:51:34</td>\n",
       "      <td>Mayor's Office of Media &amp; Entertainment</td>\n",
       "      <td>MONITOR STREET between GREENPOINT AVENUE and N...</td>\n",
       "      <td>Brooklyn</td>\n",
       "      <td>1</td>\n",
       "      <td>94</td>\n",
       "      <td>Television</td>\n",
       "      <td>Episodic series</td>\n",
       "      <td>United States of America</td>\n",
       "      <td>11222</td>\n",
       "    </tr>\n",
       "    <tr>\n",
       "      <th>9996</th>\n",
       "      <td>816430</td>\n",
       "      <td>Shooting Permit</td>\n",
       "      <td>2024-10-20 08:00:00</td>\n",
       "      <td>2024-10-21 06:00:00</td>\n",
       "      <td>2024-10-16 01:42:26</td>\n",
       "      <td>Mayor's Office of Media &amp; Entertainment</td>\n",
       "      <td>5 AVENUE between EAST   88 STREET and EAST   8...</td>\n",
       "      <td>Manhattan</td>\n",
       "      <td>64, 8</td>\n",
       "      <td>19, 22</td>\n",
       "      <td>Commercial</td>\n",
       "      <td>Commercial</td>\n",
       "      <td>United States of America</td>\n",
       "      <td>10128</td>\n",
       "    </tr>\n",
       "    <tr>\n",
       "      <th>9997</th>\n",
       "      <td>816596</td>\n",
       "      <td>Shooting Permit</td>\n",
       "      <td>2024-10-21 06:00:00</td>\n",
       "      <td>2024-10-21 10:00:00</td>\n",
       "      <td>2024-10-17 11:52:56</td>\n",
       "      <td>Mayor's Office of Media &amp; Entertainment</td>\n",
       "      <td>NOBLE STREET between WEST STREET and DEAD END,...</td>\n",
       "      <td>Brooklyn</td>\n",
       "      <td>1</td>\n",
       "      <td>94</td>\n",
       "      <td>Television</td>\n",
       "      <td>Cable-episodic</td>\n",
       "      <td>United States of America</td>\n",
       "      <td>11222</td>\n",
       "    </tr>\n",
       "    <tr>\n",
       "      <th>9998</th>\n",
       "      <td>815660</td>\n",
       "      <td>Theater Load in and Load Outs</td>\n",
       "      <td>2024-10-21 08:00:00</td>\n",
       "      <td>2024-10-21 11:00:00</td>\n",
       "      <td>2024-10-11 11:26:19</td>\n",
       "      <td>Mayor's Office of Media &amp; Entertainment</td>\n",
       "      <td>ASHLAND PLACE between FULTON STREET and DEKALB...</td>\n",
       "      <td>Brooklyn</td>\n",
       "      <td>2</td>\n",
       "      <td>88</td>\n",
       "      <td>Theater</td>\n",
       "      <td>Theater</td>\n",
       "      <td>United States of America</td>\n",
       "      <td>11217</td>\n",
       "    </tr>\n",
       "  </tbody>\n",
       "</table>\n",
       "<p>9999 rows × 14 columns</p>\n",
       "</div>"
      ],
      "text/plain": [
       "      EventID                      EventType       StartDateTime  \\\n",
       "0      696255                Shooting Permit 2023-02-17 09:00:00   \n",
       "1      714139                Shooting Permit 2023-05-12 01:00:00   \n",
       "2      705334                Shooting Permit 2023-04-10 09:00:00   \n",
       "3      746696                Shooting Permit 2023-11-07 06:00:00   \n",
       "4      717328  Theater Load in and Load Outs 2023-05-31 12:01:00   \n",
       "...       ...                            ...                 ...   \n",
       "9994   816501                Shooting Permit 2024-10-21 07:00:00   \n",
       "9995   816574                Shooting Permit 2024-10-21 06:00:00   \n",
       "9996   816430                Shooting Permit 2024-10-20 08:00:00   \n",
       "9997   816596                Shooting Permit 2024-10-21 06:00:00   \n",
       "9998   815660  Theater Load in and Load Outs 2024-10-21 08:00:00   \n",
       "\n",
       "             EndDateTime           EnteredOn  \\\n",
       "0    2023-02-18 12:00:00 2023-02-14 10:47:33   \n",
       "1    2023-05-13 05:00:00 2023-05-04 02:27:51   \n",
       "2    2023-04-10 10:00:00 2023-03-30 05:17:29   \n",
       "3    2023-11-07 10:00:00 2023-10-31 12:08:00   \n",
       "4    2023-06-01 06:00:00 2023-05-17 11:55:51   \n",
       "...                  ...                 ...   \n",
       "9994 2024-10-21 07:00:00 2024-10-16 05:05:58   \n",
       "9995 2024-10-21 11:59:00 2024-10-17 10:51:34   \n",
       "9996 2024-10-21 06:00:00 2024-10-16 01:42:26   \n",
       "9997 2024-10-21 10:00:00 2024-10-17 11:52:56   \n",
       "9998 2024-10-21 11:00:00 2024-10-11 11:26:19   \n",
       "\n",
       "                                  EventAgency  \\\n",
       "0     Mayor's Office of Media & Entertainment   \n",
       "1     Mayor's Office of Media & Entertainment   \n",
       "2     Mayor's Office of Media & Entertainment   \n",
       "3     Mayor's Office of Media & Entertainment   \n",
       "4     Mayor's Office of Media & Entertainment   \n",
       "...                                       ...   \n",
       "9994  Mayor's Office of Media & Entertainment   \n",
       "9995  Mayor's Office of Media & Entertainment   \n",
       "9996  Mayor's Office of Media & Entertainment   \n",
       "9997  Mayor's Office of Media & Entertainment   \n",
       "9998  Mayor's Office of Media & Entertainment   \n",
       "\n",
       "                                            ParkingHeld    Borough  \\\n",
       "0     KINGSLAND AVENUE between DEAD END and GREENPOI...   Brooklyn   \n",
       "1     WEST   26 STREET between 12 AVENUE and 11 AVEN...  Manhattan   \n",
       "2     SOUTH STREET between BROAD STREET and OLD SLIP...  Manhattan   \n",
       "3     NORTH HENRY STREET between GREENPOINT AVENUE a...   Brooklyn   \n",
       "4     WEST   55 STREET between 11 AVENUE and 12 AVEN...  Manhattan   \n",
       "...                                                 ...        ...   \n",
       "9994  WASHINGTON STREET between MORRIS STREET and BA...  Manhattan   \n",
       "9995  MONITOR STREET between GREENPOINT AVENUE and N...   Brooklyn   \n",
       "9996  5 AVENUE between EAST   88 STREET and EAST   8...  Manhattan   \n",
       "9997  NOBLE STREET between WEST STREET and DEAD END,...   Brooklyn   \n",
       "9998  ASHLAND PLACE between FULTON STREET and DEKALB...   Brooklyn   \n",
       "\n",
       "     CommunityBoard(s) PolicePrecinct(s)    Category  SubCategoryName  \\\n",
       "0                    1                94  Television   Cable-episodic   \n",
       "1                    4                10  Television  Episodic series   \n",
       "2                 1, 3              1, 5        Film          Feature   \n",
       "3                    1                94  Commercial       Commercial   \n",
       "4                    4                18     Theater          Theater   \n",
       "...                ...               ...         ...              ...   \n",
       "9994                 1                 1        Film          Feature   \n",
       "9995                 1                94  Television  Episodic series   \n",
       "9996             64, 8            19, 22  Commercial       Commercial   \n",
       "9997                 1                94  Television   Cable-episodic   \n",
       "9998                 2                88     Theater          Theater   \n",
       "\n",
       "                       Country           ZipCode(s)  \n",
       "0     United States of America                11222  \n",
       "1     United States of America                10001  \n",
       "2     United States of America  10002, 10004, 10005  \n",
       "3     United States of America                11222  \n",
       "4     United States of America                10019  \n",
       "...                        ...                  ...  \n",
       "9994  United States of America         10004, 10006  \n",
       "9995  United States of America                11222  \n",
       "9996  United States of America                10128  \n",
       "9997  United States of America                11222  \n",
       "9998  United States of America                11217  \n",
       "\n",
       "[9999 rows x 14 columns]"
      ]
     },
     "execution_count": 7,
     "metadata": {},
     "output_type": "execute_result"
    }
   ],
   "source": [
    "film_permits"
   ]
  },
  {
   "cell_type": "markdown",
   "metadata": {},
   "source": [
    "If you _do_ want to store the result of a transformation, just assign it to a variable. By assigning the result to a _new_ variable, you will avoid overwriting the source data."
   ]
  },
  {
   "cell_type": "code",
   "execution_count": null,
   "metadata": {},
   "outputs": [],
   "source": [
    "last_10_brooklyn_permits = (\n",
    "    film_permits\n",
    "    .query('Borough == \"Brooklyn\"')\n",
    "    .sort_values('EventID')\n",
    "    [['StartDateTime','Category','EventType']]\n",
    "    .tail(10)\n",
    ")"
   ]
  },
  {
   "cell_type": "markdown",
   "metadata": {},
   "source": [
    "(A good reminder: if your cell code shows a DataFrame as a result, you are looking at only a temporary view. If you assign the view to a variable, the cell will _not_ display the result. (like above))"
   ]
  },
  {
   "cell_type": "markdown",
   "metadata": {},
   "source": [
    "## Series\n",
    "\n",
    "DataFrames are composed of Series. You can think of a DataFrame as a table, and a Series as a row or column"
   ]
  },
  {
   "cell_type": "code",
   "execution_count": 11,
   "metadata": {},
   "outputs": [
    {
     "data": {
      "text/plain": [
       "0        Television\n",
       "1        Television\n",
       "2              Film\n",
       "3        Commercial\n",
       "4           Theater\n",
       "            ...    \n",
       "10136    Television\n",
       "10137       Theater\n",
       "10138    Commercial\n",
       "10139    Television\n",
       "10140          Film\n",
       "Name: Category, Length: 10141, dtype: object"
      ]
     },
     "execution_count": 11,
     "metadata": {},
     "output_type": "execute_result"
    }
   ],
   "source": [
    "film_permits['Category']"
   ]
  },
  {
   "cell_type": "markdown",
   "metadata": {},
   "source": [
    "This column is a series. You can select a column series by putting the column name in square brackets."
   ]
  },
  {
   "cell_type": "code",
   "execution_count": 12,
   "metadata": {},
   "outputs": [
    {
     "data": {
      "text/plain": [
       "EventID                                                         693518\n",
       "EventType                                              Shooting Permit\n",
       "StartDateTime                                      2023-02-02 07:00:00\n",
       "EndDateTime                                        2023-02-02 11:00:00\n",
       "EnteredOn                                          2023-01-30 11:09:47\n",
       "EventAgency                    Mayor's Office of Media & Entertainment\n",
       "ParkingHeld          CALYER STREET between DIAMOND STREET and JEWEL...\n",
       "Borough                                                       Brooklyn\n",
       "CommunityBoard(s)                                                    1\n",
       "PolicePrecinct(s)                                                   94\n",
       "Category                                                    Television\n",
       "SubCategoryName                                        Episodic series\n",
       "Country                                       United States of America\n",
       "ZipCode(s)                                                       11222\n",
       "Name: 10, dtype: object"
      ]
     },
     "execution_count": 12,
     "metadata": {},
     "output_type": "execute_result"
    }
   ],
   "source": [
    "film_permits.iloc[10]"
   ]
  },
  {
   "cell_type": "markdown",
   "metadata": {},
   "source": [
    "This row is also a Series. You can select a row using `.loc` of `.iloc` methods. We'll get there later. "
   ]
  },
  {
   "cell_type": "markdown",
   "metadata": {},
   "source": [
    "Mostly, Series behave just like one-dimensional DataFrames and have most of the same methods."
   ]
  },
  {
   "cell_type": "markdown",
   "metadata": {},
   "source": [
    "## Columns and Index\n",
    "\n",
    "DataFrames have labled rows and columns. As the example above, `Category` is the name of one column in the DataFrame. To show all column names, use:"
   ]
  },
  {
   "cell_type": "code",
   "execution_count": null,
   "metadata": {},
   "outputs": [
    {
     "data": {
      "text/plain": [
       "Index(['EventID', 'EventType', 'StartDateTime', 'EndDateTime', 'EnteredOn',\n",
       "       'EventAgency', 'ParkingHeld', 'Borough', 'CommunityBoard(s)',\n",
       "       'PolicePrecinct(s)', 'Category', 'SubCategoryName', 'Country',\n",
       "       'ZipCode(s)'],\n",
       "      dtype='object')"
      ]
     },
     "metadata": {},
     "output_type": "display_data"
    }
   ],
   "source": [
    "film_permits.columns"
   ]
  },
  {
   "cell_type": "markdown",
   "metadata": {},
   "source": [
    "This DataFrame has not had row labels set, so by default the rows are labeled just with incrimental numbers:"
   ]
  },
  {
   "cell_type": "code",
   "execution_count": null,
   "metadata": {},
   "outputs": [
    {
     "data": {
      "text/plain": [
       "RangeIndex(start=0, stop=9999, step=1)"
      ]
     },
     "metadata": {},
     "output_type": "display_data"
    }
   ],
   "source": [
    "film_permits.index"
   ]
  },
  {
   "cell_type": "markdown",
   "metadata": {},
   "source": [
    "## Selecting columns\n",
    "\n",
    "To select more than one column, include the column names in double brackets:"
   ]
  },
  {
   "cell_type": "code",
   "execution_count": 13,
   "metadata": {},
   "outputs": [
    {
     "data": {
      "text/html": [
       "<div>\n",
       "<style scoped>\n",
       "    .dataframe tbody tr th:only-of-type {\n",
       "        vertical-align: middle;\n",
       "    }\n",
       "\n",
       "    .dataframe tbody tr th {\n",
       "        vertical-align: top;\n",
       "    }\n",
       "\n",
       "    .dataframe thead th {\n",
       "        text-align: right;\n",
       "    }\n",
       "</style>\n",
       "<table border=\"1\" class=\"dataframe\">\n",
       "  <thead>\n",
       "    <tr style=\"text-align: right;\">\n",
       "      <th></th>\n",
       "      <th>Category</th>\n",
       "      <th>SubCategoryName</th>\n",
       "    </tr>\n",
       "  </thead>\n",
       "  <tbody>\n",
       "    <tr>\n",
       "      <th>0</th>\n",
       "      <td>Television</td>\n",
       "      <td>Cable-episodic</td>\n",
       "    </tr>\n",
       "    <tr>\n",
       "      <th>1</th>\n",
       "      <td>Television</td>\n",
       "      <td>Episodic series</td>\n",
       "    </tr>\n",
       "    <tr>\n",
       "      <th>2</th>\n",
       "      <td>Film</td>\n",
       "      <td>Feature</td>\n",
       "    </tr>\n",
       "    <tr>\n",
       "      <th>3</th>\n",
       "      <td>Commercial</td>\n",
       "      <td>Commercial</td>\n",
       "    </tr>\n",
       "    <tr>\n",
       "      <th>4</th>\n",
       "      <td>Theater</td>\n",
       "      <td>Theater</td>\n",
       "    </tr>\n",
       "    <tr>\n",
       "      <th>...</th>\n",
       "      <td>...</td>\n",
       "      <td>...</td>\n",
       "    </tr>\n",
       "    <tr>\n",
       "      <th>10136</th>\n",
       "      <td>Television</td>\n",
       "      <td>Cable-episodic</td>\n",
       "    </tr>\n",
       "    <tr>\n",
       "      <th>10137</th>\n",
       "      <td>Theater</td>\n",
       "      <td>Theater</td>\n",
       "    </tr>\n",
       "    <tr>\n",
       "      <th>10138</th>\n",
       "      <td>Commercial</td>\n",
       "      <td>Commercial</td>\n",
       "    </tr>\n",
       "    <tr>\n",
       "      <th>10139</th>\n",
       "      <td>Television</td>\n",
       "      <td>Episodic series</td>\n",
       "    </tr>\n",
       "    <tr>\n",
       "      <th>10140</th>\n",
       "      <td>Film</td>\n",
       "      <td>Feature</td>\n",
       "    </tr>\n",
       "  </tbody>\n",
       "</table>\n",
       "<p>10141 rows × 2 columns</p>\n",
       "</div>"
      ],
      "text/plain": [
       "         Category  SubCategoryName\n",
       "0      Television   Cable-episodic\n",
       "1      Television  Episodic series\n",
       "2            Film          Feature\n",
       "3      Commercial       Commercial\n",
       "4         Theater          Theater\n",
       "...           ...              ...\n",
       "10136  Television   Cable-episodic\n",
       "10137     Theater          Theater\n",
       "10138  Commercial       Commercial\n",
       "10139  Television  Episodic series\n",
       "10140        Film          Feature\n",
       "\n",
       "[10141 rows x 2 columns]"
      ]
     },
     "execution_count": 13,
     "metadata": {},
     "output_type": "execute_result"
    }
   ],
   "source": [
    "film_permits[['Category','SubCategoryName']]"
   ]
  },
  {
   "cell_type": "markdown",
   "metadata": {},
   "source": [
    "# Tasks"
   ]
  },
  {
   "cell_type": "markdown",
   "metadata": {},
   "source": [
    "1. Sort `film_permits` by `EventID` and display the result below."
   ]
  },
  {
   "cell_type": "code",
   "execution_count": null,
   "metadata": {},
   "outputs": [],
   "source": [
    "### your code"
   ]
  },
  {
   "cell_type": "markdown",
   "metadata": {},
   "source": [
    "2. Select a columns `Category`, `SubCategoryName`, and `Borough` from `film_permits` and store as a new DataFrame called `borough_category`"
   ]
  },
  {
   "cell_type": "code",
   "execution_count": null,
   "metadata": {},
   "outputs": [],
   "source": [
    "### your code"
   ]
  },
  {
   "cell_type": "markdown",
   "metadata": {},
   "source": [
    "4. [Extra credit] Use a method to count the number of permits is each `Borough` and display the result below."
   ]
  },
  {
   "cell_type": "code",
   "execution_count": null,
   "metadata": {},
   "outputs": [],
   "source": [
    "### your code"
   ]
  }
 ],
 "metadata": {
  "kernelspec": {
   "display_name": ".venv",
   "language": "python",
   "name": "python3"
  },
  "language_info": {
   "codemirror_mode": {
    "name": "ipython",
    "version": 3
   },
   "file_extension": ".py",
   "mimetype": "text/x-python",
   "name": "python",
   "nbconvert_exporter": "python",
   "pygments_lexer": "ipython3",
   "version": "3.13.1"
  }
 },
 "nbformat": 4,
 "nbformat_minor": 2
}
