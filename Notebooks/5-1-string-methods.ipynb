{
 "cells": [
  {
   "cell_type": "code",
   "execution_count": 2,
   "metadata": {},
   "outputs": [],
   "source": [
    "import pandas as pd"
   ]
  },
  {
   "cell_type": "markdown",
   "metadata": {},
   "source": [
    "# String methods: working with text"
   ]
  },
  {
   "cell_type": "markdown",
   "metadata": {},
   "source": [
    "### in base Python"
   ]
  },
  {
   "cell_type": "markdown",
   "metadata": {},
   "source": [
    "combine:"
   ]
  },
  {
   "cell_type": "code",
   "execution_count": 1,
   "metadata": {},
   "outputs": [
    {
     "data": {
      "text/plain": [
       "'woodchuck'"
      ]
     },
     "execution_count": 1,
     "metadata": {},
     "output_type": "execute_result"
    }
   ],
   "source": [
    "'wood' + 'chuck'"
   ]
  },
  {
   "cell_type": "markdown",
   "metadata": {},
   "source": [
    "subset:"
   ]
  },
  {
   "cell_type": "code",
   "execution_count": 4,
   "metadata": {},
   "outputs": [
    {
     "data": {
      "text/plain": [
       "'chuck'"
      ]
     },
     "execution_count": 4,
     "metadata": {},
     "output_type": "execute_result"
    }
   ],
   "source": [
    "'woodchuck'[4:]"
   ]
  },
  {
   "cell_type": "code",
   "execution_count": 5,
   "metadata": {},
   "outputs": [
    {
     "data": {
      "text/plain": [
       "'chuck'"
      ]
     },
     "execution_count": 5,
     "metadata": {},
     "output_type": "execute_result"
    }
   ],
   "source": [
    "'woodchuck'[-5:]"
   ]
  },
  {
   "cell_type": "markdown",
   "metadata": {},
   "source": [
    "change case:"
   ]
  },
  {
   "cell_type": "code",
   "execution_count": 6,
   "metadata": {},
   "outputs": [
    {
     "data": {
      "text/plain": [
       "'Giraffe'"
      ]
     },
     "execution_count": 6,
     "metadata": {},
     "output_type": "execute_result"
    }
   ],
   "source": [
    "'giraffe'.title()"
   ]
  },
  {
   "cell_type": "code",
   "execution_count": 7,
   "metadata": {},
   "outputs": [
    {
     "data": {
      "text/plain": [
       "'antelope'"
      ]
     },
     "execution_count": 7,
     "metadata": {},
     "output_type": "execute_result"
    }
   ],
   "source": [
    "'Antelope'.lower()"
   ]
  },
  {
   "cell_type": "code",
   "execution_count": 8,
   "metadata": {},
   "outputs": [
    {
     "data": {
      "text/plain": [
       "'GAZELLE'"
      ]
     },
     "execution_count": 8,
     "metadata": {},
     "output_type": "execute_result"
    }
   ],
   "source": [
    "'gazelle'.upper()"
   ]
  },
  {
   "cell_type": "markdown",
   "metadata": {},
   "source": [
    "contains substring:"
   ]
  },
  {
   "cell_type": "code",
   "execution_count": 11,
   "metadata": {},
   "outputs": [
    {
     "data": {
      "text/plain": [
       "True"
      ]
     },
     "execution_count": 11,
     "metadata": {},
     "output_type": "execute_result"
    }
   ],
   "source": [
    "'wood' in 'woodchuck'"
   ]
  },
  {
   "cell_type": "markdown",
   "metadata": {},
   "source": [
    "insert variables into strings:"
   ]
  },
  {
   "cell_type": "code",
   "execution_count": 12,
   "metadata": {},
   "outputs": [],
   "source": [
    "animal = 'penguin'"
   ]
  },
  {
   "cell_type": "code",
   "execution_count": 14,
   "metadata": {},
   "outputs": [
    {
     "data": {
      "text/plain": [
       "'my favorite animal is a penguin'"
      ]
     },
     "execution_count": 14,
     "metadata": {},
     "output_type": "execute_result"
    }
   ],
   "source": [
    "'my favorite animal is a ' + animal"
   ]
  },
  {
   "cell_type": "markdown",
   "metadata": {},
   "source": [
    "using _f-strings_:"
   ]
  },
  {
   "cell_type": "code",
   "execution_count": 17,
   "metadata": {},
   "outputs": [
    {
     "data": {
      "text/plain": [
       "'Many types of penguins are fast swimmers'"
      ]
     },
     "execution_count": 17,
     "metadata": {},
     "output_type": "execute_result"
    }
   ],
   "source": [
    "f\"Many types of {animal}s are fast swimmers\""
   ]
  },
  {
   "cell_type": "markdown",
   "metadata": {},
   "source": [
    "## in `pandas` "
   ]
  },
  {
   "cell_type": "code",
   "execution_count": 19,
   "metadata": {},
   "outputs": [],
   "source": [
    "pluto = pd.read_csv('https://raw.githubusercontent.com/dlevine01/urban-data-analysis-course/refs/heads/main/Data/Source%20Data/Primary_Land_Use_Tax_Lot_Output__PLUTO__20250124.csv')"
   ]
  },
  {
   "cell_type": "code",
   "execution_count": 21,
   "metadata": {},
   "outputs": [
    {
     "data": {
      "text/html": [
       "<div>\n",
       "<style scoped>\n",
       "    .dataframe tbody tr th:only-of-type {\n",
       "        vertical-align: middle;\n",
       "    }\n",
       "\n",
       "    .dataframe tbody tr th {\n",
       "        vertical-align: top;\n",
       "    }\n",
       "\n",
       "    .dataframe thead th {\n",
       "        text-align: right;\n",
       "    }\n",
       "</style>\n",
       "<table border=\"1\" class=\"dataframe\">\n",
       "  <thead>\n",
       "    <tr style=\"text-align: right;\">\n",
       "      <th></th>\n",
       "      <th>borough</th>\n",
       "      <th>Tax block</th>\n",
       "      <th>Tax lot</th>\n",
       "      <th>community board</th>\n",
       "      <th>census tract 2010</th>\n",
       "      <th>cb2010</th>\n",
       "      <th>schooldist</th>\n",
       "      <th>council district</th>\n",
       "      <th>postcode</th>\n",
       "      <th>firecomp</th>\n",
       "      <th>...</th>\n",
       "      <th>landmkdate</th>\n",
       "      <th>basempdate</th>\n",
       "      <th>masdate</th>\n",
       "      <th>polidate</th>\n",
       "      <th>edesigdate</th>\n",
       "      <th>geom</th>\n",
       "      <th>dcpedited</th>\n",
       "      <th>notes</th>\n",
       "      <th>bct2020</th>\n",
       "      <th>bctcb2020</th>\n",
       "    </tr>\n",
       "  </thead>\n",
       "  <tbody>\n",
       "    <tr>\n",
       "      <th>0</th>\n",
       "      <td>MN</td>\n",
       "      <td>1393</td>\n",
       "      <td>4</td>\n",
       "      <td>108</td>\n",
       "      <td>142.0</td>\n",
       "      <td>4001</td>\n",
       "      <td>2.0</td>\n",
       "      <td>4</td>\n",
       "      <td>10075.0</td>\n",
       "      <td>E022</td>\n",
       "      <td>...</td>\n",
       "      <td>NaN</td>\n",
       "      <td>NaN</td>\n",
       "      <td>NaN</td>\n",
       "      <td>NaN</td>\n",
       "      <td>NaN</td>\n",
       "      <td>NaN</td>\n",
       "      <td>NaN</td>\n",
       "      <td>NaN</td>\n",
       "      <td>1014200</td>\n",
       "      <td>10142004001</td>\n",
       "    </tr>\n",
       "    <tr>\n",
       "      <th>1</th>\n",
       "      <td>MN</td>\n",
       "      <td>1466</td>\n",
       "      <td>144</td>\n",
       "      <td>108</td>\n",
       "      <td>124.0</td>\n",
       "      <td>3000</td>\n",
       "      <td>2.0</td>\n",
       "      <td>5</td>\n",
       "      <td>10021.0</td>\n",
       "      <td>L016</td>\n",
       "      <td>...</td>\n",
       "      <td>NaN</td>\n",
       "      <td>NaN</td>\n",
       "      <td>NaN</td>\n",
       "      <td>NaN</td>\n",
       "      <td>NaN</td>\n",
       "      <td>NaN</td>\n",
       "      <td>NaN</td>\n",
       "      <td>NaN</td>\n",
       "      <td>1012400</td>\n",
       "      <td>10124003000</td>\n",
       "    </tr>\n",
       "    <tr>\n",
       "      <th>2</th>\n",
       "      <td>MN</td>\n",
       "      <td>1467</td>\n",
       "      <td>1</td>\n",
       "      <td>108</td>\n",
       "      <td>124.0</td>\n",
       "      <td>2000</td>\n",
       "      <td>2.0</td>\n",
       "      <td>5</td>\n",
       "      <td>10021.0</td>\n",
       "      <td>E044</td>\n",
       "      <td>...</td>\n",
       "      <td>NaN</td>\n",
       "      <td>NaN</td>\n",
       "      <td>NaN</td>\n",
       "      <td>NaN</td>\n",
       "      <td>NaN</td>\n",
       "      <td>NaN</td>\n",
       "      <td>NaN</td>\n",
       "      <td>NaN</td>\n",
       "      <td>1012400</td>\n",
       "      <td>10124002001</td>\n",
       "    </tr>\n",
       "    <tr>\n",
       "      <th>3</th>\n",
       "      <td>MN</td>\n",
       "      <td>1467</td>\n",
       "      <td>44</td>\n",
       "      <td>108</td>\n",
       "      <td>124.0</td>\n",
       "      <td>2000</td>\n",
       "      <td>2.0</td>\n",
       "      <td>5</td>\n",
       "      <td>10021.0</td>\n",
       "      <td>E044</td>\n",
       "      <td>...</td>\n",
       "      <td>NaN</td>\n",
       "      <td>NaN</td>\n",
       "      <td>NaN</td>\n",
       "      <td>NaN</td>\n",
       "      <td>NaN</td>\n",
       "      <td>NaN</td>\n",
       "      <td>NaN</td>\n",
       "      <td>NaN</td>\n",
       "      <td>1012400</td>\n",
       "      <td>10124002001</td>\n",
       "    </tr>\n",
       "    <tr>\n",
       "      <th>4</th>\n",
       "      <td>MN</td>\n",
       "      <td>1467</td>\n",
       "      <td>5</td>\n",
       "      <td>108</td>\n",
       "      <td>124.0</td>\n",
       "      <td>2000</td>\n",
       "      <td>2.0</td>\n",
       "      <td>5</td>\n",
       "      <td>10021.0</td>\n",
       "      <td>E044</td>\n",
       "      <td>...</td>\n",
       "      <td>NaN</td>\n",
       "      <td>NaN</td>\n",
       "      <td>NaN</td>\n",
       "      <td>NaN</td>\n",
       "      <td>NaN</td>\n",
       "      <td>NaN</td>\n",
       "      <td>NaN</td>\n",
       "      <td>NaN</td>\n",
       "      <td>1012400</td>\n",
       "      <td>10124002000</td>\n",
       "    </tr>\n",
       "  </tbody>\n",
       "</table>\n",
       "<p>5 rows × 101 columns</p>\n",
       "</div>"
      ],
      "text/plain": [
       "  borough  Tax block  Tax lot  community board  census tract 2010  cb2010  \\\n",
       "0      MN       1393        4              108              142.0    4001   \n",
       "1      MN       1466      144              108              124.0    3000   \n",
       "2      MN       1467        1              108              124.0    2000   \n",
       "3      MN       1467       44              108              124.0    2000   \n",
       "4      MN       1467        5              108              124.0    2000   \n",
       "\n",
       "   schooldist  council district  postcode firecomp  ...  landmkdate  \\\n",
       "0         2.0                 4   10075.0     E022  ...         NaN   \n",
       "1         2.0                 5   10021.0     L016  ...         NaN   \n",
       "2         2.0                 5   10021.0     E044  ...         NaN   \n",
       "3         2.0                 5   10021.0     E044  ...         NaN   \n",
       "4         2.0                 5   10021.0     E044  ...         NaN   \n",
       "\n",
       "   basempdate  masdate polidate edesigdate geom dcpedited notes  bct2020  \\\n",
       "0         NaN      NaN      NaN        NaN  NaN       NaN   NaN  1014200   \n",
       "1         NaN      NaN      NaN        NaN  NaN       NaN   NaN  1012400   \n",
       "2         NaN      NaN      NaN        NaN  NaN       NaN   NaN  1012400   \n",
       "3         NaN      NaN      NaN        NaN  NaN       NaN   NaN  1012400   \n",
       "4         NaN      NaN      NaN        NaN  NaN       NaN   NaN  1012400   \n",
       "\n",
       "     bctcb2020  \n",
       "0  10142004001  \n",
       "1  10124003000  \n",
       "2  10124002001  \n",
       "3  10124002001  \n",
       "4  10124002000  \n",
       "\n",
       "[5 rows x 101 columns]"
      ]
     },
     "execution_count": 21,
     "metadata": {},
     "output_type": "execute_result"
    }
   ],
   "source": [
    "pluto.head()"
   ]
  },
  {
   "cell_type": "markdown",
   "metadata": {},
   "source": [
    "Access [extra string methods](https://pandas.pydata.org/pandas-docs/stable/reference/api/pandas.Series.str.html) of a series with `.str`"
   ]
  },
  {
   "cell_type": "markdown",
   "metadata": {},
   "source": [
    "substrings:"
   ]
  },
  {
   "cell_type": "code",
   "execution_count": 22,
   "metadata": {},
   "outputs": [
    {
     "data": {
      "text/plain": [
       "0        R10\n",
       "1       R10A\n",
       "2       R10A\n",
       "3        R8B\n",
       "4       R10A\n",
       "        ... \n",
       "5481     NaN\n",
       "5482    C1-9\n",
       "5483     R8B\n",
       "5484     R8B\n",
       "5485     R8B\n",
       "Name: zonedist1, Length: 5486, dtype: object"
      ]
     },
     "execution_count": 22,
     "metadata": {},
     "output_type": "execute_result"
    }
   ],
   "source": [
    "pluto['zonedist1']"
   ]
  },
  {
   "cell_type": "code",
   "execution_count": 23,
   "metadata": {},
   "outputs": [
    {
     "data": {
      "text/plain": [
       "0         R\n",
       "1         R\n",
       "2         R\n",
       "3         R\n",
       "4         R\n",
       "       ... \n",
       "5481    NaN\n",
       "5482      C\n",
       "5483      R\n",
       "5484      R\n",
       "5485      R\n",
       "Name: zonedist1, Length: 5486, dtype: object"
      ]
     },
     "execution_count": 23,
     "metadata": {},
     "output_type": "execute_result"
    }
   ],
   "source": [
    "pluto['zonedist1'].str.slice(stop=1)"
   ]
  },
  {
   "cell_type": "markdown",
   "metadata": {},
   "source": [
    "search for substring:"
   ]
  },
  {
   "cell_type": "code",
   "execution_count": 30,
   "metadata": {},
   "outputs": [
    {
     "data": {
      "text/plain": [
       "0        True\n",
       "1       False\n",
       "2        True\n",
       "3       False\n",
       "4       False\n",
       "        ...  \n",
       "5481    False\n",
       "5482     True\n",
       "5483    False\n",
       "5484    False\n",
       "5485    False\n",
       "Name: address, Length: 5486, dtype: object"
      ]
     },
     "execution_count": 30,
     "metadata": {},
     "output_type": "execute_result"
    }
   ],
   "source": [
    "pluto['address'].str.contains('AVENUE')"
   ]
  },
  {
   "cell_type": "code",
   "execution_count": 34,
   "metadata": {},
   "outputs": [
    {
     "data": {
      "text/plain": [
       "0       False\n",
       "1       False\n",
       "2       False\n",
       "3       False\n",
       "4        True\n",
       "        ...  \n",
       "5481    False\n",
       "5482    False\n",
       "5483    False\n",
       "5484     True\n",
       "5485     True\n",
       "Name: ownername, Length: 5486, dtype: object"
      ]
     },
     "execution_count": 34,
     "metadata": {},
     "output_type": "execute_result"
    }
   ],
   "source": [
    "pluto['ownername'].str.contains('LLC')"
   ]
  },
  {
   "cell_type": "markdown",
   "metadata": {},
   "source": [
    "split:"
   ]
  },
  {
   "cell_type": "code",
   "execution_count": 32,
   "metadata": {},
   "outputs": [
    {
     "data": {
      "text/plain": [
       "0              [971, 5, AVENUE]\n",
       "1       [402, EAST, 72, STREET]\n",
       "2             [1344, 1, AVENUE]\n",
       "3       [404, EAST, 73, STREET]\n",
       "4       [405, EAST, 72, STREET]\n",
       "                 ...           \n",
       "5481    [412, EAST, 79, STREET]\n",
       "5482          [1501, 1, AVENUE]\n",
       "5483               [FDR, DRIVE]\n",
       "5484    [169, EAST, 64, STREET]\n",
       "5485    [214, EAST, 74, STREET]\n",
       "Name: address, Length: 5486, dtype: object"
      ]
     },
     "execution_count": 32,
     "metadata": {},
     "output_type": "execute_result"
    }
   ],
   "source": [
    "pluto['address'].str.split(' ')"
   ]
  },
  {
   "cell_type": "code",
   "execution_count": 49,
   "metadata": {},
   "outputs": [
    {
     "data": {
      "text/html": [
       "<div>\n",
       "<style scoped>\n",
       "    .dataframe tbody tr th:only-of-type {\n",
       "        vertical-align: middle;\n",
       "    }\n",
       "\n",
       "    .dataframe tbody tr th {\n",
       "        vertical-align: top;\n",
       "    }\n",
       "\n",
       "    .dataframe thead th {\n",
       "        text-align: right;\n",
       "    }\n",
       "</style>\n",
       "<table border=\"1\" class=\"dataframe\">\n",
       "  <thead>\n",
       "    <tr style=\"text-align: right;\">\n",
       "      <th></th>\n",
       "      <th>0</th>\n",
       "      <th>1</th>\n",
       "    </tr>\n",
       "  </thead>\n",
       "  <tbody>\n",
       "    <tr>\n",
       "      <th>0</th>\n",
       "      <td>971</td>\n",
       "      <td>5 AVENUE</td>\n",
       "    </tr>\n",
       "    <tr>\n",
       "      <th>1</th>\n",
       "      <td>402</td>\n",
       "      <td>EAST 72 STREET</td>\n",
       "    </tr>\n",
       "    <tr>\n",
       "      <th>2</th>\n",
       "      <td>1344</td>\n",
       "      <td>1 AVENUE</td>\n",
       "    </tr>\n",
       "    <tr>\n",
       "      <th>3</th>\n",
       "      <td>404</td>\n",
       "      <td>EAST 73 STREET</td>\n",
       "    </tr>\n",
       "    <tr>\n",
       "      <th>4</th>\n",
       "      <td>405</td>\n",
       "      <td>EAST 72 STREET</td>\n",
       "    </tr>\n",
       "    <tr>\n",
       "      <th>...</th>\n",
       "      <td>...</td>\n",
       "      <td>...</td>\n",
       "    </tr>\n",
       "    <tr>\n",
       "      <th>5481</th>\n",
       "      <td>412</td>\n",
       "      <td>EAST 79 STREET</td>\n",
       "    </tr>\n",
       "    <tr>\n",
       "      <th>5482</th>\n",
       "      <td>1501</td>\n",
       "      <td>1 AVENUE</td>\n",
       "    </tr>\n",
       "    <tr>\n",
       "      <th>5483</th>\n",
       "      <td>FDR</td>\n",
       "      <td>DRIVE</td>\n",
       "    </tr>\n",
       "    <tr>\n",
       "      <th>5484</th>\n",
       "      <td>169</td>\n",
       "      <td>EAST 64 STREET</td>\n",
       "    </tr>\n",
       "    <tr>\n",
       "      <th>5485</th>\n",
       "      <td>214</td>\n",
       "      <td>EAST 74 STREET</td>\n",
       "    </tr>\n",
       "  </tbody>\n",
       "</table>\n",
       "<p>5486 rows × 2 columns</p>\n",
       "</div>"
      ],
      "text/plain": [
       "         0               1\n",
       "0      971        5 AVENUE\n",
       "1      402  EAST 72 STREET\n",
       "2     1344        1 AVENUE\n",
       "3      404  EAST 73 STREET\n",
       "4      405  EAST 72 STREET\n",
       "...    ...             ...\n",
       "5481   412  EAST 79 STREET\n",
       "5482  1501        1 AVENUE\n",
       "5483   FDR           DRIVE\n",
       "5484   169  EAST 64 STREET\n",
       "5485   214  EAST 74 STREET\n",
       "\n",
       "[5486 rows x 2 columns]"
      ]
     },
     "execution_count": 49,
     "metadata": {},
     "output_type": "execute_result"
    }
   ],
   "source": [
    "pluto['address'].str.split(' ', n=1, expand=True)"
   ]
  },
  {
   "cell_type": "markdown",
   "metadata": {},
   "source": [
    "(advanced: extract with a _regex_ search pattern)"
   ]
  },
  {
   "cell_type": "code",
   "execution_count": 70,
   "metadata": {},
   "outputs": [
    {
     "data": {
      "text/html": [
       "<div>\n",
       "<style scoped>\n",
       "    .dataframe tbody tr th:only-of-type {\n",
       "        vertical-align: middle;\n",
       "    }\n",
       "\n",
       "    .dataframe tbody tr th {\n",
       "        vertical-align: top;\n",
       "    }\n",
       "\n",
       "    .dataframe thead th {\n",
       "        text-align: right;\n",
       "    }\n",
       "</style>\n",
       "<table border=\"1\" class=\"dataframe\">\n",
       "  <thead>\n",
       "    <tr style=\"text-align: right;\">\n",
       "      <th></th>\n",
       "      <th>0</th>\n",
       "    </tr>\n",
       "  </thead>\n",
       "  <tbody>\n",
       "    <tr>\n",
       "      <th>0</th>\n",
       "      <td>971</td>\n",
       "    </tr>\n",
       "    <tr>\n",
       "      <th>1</th>\n",
       "      <td>402</td>\n",
       "    </tr>\n",
       "    <tr>\n",
       "      <th>2</th>\n",
       "      <td>1344</td>\n",
       "    </tr>\n",
       "    <tr>\n",
       "      <th>3</th>\n",
       "      <td>404</td>\n",
       "    </tr>\n",
       "    <tr>\n",
       "      <th>4</th>\n",
       "      <td>405</td>\n",
       "    </tr>\n",
       "    <tr>\n",
       "      <th>...</th>\n",
       "      <td>...</td>\n",
       "    </tr>\n",
       "    <tr>\n",
       "      <th>5481</th>\n",
       "      <td>412</td>\n",
       "    </tr>\n",
       "    <tr>\n",
       "      <th>5482</th>\n",
       "      <td>1501</td>\n",
       "    </tr>\n",
       "    <tr>\n",
       "      <th>5483</th>\n",
       "      <td>NaN</td>\n",
       "    </tr>\n",
       "    <tr>\n",
       "      <th>5484</th>\n",
       "      <td>169</td>\n",
       "    </tr>\n",
       "    <tr>\n",
       "      <th>5485</th>\n",
       "      <td>214</td>\n",
       "    </tr>\n",
       "  </tbody>\n",
       "</table>\n",
       "<p>5486 rows × 1 columns</p>\n",
       "</div>"
      ],
      "text/plain": [
       "         0\n",
       "0      971\n",
       "1      402\n",
       "2     1344\n",
       "3      404\n",
       "4      405\n",
       "...    ...\n",
       "5481   412\n",
       "5482  1501\n",
       "5483   NaN\n",
       "5484   169\n",
       "5485   214\n",
       "\n",
       "[5486 rows x 1 columns]"
      ]
     },
     "execution_count": 70,
     "metadata": {},
     "output_type": "execute_result"
    }
   ],
   "source": [
    "pluto['address'].str.extract(pat=r'(\\d+)')"
   ]
  },
  {
   "cell_type": "markdown",
   "metadata": {},
   "source": [
    "reformat:"
   ]
  },
  {
   "cell_type": "code",
   "execution_count": 47,
   "metadata": {},
   "outputs": [
    {
     "data": {
      "text/plain": [
       "0                              Republic Of France\n",
       "1                  Royal Charter Properties, Inc.\n",
       "2              399 East 72Nd Apartment Owners Inc\n",
       "3                           999 First Corporation\n",
       "4                                  Elliana 72 Llc\n",
       "                          ...                    \n",
       "5481                            Unavailable Owner\n",
       "5482                          1501 First Equities\n",
       "5483    Nyc Department Of Small Business Services\n",
       "5484                         169 East 64Th St Llc\n",
       "5485                         Monolith Capital Llc\n",
       "Name: ownername, Length: 5486, dtype: object"
      ]
     },
     "execution_count": 47,
     "metadata": {},
     "output_type": "execute_result"
    }
   ],
   "source": [
    "pluto['ownername'].str.title()"
   ]
  },
  {
   "cell_type": "markdown",
   "metadata": {},
   "source": [
    "replace:"
   ]
  },
  {
   "cell_type": "code",
   "execution_count": 38,
   "metadata": {},
   "outputs": [
    {
     "data": {
      "text/plain": [
       "0       Manhattan\n",
       "1       Manhattan\n",
       "2       Manhattan\n",
       "3       Manhattan\n",
       "4       Manhattan\n",
       "          ...    \n",
       "5481    Manhattan\n",
       "5482    Manhattan\n",
       "5483    Manhattan\n",
       "5484    Manhattan\n",
       "5485    Manhattan\n",
       "Name: borough, Length: 5486, dtype: object"
      ]
     },
     "execution_count": 38,
     "metadata": {},
     "output_type": "execute_result"
    }
   ],
   "source": [
    "pluto['borough'].replace('MN','Manhattan')"
   ]
  },
  {
   "cell_type": "markdown",
   "metadata": {},
   "source": [
    "zero-pad:"
   ]
  },
  {
   "cell_type": "code",
   "execution_count": 43,
   "metadata": {},
   "outputs": [
    {
     "data": {
      "text/plain": [
       "0       01393\n",
       "1       01466\n",
       "2       01467\n",
       "3       01467\n",
       "4       01467\n",
       "        ...  \n",
       "5481    01473\n",
       "5482    01453\n",
       "5483    01488\n",
       "5484    01399\n",
       "5485    01428\n",
       "Name: Tax block, Length: 5486, dtype: object"
      ]
     },
     "execution_count": 43,
     "metadata": {},
     "output_type": "execute_result"
    }
   ],
   "source": [
    "pluto['Tax block'].astype(str).str.zfill(5)"
   ]
  },
  {
   "cell_type": "markdown",
   "metadata": {},
   "source": [
    "combine:"
   ]
  },
  {
   "cell_type": "code",
   "execution_count": null,
   "metadata": {},
   "outputs": [
    {
     "data": {
      "text/plain": [
       "0       1013930004\n",
       "1       1014660144\n",
       "2       1014670001\n",
       "3       1014670044\n",
       "4       1014670005\n",
       "           ...    \n",
       "5481    1014739042\n",
       "5482    1014530025\n",
       "5483    1014880060\n",
       "5484    1013990027\n",
       "5485    1014280041\n",
       "Length: 5486, dtype: object"
      ]
     },
     "execution_count": 44,
     "metadata": {},
     "output_type": "execute_result"
    }
   ],
   "source": [
    "# create BBL from borough, block, and lot\n",
    "\n",
    "(\n",
    "    pluto['borocode'].astype(str)\n",
    "    +\n",
    "    pluto['Tax block'].astype(str).str.zfill(5)\n",
    "    +\n",
    "    pluto['Tax lot'].astype(str).str.zfill(4)\n",
    ")"
   ]
  },
  {
   "cell_type": "code",
   "execution_count": 48,
   "metadata": {},
   "outputs": [
    {
     "data": {
      "text/plain": [
       "0       1013930004\n",
       "1       1014660144\n",
       "2       1014670001\n",
       "3       1014670044\n",
       "4       1014670005\n",
       "           ...    \n",
       "5481    1014739042\n",
       "5482    1014530025\n",
       "5483    1014880060\n",
       "5484    1013990027\n",
       "5485    1014280041\n",
       "Name: BBL, Length: 5486, dtype: int64"
      ]
     },
     "execution_count": 48,
     "metadata": {},
     "output_type": "execute_result"
    }
   ],
   "source": [
    "# see, it matches:\n",
    "\n",
    "pluto['BBL']"
   ]
  },
  {
   "cell_type": "markdown",
   "metadata": {},
   "source": [
    "extract substring:"
   ]
  },
  {
   "cell_type": "code",
   "execution_count": null,
   "metadata": {},
   "outputs": [
    {
     "data": {
      "text/plain": [
       "0       0139\n",
       "1       0146\n",
       "2       0146\n",
       "3       0146\n",
       "4       0146\n",
       "        ... \n",
       "5481    0147\n",
       "5482    0145\n",
       "5483    0148\n",
       "5484    0139\n",
       "5485    0142\n",
       "Name: BBL, Length: 5486, dtype: object"
      ]
     },
     "execution_count": 46,
     "metadata": {},
     "output_type": "execute_result"
    }
   ],
   "source": [
    "# tax block from BBL\n",
    "\n",
    "pluto['BBL'].astype(str).str.slice(start=1, stop=5)"
   ]
  },
  {
   "cell_type": "markdown",
   "metadata": {},
   "source": [
    "## handling nulls"
   ]
  },
  {
   "cell_type": "code",
   "execution_count": 72,
   "metadata": {},
   "outputs": [
    {
     "data": {
      "text/plain": [
       "0        True\n",
       "1       False\n",
       "2       False\n",
       "3       False\n",
       "4       False\n",
       "        ...  \n",
       "5481     True\n",
       "5482    False\n",
       "5483     True\n",
       "5484    False\n",
       "5485    False\n",
       "Name: numfloors, Length: 5486, dtype: bool"
      ]
     },
     "execution_count": 72,
     "metadata": {},
     "output_type": "execute_result"
    }
   ],
   "source": [
    "pluto['numfloors'].isna()"
   ]
  },
  {
   "cell_type": "markdown",
   "metadata": {},
   "source": [
    "drop missing:"
   ]
  },
  {
   "cell_type": "code",
   "execution_count": 73,
   "metadata": {},
   "outputs": [
    {
     "data": {
      "text/html": [
       "<div>\n",
       "<style scoped>\n",
       "    .dataframe tbody tr th:only-of-type {\n",
       "        vertical-align: middle;\n",
       "    }\n",
       "\n",
       "    .dataframe tbody tr th {\n",
       "        vertical-align: top;\n",
       "    }\n",
       "\n",
       "    .dataframe thead th {\n",
       "        text-align: right;\n",
       "    }\n",
       "</style>\n",
       "<table border=\"1\" class=\"dataframe\">\n",
       "  <thead>\n",
       "    <tr style=\"text-align: right;\">\n",
       "      <th></th>\n",
       "      <th>borough</th>\n",
       "      <th>Tax block</th>\n",
       "      <th>Tax lot</th>\n",
       "      <th>community board</th>\n",
       "      <th>census tract 2010</th>\n",
       "      <th>cb2010</th>\n",
       "      <th>schooldist</th>\n",
       "      <th>council district</th>\n",
       "      <th>postcode</th>\n",
       "      <th>firecomp</th>\n",
       "      <th>...</th>\n",
       "      <th>landmkdate</th>\n",
       "      <th>basempdate</th>\n",
       "      <th>masdate</th>\n",
       "      <th>polidate</th>\n",
       "      <th>edesigdate</th>\n",
       "      <th>geom</th>\n",
       "      <th>dcpedited</th>\n",
       "      <th>notes</th>\n",
       "      <th>bct2020</th>\n",
       "      <th>bctcb2020</th>\n",
       "    </tr>\n",
       "  </thead>\n",
       "  <tbody>\n",
       "    <tr>\n",
       "      <th>1</th>\n",
       "      <td>MN</td>\n",
       "      <td>1466</td>\n",
       "      <td>144</td>\n",
       "      <td>108</td>\n",
       "      <td>124.00</td>\n",
       "      <td>3000</td>\n",
       "      <td>2.0</td>\n",
       "      <td>5</td>\n",
       "      <td>10021.0</td>\n",
       "      <td>L016</td>\n",
       "      <td>...</td>\n",
       "      <td>NaN</td>\n",
       "      <td>NaN</td>\n",
       "      <td>NaN</td>\n",
       "      <td>NaN</td>\n",
       "      <td>NaN</td>\n",
       "      <td>NaN</td>\n",
       "      <td>NaN</td>\n",
       "      <td>NaN</td>\n",
       "      <td>1012400</td>\n",
       "      <td>10124003000</td>\n",
       "    </tr>\n",
       "    <tr>\n",
       "      <th>2</th>\n",
       "      <td>MN</td>\n",
       "      <td>1467</td>\n",
       "      <td>1</td>\n",
       "      <td>108</td>\n",
       "      <td>124.00</td>\n",
       "      <td>2000</td>\n",
       "      <td>2.0</td>\n",
       "      <td>5</td>\n",
       "      <td>10021.0</td>\n",
       "      <td>E044</td>\n",
       "      <td>...</td>\n",
       "      <td>NaN</td>\n",
       "      <td>NaN</td>\n",
       "      <td>NaN</td>\n",
       "      <td>NaN</td>\n",
       "      <td>NaN</td>\n",
       "      <td>NaN</td>\n",
       "      <td>NaN</td>\n",
       "      <td>NaN</td>\n",
       "      <td>1012400</td>\n",
       "      <td>10124002001</td>\n",
       "    </tr>\n",
       "    <tr>\n",
       "      <th>3</th>\n",
       "      <td>MN</td>\n",
       "      <td>1467</td>\n",
       "      <td>44</td>\n",
       "      <td>108</td>\n",
       "      <td>124.00</td>\n",
       "      <td>2000</td>\n",
       "      <td>2.0</td>\n",
       "      <td>5</td>\n",
       "      <td>10021.0</td>\n",
       "      <td>E044</td>\n",
       "      <td>...</td>\n",
       "      <td>NaN</td>\n",
       "      <td>NaN</td>\n",
       "      <td>NaN</td>\n",
       "      <td>NaN</td>\n",
       "      <td>NaN</td>\n",
       "      <td>NaN</td>\n",
       "      <td>NaN</td>\n",
       "      <td>NaN</td>\n",
       "      <td>1012400</td>\n",
       "      <td>10124002001</td>\n",
       "    </tr>\n",
       "    <tr>\n",
       "      <th>4</th>\n",
       "      <td>MN</td>\n",
       "      <td>1467</td>\n",
       "      <td>5</td>\n",
       "      <td>108</td>\n",
       "      <td>124.00</td>\n",
       "      <td>2000</td>\n",
       "      <td>2.0</td>\n",
       "      <td>5</td>\n",
       "      <td>10021.0</td>\n",
       "      <td>E044</td>\n",
       "      <td>...</td>\n",
       "      <td>NaN</td>\n",
       "      <td>NaN</td>\n",
       "      <td>NaN</td>\n",
       "      <td>NaN</td>\n",
       "      <td>NaN</td>\n",
       "      <td>NaN</td>\n",
       "      <td>NaN</td>\n",
       "      <td>NaN</td>\n",
       "      <td>1012400</td>\n",
       "      <td>10124002000</td>\n",
       "    </tr>\n",
       "    <tr>\n",
       "      <th>5</th>\n",
       "      <td>MN</td>\n",
       "      <td>1467</td>\n",
       "      <td>43</td>\n",
       "      <td>108</td>\n",
       "      <td>124.00</td>\n",
       "      <td>2000</td>\n",
       "      <td>2.0</td>\n",
       "      <td>5</td>\n",
       "      <td>10021.0</td>\n",
       "      <td>E044</td>\n",
       "      <td>...</td>\n",
       "      <td>NaN</td>\n",
       "      <td>NaN</td>\n",
       "      <td>NaN</td>\n",
       "      <td>NaN</td>\n",
       "      <td>NaN</td>\n",
       "      <td>NaN</td>\n",
       "      <td>NaN</td>\n",
       "      <td>NaN</td>\n",
       "      <td>1012400</td>\n",
       "      <td>10124002001</td>\n",
       "    </tr>\n",
       "    <tr>\n",
       "      <th>...</th>\n",
       "      <td>...</td>\n",
       "      <td>...</td>\n",
       "      <td>...</td>\n",
       "      <td>...</td>\n",
       "      <td>...</td>\n",
       "      <td>...</td>\n",
       "      <td>...</td>\n",
       "      <td>...</td>\n",
       "      <td>...</td>\n",
       "      <td>...</td>\n",
       "      <td>...</td>\n",
       "      <td>...</td>\n",
       "      <td>...</td>\n",
       "      <td>...</td>\n",
       "      <td>...</td>\n",
       "      <td>...</td>\n",
       "      <td>...</td>\n",
       "      <td>...</td>\n",
       "      <td>...</td>\n",
       "      <td>...</td>\n",
       "      <td>...</td>\n",
       "    </tr>\n",
       "    <tr>\n",
       "      <th>5470</th>\n",
       "      <td>MN</td>\n",
       "      <td>1475</td>\n",
       "      <td>9005</td>\n",
       "      <td>108</td>\n",
       "      <td>106.02</td>\n",
       "      <td>3000</td>\n",
       "      <td>2.0</td>\n",
       "      <td>5</td>\n",
       "      <td>10065.0</td>\n",
       "      <td>L016</td>\n",
       "      <td>...</td>\n",
       "      <td>NaN</td>\n",
       "      <td>NaN</td>\n",
       "      <td>NaN</td>\n",
       "      <td>NaN</td>\n",
       "      <td>NaN</td>\n",
       "      <td>NaN</td>\n",
       "      <td>NaN</td>\n",
       "      <td>NaN</td>\n",
       "      <td>1010602</td>\n",
       "      <td>10106022001</td>\n",
       "    </tr>\n",
       "    <tr>\n",
       "      <th>5473</th>\n",
       "      <td>MN</td>\n",
       "      <td>1567</td>\n",
       "      <td>9021</td>\n",
       "      <td>108</td>\n",
       "      <td>144.02</td>\n",
       "      <td>2000</td>\n",
       "      <td>2.0</td>\n",
       "      <td>5</td>\n",
       "      <td>10128.0</td>\n",
       "      <td>L013</td>\n",
       "      <td>...</td>\n",
       "      <td>NaN</td>\n",
       "      <td>NaN</td>\n",
       "      <td>NaN</td>\n",
       "      <td>NaN</td>\n",
       "      <td>NaN</td>\n",
       "      <td>NaN</td>\n",
       "      <td>NaN</td>\n",
       "      <td>NaN</td>\n",
       "      <td>1014402</td>\n",
       "      <td>10144022000</td>\n",
       "    </tr>\n",
       "    <tr>\n",
       "      <th>5482</th>\n",
       "      <td>MN</td>\n",
       "      <td>1453</td>\n",
       "      <td>25</td>\n",
       "      <td>108</td>\n",
       "      <td>134.00</td>\n",
       "      <td>3000</td>\n",
       "      <td>2.0</td>\n",
       "      <td>5</td>\n",
       "      <td>10075.0</td>\n",
       "      <td>E022</td>\n",
       "      <td>...</td>\n",
       "      <td>NaN</td>\n",
       "      <td>NaN</td>\n",
       "      <td>NaN</td>\n",
       "      <td>NaN</td>\n",
       "      <td>NaN</td>\n",
       "      <td>NaN</td>\n",
       "      <td>NaN</td>\n",
       "      <td>NaN</td>\n",
       "      <td>1013400</td>\n",
       "      <td>10134003000</td>\n",
       "    </tr>\n",
       "    <tr>\n",
       "      <th>5484</th>\n",
       "      <td>MN</td>\n",
       "      <td>1399</td>\n",
       "      <td>27</td>\n",
       "      <td>108</td>\n",
       "      <td>120.00</td>\n",
       "      <td>2001</td>\n",
       "      <td>2.0</td>\n",
       "      <td>4</td>\n",
       "      <td>10065.0</td>\n",
       "      <td>E039</td>\n",
       "      <td>...</td>\n",
       "      <td>NaN</td>\n",
       "      <td>NaN</td>\n",
       "      <td>NaN</td>\n",
       "      <td>NaN</td>\n",
       "      <td>NaN</td>\n",
       "      <td>NaN</td>\n",
       "      <td>NaN</td>\n",
       "      <td>NaN</td>\n",
       "      <td>1012000</td>\n",
       "      <td>10120002001</td>\n",
       "    </tr>\n",
       "    <tr>\n",
       "      <th>5485</th>\n",
       "      <td>MN</td>\n",
       "      <td>1428</td>\n",
       "      <td>41</td>\n",
       "      <td>108</td>\n",
       "      <td>126.00</td>\n",
       "      <td>1000</td>\n",
       "      <td>2.0</td>\n",
       "      <td>5</td>\n",
       "      <td>10021.0</td>\n",
       "      <td>E044</td>\n",
       "      <td>...</td>\n",
       "      <td>NaN</td>\n",
       "      <td>NaN</td>\n",
       "      <td>NaN</td>\n",
       "      <td>NaN</td>\n",
       "      <td>NaN</td>\n",
       "      <td>NaN</td>\n",
       "      <td>NaN</td>\n",
       "      <td>NaN</td>\n",
       "      <td>1012602</td>\n",
       "      <td>10126021000</td>\n",
       "    </tr>\n",
       "  </tbody>\n",
       "</table>\n",
       "<p>5374 rows × 101 columns</p>\n",
       "</div>"
      ],
      "text/plain": [
       "     borough  Tax block  Tax lot  community board  census tract 2010  cb2010  \\\n",
       "1         MN       1466      144              108             124.00    3000   \n",
       "2         MN       1467        1              108             124.00    2000   \n",
       "3         MN       1467       44              108             124.00    2000   \n",
       "4         MN       1467        5              108             124.00    2000   \n",
       "5         MN       1467       43              108             124.00    2000   \n",
       "...      ...        ...      ...              ...                ...     ...   \n",
       "5470      MN       1475     9005              108             106.02    3000   \n",
       "5473      MN       1567     9021              108             144.02    2000   \n",
       "5482      MN       1453       25              108             134.00    3000   \n",
       "5484      MN       1399       27              108             120.00    2001   \n",
       "5485      MN       1428       41              108             126.00    1000   \n",
       "\n",
       "      schooldist  council district  postcode firecomp  ...  landmkdate  \\\n",
       "1            2.0                 5   10021.0     L016  ...         NaN   \n",
       "2            2.0                 5   10021.0     E044  ...         NaN   \n",
       "3            2.0                 5   10021.0     E044  ...         NaN   \n",
       "4            2.0                 5   10021.0     E044  ...         NaN   \n",
       "5            2.0                 5   10021.0     E044  ...         NaN   \n",
       "...          ...               ...       ...      ...  ...         ...   \n",
       "5470         2.0                 5   10065.0     L016  ...         NaN   \n",
       "5473         2.0                 5   10128.0     L013  ...         NaN   \n",
       "5482         2.0                 5   10075.0     E022  ...         NaN   \n",
       "5484         2.0                 4   10065.0     E039  ...         NaN   \n",
       "5485         2.0                 5   10021.0     E044  ...         NaN   \n",
       "\n",
       "      basempdate  masdate polidate edesigdate geom dcpedited notes  bct2020  \\\n",
       "1            NaN      NaN      NaN        NaN  NaN       NaN   NaN  1012400   \n",
       "2            NaN      NaN      NaN        NaN  NaN       NaN   NaN  1012400   \n",
       "3            NaN      NaN      NaN        NaN  NaN       NaN   NaN  1012400   \n",
       "4            NaN      NaN      NaN        NaN  NaN       NaN   NaN  1012400   \n",
       "5            NaN      NaN      NaN        NaN  NaN       NaN   NaN  1012400   \n",
       "...          ...      ...      ...        ...  ...       ...   ...      ...   \n",
       "5470         NaN      NaN      NaN        NaN  NaN       NaN   NaN  1010602   \n",
       "5473         NaN      NaN      NaN        NaN  NaN       NaN   NaN  1014402   \n",
       "5482         NaN      NaN      NaN        NaN  NaN       NaN   NaN  1013400   \n",
       "5484         NaN      NaN      NaN        NaN  NaN       NaN   NaN  1012000   \n",
       "5485         NaN      NaN      NaN        NaN  NaN       NaN   NaN  1012602   \n",
       "\n",
       "        bctcb2020  \n",
       "1     10124003000  \n",
       "2     10124002001  \n",
       "3     10124002001  \n",
       "4     10124002000  \n",
       "5     10124002001  \n",
       "...           ...  \n",
       "5470  10106022001  \n",
       "5473  10144022000  \n",
       "5482  10134003000  \n",
       "5484  10120002001  \n",
       "5485  10126021000  \n",
       "\n",
       "[5374 rows x 101 columns]"
      ]
     },
     "execution_count": 73,
     "metadata": {},
     "output_type": "execute_result"
    }
   ],
   "source": [
    "(\n",
    "    pluto\n",
    "    .dropna(subset='numfloors')\n",
    ")"
   ]
  },
  {
   "cell_type": "markdown",
   "metadata": {},
   "source": [
    "fill missing:"
   ]
  },
  {
   "cell_type": "code",
   "execution_count": 75,
   "metadata": {},
   "outputs": [
    {
     "data": {
      "text/plain": [
       "0        0.0\n",
       "1        5.0\n",
       "2       20.0\n",
       "3        5.0\n",
       "4        6.0\n",
       "        ... \n",
       "5481     0.0\n",
       "5482     4.0\n",
       "5483     0.0\n",
       "5484     4.0\n",
       "5485     3.0\n",
       "Name: numfloors, Length: 5486, dtype: float64"
      ]
     },
     "execution_count": 75,
     "metadata": {},
     "output_type": "execute_result"
    }
   ],
   "source": [
    "(\n",
    "    pluto\n",
    "    ['numfloors']\n",
    "    .fillna(0)\n",
    ")"
   ]
  }
 ],
 "metadata": {
  "kernelspec": {
   "display_name": "urban-data-analysis",
   "language": "python",
   "name": "python3"
  },
  "language_info": {
   "codemirror_mode": {
    "name": "ipython",
    "version": 3
   },
   "file_extension": ".py",
   "mimetype": "text/x-python",
   "name": "python",
   "nbconvert_exporter": "python",
   "pygments_lexer": "ipython3",
   "version": "3.12.9"
  }
 },
 "nbformat": 4,
 "nbformat_minor": 2
}
